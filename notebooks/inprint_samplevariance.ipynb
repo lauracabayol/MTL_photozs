{
 "cells": [
  {
   "cell_type": "code",
   "execution_count": 1,
   "id": "97e03f3d-5a82-4325-8593-76dcf8310e8c",
   "metadata": {},
   "outputs": [],
   "source": [
    "import numpy as np\n",
    "import pandas as pd\n",
    "import matplotlib.pyplot as plt\n",
    "\n",
    "import torch\n",
    "import os\n",
    "\n",
    "from torch import nn, optim\n",
    "from torch.optim import lr_scheduler\n",
    "import time\n",
    "import SOM"
   ]
  },
  {
   "cell_type": "code",
   "execution_count": 2,
   "id": "90b7a0cc-e3c6-43f6-9e92-f160bb9814ed",
   "metadata": {},
   "outputs": [],
   "source": [
    "def sigma68(data): return 0.5*(pd.Series(data).quantile(q = 0.84) - pd.Series(data).quantile(q = 0.16))"
   ]
  },
  {
   "cell_type": "code",
   "execution_count": 3,
   "id": "0d77476b-d6c4-4442-84a6-4bddd851f02c",
   "metadata": {},
   "outputs": [],
   "source": [
    "def exposure_SN(cat_in, filters,  scale = True):\n",
    "\n",
    "    sn_lims =  {'U': 25.25, 'G': 24.65, 'R': 24.15, 'I': 24.35, 'ZN': 23.95,  'H':25,'J':25, 'Y':25}\n",
    "\n",
    "    scale_filters = [x for x in filters if scale == True]\n",
    "    lims = [sn_lims[x] for x in filters]\n",
    "\n",
    "    sn_val0 = 5\n",
    "    R = 1\n",
    "\n",
    "    sn_val = [(R*sn_val0 if x in scale_filters else sn_val0) for x in filters]\n",
    "\n",
    "    D = sn_val*10**(np.array(lims) / 5.)\n",
    "\n",
    "    mag = np.array(cat_in[[x for x in filters]])\n",
    "    SN_arr =  D*10**(-0.2*mag)\n",
    "\n",
    "\n",
    "    sn_min = 0\n",
    "    sn_max = lims\n",
    "\n",
    "\n",
    "    SN_arr = np.clip(SN_arr, sn_min, sn_max)\n",
    "    SN = pd.DataFrame(SN_arr, columns=filters, index= cat_in.index)\n",
    "\n",
    "    return SN\n",
    "\n"
   ]
  },
  {
   "cell_type": "code",
   "execution_count": 4,
   "id": "b497fe72-73c1-44f8-aae4-38568269bdf9",
   "metadata": {},
   "outputs": [],
   "source": [
    "catalog = pd.read_csv('/data/astro/scratch/lcabayol/Euclid/PAUS_mock_Euclidbands.csv', sep = ',', header = 0, comment = '#')\n",
    "catalog = catalog.sample(40000)\n",
    "catalog = catalog.dropna()\n",
    "\n",
    "catalog['ref_id'] = np.arange(len(catalog))\n",
    "\n",
    "nb_names_old = ['flux_nl_el_t_pau_nb%s'%x for x in 455+10*np.arange(40)]\n",
    "nb_names_new = ['NB%s'%x for x in 455+10*np.arange(40)]\n",
    "nb_name_dict = dict(zip(nb_names_old, nb_names_new))\n",
    "\n",
    "catalog_nb_nl = catalog.set_index('ref_id')[nb_names_old].rename(columns = nb_name_dict)\n",
    "\n",
    "bb_names_old = ['flux_nl_el_t_cfht_u','flux_nl_el_t_blanco_decam_g','flux_nl_el_t_blanco_decam_r','flux_nl_el_t_blanco_decam_i','flux_nl_el_t_blanco_decam_z','flux_nl_el_t_euclid_nisp_h','flux_nl_el_t_euclid_nisp_j','flux_nl_el_t_euclid_nisp_y']\n",
    "bb_names_new = ['U','G','R','I','ZN','H','J','Y']\n",
    "bb_name_dict = dict(zip(bb_names_old, bb_names_new))\n",
    "\n",
    "catalog_bb_nl = catalog.set_index('ref_id')[bb_names_old].rename(columns = bb_name_dict)\n"
   ]
  },
  {
   "cell_type": "code",
   "execution_count": 7,
   "id": "7ded406c-15c0-4aaa-915f-72841389c590",
   "metadata": {},
   "outputs": [],
   "source": [
    "# load fits from Martin Eriksen to estimate SNR from the flux\n",
    "\n",
    "snr_fit = pd.read_csv('/nfs/pic.es/user/l/lcabayol/Euclid/snr_fit.csv', sep = ',', header = 0)\n",
    "factors = snr_fit[snr_fit.key == 'med'].reset_index()\n",
    "\n",
    "aas = factors.a.values\n",
    "bs = factors.b.values\n",
    "\n",
    "f = 0.7\n",
    "SNR_NB = np.exp(aas*np.log(f*np.abs(catalog_nb_nl.values)) + bs)\n",
    "err = (np.abs(catalog_nb_nl.values) / SNR_NB)  * np.random.normal(0,1, size = (catalog_nb_nl.shape))\n",
    "\n",
    "catalog_nb = pd.DataFrame(catalog_nb_nl + err, columns = nb_names_new, index = catalog_nb_nl.index)\n",
    "catalog_nb_err = pd.DataFrame(np.abs(err), columns = nb_names_new, index = catalog_nb_nl.index)"
   ]
  },
  {
   "cell_type": "code",
   "execution_count": 8,
   "id": "32c1ef85-4f4d-4009-a442-9fc6ba786861",
   "metadata": {},
   "outputs": [],
   "source": [
    "catalog_bb_nl_mag = 26 - 2.5*np.log10(catalog_bb_nl)\n",
    "filters = bb_names_new.copy()\n",
    "\n",
    "SNR_flagship_BB = exposure_SN(catalog_bb_nl_mag, filters,  scale = True)\n",
    "\n",
    "err = np.abs(catalog_bb_nl / SNR_flagship_BB)\n",
    "err_rand = err * np.random.normal(0,1, size = (err.shape))\n",
    "\n",
    "catalog_bb = catalog_bb_nl.values + err_rand\n",
    "catalog_bb_err = np.abs(err_rand)\n",
    "\n",
    "catalog_bb = pd.DataFrame(catalog_bb, columns = bb_names_new, index = catalog_bb_nl.index)\n",
    "catalog_bb_err = pd.DataFrame(np.abs(err), columns = bb_names_new, index = catalog_bb_nl.index)\n"
   ]
  },
  {
   "cell_type": "code",
   "execution_count": 9,
   "id": "d81eb7ca-e175-46ce-994b-f408fa381197",
   "metadata": {},
   "outputs": [],
   "source": [
    "catalog_bb = 26 - 2.5*np.log10(catalog_bb)\n",
    "catalog_bb['target_zs'] = catalog.observed_redshift_gal.values\n",
    "m = np.arange(18,24,1)\n",
    "s68 = [0.0025,0.003,0.004,0.0045,0.0055,0.007]\n",
    "fSNR  = np.polyfit(m,s68,2)\n",
    "imag = catalog_bb.I.values\n",
    "\n",
    "dispersion_z = fSNR[0] * imag**2 + fSNR[1]*imag  + fSNR[2]\n",
    "photoz = catalog_bb.target_zs.values+  dispersion_z * np.random.normal(0,1,size = catalog_bb.shape[0])\n",
    "catalog_bb['target_zb'] = photoz\n",
    "\n",
    "#catalog_bb['target_train'] = catalog_bb.target_zs\n",
    "mask_train = np.random.choice([0,1], p = [0.7,0.3], size = len(catalog_bb))\n",
    "target_train = catalog_bb.target_zs * mask_train\n",
    "target_train = np.where(target_train== 0,catalog_bb.target_zb,catalog_bb.target_zs)\n",
    "catalog_bb['true_z'] = catalog_bb.target_zs\n",
    "catalog_bb['target_zs'] = catalog_bb.target_zs * mask_train\n",
    "catalog_bb['target_zb'] = target_train\n"
   ]
  },
  {
   "cell_type": "code",
   "execution_count": 10,
   "id": "39c9f290-b6d3-444e-a3b1-75c439683926",
   "metadata": {},
   "outputs": [],
   "source": [
    "catalog_bb = catalog_bb.dropna()"
   ]
  },
  {
   "cell_type": "markdown",
   "id": "8e2bfbbf-253f-43a3-8758-0179faa68ef5",
   "metadata": {},
   "source": [
    "## train SOM on the full catalogue"
   ]
  },
  {
   "cell_type": "code",
   "execution_count": 11,
   "id": "67321e48-c1f2-4c43-9b64-e91c3ee72756",
   "metadata": {},
   "outputs": [],
   "source": [
    "nx, ny = 40,40\n",
    "epochs = 100000"
   ]
  },
  {
   "cell_type": "code",
   "execution_count": 12,
   "id": "09dc7f59-e710-450f-ac64-8cceab648d5d",
   "metadata": {},
   "outputs": [],
   "source": [
    "selforgmap = SOM.SOM(x = nx, y = ny, epochs = epochs, vec_size = 7, metric = 'Euclidean',lr0 = 0.01, sigma0 = 5, initialisation = 'RandomNormal')\n"
   ]
  },
  {
   "cell_type": "code",
   "execution_count": 13,
   "id": "1fd739ab-06cd-40d7-8d98-d3ca8f2b4d7c",
   "metadata": {},
   "outputs": [],
   "source": [
    "training_sample = catalog_bb[['U','G','R','I','ZN','H','J','Y']].values\n",
    "training_sample = training_sample[:,:-1] - training_sample[:,1:]"
   ]
  },
  {
   "cell_type": "code",
   "execution_count": 14,
   "id": "d1eabc0a-21cc-425c-b5b3-c2aa1bbb6290",
   "metadata": {},
   "outputs": [],
   "source": [
    "selforgmap.train(training_sample, samples_epoch = 1)"
   ]
  },
  {
   "cell_type": "code",
   "execution_count": 15,
   "id": "dbf2832a-fc1a-41d3-a2df-cc33fbab1f9a",
   "metadata": {},
   "outputs": [],
   "source": [
    "bmus = []\n",
    "for k in range(len(training_sample)-1):\n",
    "    bmu = selforgmap.test_obj(training_sample[k:(k+1)])\n",
    "    bmus.append(bmu)\n",
    "bmu = selforgmap.test_obj(training_sample[(k+1):])\n",
    "bmus.append(bmu)"
   ]
  },
  {
   "cell_type": "code",
   "execution_count": 16,
   "id": "c04a7318-19a1-4de5-9e39-43a0b4ef37d0",
   "metadata": {},
   "outputs": [],
   "source": [
    "catalog_bb['bmu'] = np.array(bmus)"
   ]
  },
  {
   "cell_type": "code",
   "execution_count": 17,
   "id": "7bb707b6-00ba-49b5-9852-27f5095ca26d",
   "metadata": {},
   "outputs": [],
   "source": [
    "x_cells = np.arange(0,nx)\n",
    "y_cells = np.arange(0,ny)\n",
    "index_cell = np.arange(nx*ny)\n",
    "cells = np.array(np.meshgrid(x_cells,y_cells)).T.reshape(-1,2)\n",
    "cells = pd.DataFrame(np.c_[cells[:,0],cells[:,1],index_cell], columns = ['x_cell','y_cell','bmu'])\n"
   ]
  },
  {
   "cell_type": "markdown",
   "id": "cc81303a-5a6f-49fa-a2ce-3f66f02c80cb",
   "metadata": {},
   "source": [
    "catalog_bb =catalog_bb.drop_duplicates()"
   ]
  },
  {
   "cell_type": "code",
   "execution_count": 18,
   "id": "5b92a86a-18f0-466d-9d68-3d4e43228b05",
   "metadata": {
    "tags": []
   },
   "outputs": [],
   "source": [
    "catalog_bb = catalog_bb.merge(cells, on = 'bmu')\n",
    "som_vis = catalog_bb.groupby('bmu').target_zb.median().reset_index()\n",
    "som_vis = som_vis.merge(cells, on = 'bmu')\n",
    "som_data = som_vis.pivot(index = 'x_cell', columns = 'y_cell', values = 'target_zb')"
   ]
  },
  {
   "cell_type": "code",
   "execution_count": 19,
   "id": "0d795b16-1f89-40be-9a34-9c1c89f7e465",
   "metadata": {},
   "outputs": [
    {
     "data": {
      "text/plain": [
       "<matplotlib.image.AxesImage at 0x2b1a9c7ef100>"
      ]
     },
     "execution_count": 19,
     "metadata": {},
     "output_type": "execute_result"
    },
    {
     "data": {
      "image/png": "[encoded data removed]",
      "text/plain": [
       "<Figure size 432x288 with 1 Axes>"
      ]
     },
     "metadata": {
      "needs_background": "light"
     },
     "output_type": "display_data"
    }
   ],
   "source": [
    "plt.imshow(som_data)"
   ]
  },
  {
   "cell_type": "markdown",
   "id": "4ba53738-c717-48c8-a9df-dac0d5a2dfb4",
   "metadata": {},
   "source": [
    "## add missing colour space regions"
   ]
  },
  {
   "cell_type": "code",
   "execution_count": 20,
   "id": "1863d39a-25ef-44ec-96f0-5548b082d86e",
   "metadata": {},
   "outputs": [],
   "source": [
    "from sqlalchemy.engine import create_engine\n",
    "from sqlalchemy import *\n",
    "from sqlalchemy.orm import *\n",
    "\n",
    "engine = create_engine('postgresql://readonly@db03.pau.pic.es/dm')\n",
    "\n",
    "query = f\"\"\"\n",
    "    SELECT cm.paudm_id, cm.zspec, cm.\"I_auto\", cm.ra, cm.dec, cm.conf, cm.\"Umag\", cm.\"Bmag\", cm.\"Vmag\", cm.\"Rmag\", cm.\"ICmag\", cm.\"Zmag\"\n",
    "    FROM COSMOS as cm\n",
    "    \"\"\"\n",
    "\n",
    "with engine.begin() as conn:\n",
    "    conn.execute(\"SET TRANSACTION ISOLATION LEVEL SERIALIZABLE READ ONLY DEFERRABLE\")\n",
    "    ilbert = pd.read_sql(query, conn)\n"
   ]
  },
  {
   "cell_type": "code",
   "execution_count": null,
   "id": "f9f8b365-c3c1-4c77-b8d7-cd03c6669e5b",
   "metadata": {},
   "outputs": [],
   "source": []
  },
  {
   "cell_type": "code",
   "execution_count": null,
   "id": "b0c46a6b-f1c1-4feb-9708-e8ac79f86c68",
   "metadata": {},
   "outputs": [],
   "source": []
  },
  {
   "cell_type": "code",
   "execution_count": null,
   "id": "0175d234-4119-4638-9824-3d1479a92366",
   "metadata": {},
   "outputs": [],
   "source": []
  },
  {
   "cell_type": "code",
   "execution_count": null,
   "id": "d908d14e-8819-40e6-af3d-40e5f2186985",
   "metadata": {},
   "outputs": [],
   "source": []
  },
  {
   "cell_type": "code",
   "execution_count": null,
   "id": "379698e2-db80-49cb-81f4-22fe2c6a902e",
   "metadata": {},
   "outputs": [],
   "source": []
  },
  {
   "cell_type": "code",
   "execution_count": null,
   "id": "40f17cc7-f4e3-43e9-ac5b-b2e3434bcca6",
   "metadata": {},
   "outputs": [],
   "source": []
  },
  {
   "cell_type": "code",
   "execution_count": null,
   "id": "f192d400-9df7-4027-bfb4-684fa1641984",
   "metadata": {},
   "outputs": [],
   "source": []
  },
  {
   "cell_type": "code",
   "execution_count": null,
   "id": "09c9aa68-e084-4f2a-bd55-9f1199bc06ed",
   "metadata": {},
   "outputs": [],
   "source": []
  },
  {
   "cell_type": "code",
   "execution_count": 196,
   "id": "89297e36-670d-4a61-bda6-da3a37fa5233",
   "metadata": {},
   "outputs": [],
   "source": [
    "bmu_to_drop = cells[(cells.x_cell > 10)&(cells.x_cell < 25)&(cells.y_cell > 35)&(cells.y_cell <40)].bmu.values\n"
   ]
  },
  {
   "cell_type": "code",
   "execution_count": 197,
   "id": "c9809bb8-c530-499f-9eb4-0c553962f6ab",
   "metadata": {},
   "outputs": [],
   "source": [
    "catalog_bb[\"mask_train\"] = np.where(catalog_bb.bmu.isin(bmu_to_drop),0, 1)"
   ]
  },
  {
   "cell_type": "code",
   "execution_count": 198,
   "id": "f8fb4208-35ba-4fb8-a5c3-e199edb7fd27",
   "metadata": {},
   "outputs": [],
   "source": [
    "mask_train = np.random.choice([0,1], p = [0.7,0.3], size = len(catalog_bb))"
   ]
  },
  {
   "cell_type": "code",
   "execution_count": 199,
   "id": "ca10886d-db23-4b6d-98b4-9b0cb69b8b9c",
   "metadata": {},
   "outputs": [],
   "source": [
    "catalog_bb[\"mask_train\"] = catalog_bb.mask_train * mask_train"
   ]
  },
  {
   "cell_type": "code",
   "execution_count": 200,
   "id": "5676b062-b7e2-4a54-af3b-b8f5b9d1896f",
   "metadata": {},
   "outputs": [],
   "source": [
    "catalog_bb_zs = catalog_bb[catalog_bb.mask_train != 0]"
   ]
  },
  {
   "cell_type": "code",
   "execution_count": 201,
   "id": "ece29b9e-554e-42db-8d7e-083f1e867528",
   "metadata": {},
   "outputs": [],
   "source": [
    "som_vis = catalog_bb_zs.groupby('bmu').target_zb.median().reset_index()\n",
    "som_vis = som_vis.merge(cells, on = 'bmu')\n",
    "som_data = som_vis.pivot(index = 'x_cell', columns = 'y_cell', values = 'target_zb')"
   ]
  },
  {
   "cell_type": "code",
   "execution_count": 202,
   "id": "82b90367-3fcc-42ae-9cf5-93fffbcfe90a",
   "metadata": {},
   "outputs": [
    {
     "data": {
      "text/plain": [
       "<matplotlib.image.AxesImage at 0x2b5735eb69a0>"
      ]
     },
     "execution_count": 202,
     "metadata": {},
     "output_type": "execute_result"
    },
    {
     "data": {
      "image/png": "[encoded data removed]",
      "text/plain": [
       "<Figure size 432x288 with 1 Axes>"
      ]
     },
     "metadata": {
      "needs_background": "light"
     },
     "output_type": "display_data"
    }
   ],
   "source": [
    "plt.imshow(som_data)"
   ]
  },
  {
   "cell_type": "code",
   "execution_count": 203,
   "id": "ed164825-98c3-4b1c-90fb-290a41252e29",
   "metadata": {},
   "outputs": [],
   "source": [
    "catalog_bb['target_zs'] = catalog_bb.true_z.values"
   ]
  },
  {
   "cell_type": "code",
   "execution_count": 204,
   "id": "54faadaa-70a7-4fc6-9d93-b87d73c89b11",
   "metadata": {},
   "outputs": [],
   "source": [
    "m = np.arange(18,24,1)\n",
    "s68 = [0.0025,0.003,0.004,0.0045,0.0055,0.007]\n",
    "fSNR  = np.polyfit(m,s68,2)\n",
    "imag = catalog_bb.I.values\n",
    "\n",
    "dispersion_z = fSNR[0] * imag**2 + fSNR[1]*imag  + fSNR[2]\n",
    "photoz = catalog_bb.target_zs.values +  dispersion_z * np.random.normal(0,1,size = catalog_bb.shape[0])\n",
    "catalog_bb['target_zb'] = photoz"
   ]
  },
  {
   "cell_type": "code",
   "execution_count": 205,
   "id": "39d5f0a4-3a69-4c06-a520-89b97a960532",
   "metadata": {},
   "outputs": [
    {
     "data": {
      "text/plain": [
       "array([0.42585864, 0.29582788, 0.43239744, ..., 0.69472395, 0.65729886,\n",
       "       0.7661341 ])"
      ]
     },
     "execution_count": 205,
     "metadata": {},
     "output_type": "execute_result"
    }
   ],
   "source": [
    "photoz"
   ]
  },
  {
   "cell_type": "code",
   "execution_count": 206,
   "id": "91a0014e-421d-493e-b564-82ebb81d62bd",
   "metadata": {},
   "outputs": [],
   "source": [
    "target_train = catalog_bb.target_zs * catalog_bb.mask_train\n",
    "target_train = np.where(target_train== 0,catalog_bb.target_zb,catalog_bb.target_zs)\n",
    "catalog_bb['target_zs'] = catalog_bb.target_zs * mask_train\n",
    "catalog_bb['target_zb'] = target_train\n"
   ]
  },
  {
   "cell_type": "markdown",
   "id": "de75f988-f5ce-4d63-a112-9f16a201b50e",
   "metadata": {
    "tags": []
   },
   "source": [
    "## TRAIN NETWORKS"
   ]
  },
  {
   "cell_type": "markdown",
   "id": "14a51ba3-be29-4d8f-8d40-cbdac248e8eb",
   "metadata": {},
   "source": [
    "### BB"
   ]
  },
  {
   "cell_type": "code",
   "execution_count": 207,
   "id": "75f15255-639d-43eb-a740-eacc7d276ad7",
   "metadata": {},
   "outputs": [],
   "source": [
    "import MTLphotozs"
   ]
  },
  {
   "cell_type": "code",
   "execution_count": 208,
   "id": "5e899483-f8e2-4c8e-be3d-901435998501",
   "metadata": {},
   "outputs": [],
   "source": [
    "catalog_bb_sub = catalog_bb[catalog_bb.target_zs != 0]#.reset_index()\n",
    "catalog_nb_sub = catalog_nb[catalog_nb.index.isin(catalog_bb_sub.index)]\n",
    "catalog_nb_sub = 26-2.5*np.log10(catalog_nb_sub)"
   ]
  },
  {
   "cell_type": "code",
   "execution_count": 209,
   "id": "6f9d6378-dd28-46aa-ac65-7080f2f279d5",
   "metadata": {},
   "outputs": [],
   "source": [
    "BB = MTLphotozs.mtl_photoz(zs = True, flagship=True)\n",
    "catalog_training= catalog_bb_sub.copy()\n",
    "catalog_nb_train = catalog_nb_sub[catalog_nb_sub.index.isin(catalog_training.index)]\n",
    "\n",
    "training_loader = BB.create_loader(catalog_training,catalog_nb_train)\n",
    "BBnet = BB.train_mtl(training_loader, epochs = 65)"
   ]
  },
  {
   "cell_type": "markdown",
   "id": "cd3dee5b-25e6-4139-8e1f-086a9d36eed7",
   "metadata": {},
   "source": [
    "### BB + NB"
   ]
  },
  {
   "cell_type": "code",
   "execution_count": 210,
   "id": "56e7c64a-7ff0-4409-94a3-7bc4097796c6",
   "metadata": {},
   "outputs": [],
   "source": [
    "catalog_bb_sub = catalog_bb[catalog_bb.target_zb != 0].reset_index()\n",
    "catalog_nb_sub = catalog_nb[catalog_nb.index.isin(catalog_bb_sub.index)]\n",
    "catalog_nb_sub = 26-2.5*np.log10(catalog_nb_sub)"
   ]
  },
  {
   "cell_type": "code",
   "execution_count": 211,
   "id": "2090cf0b-858a-41c2-a140-b9bc7463570a",
   "metadata": {},
   "outputs": [],
   "source": [
    "BBNB = MTLphotozs.mtl_photoz(zs = False, zs_NB = True, flagship = True)\n",
    "catalog_training= catalog_bb_sub.copy()\n",
    "catalog_nb_train = catalog_nb_sub[catalog_nb_sub.index.isin(catalog_training.index)]\n",
    "\n",
    "training_loader = BBNB.create_loader(catalog_training,catalog_nb_train)\n",
    "BBNBnet = BBNB.train_mtl(training_loader, epochs = 65)"
   ]
  },
  {
   "cell_type": "markdown",
   "id": "715f4234-8f25-41d5-851f-9de89bbee19d",
   "metadata": {},
   "source": [
    "### BB + z"
   ]
  },
  {
   "cell_type": "code",
   "execution_count": 212,
   "id": "f5d81839-38f2-43fd-8bd4-3f0b5ed1bf31",
   "metadata": {},
   "outputs": [],
   "source": [
    "catalog_bb_sub = catalog_bb[catalog_bb.target_zb != 0].reset_index()\n",
    "catalog_nb_sub = catalog_nb[catalog_nb.index.isin(catalog_bb_sub.index)]\n",
    "catalog_nb_sub = 26-2.5*np.log10(catalog_nb_sub)"
   ]
  },
  {
   "cell_type": "code",
   "execution_count": 213,
   "id": "b340a505-4d23-4cd9-812a-8d5c8a7224a7",
   "metadata": {},
   "outputs": [],
   "source": [
    "BBz = MTLphotozs.mtl_photoz(zs = False, zs_zb = True, flagship = True)\n",
    "catalog_training= catalog_bb_sub.copy()\n",
    "catalog_nb_train = catalog_nb_sub[catalog_nb_sub.index.isin(catalog_training.index)]\n",
    "\n",
    "training_loader = BBz.create_loader(catalog_training,catalog_nb_train)\n",
    "BBznet = BBz.train_mtl(training_loader, epochs = 65)"
   ]
  },
  {
   "cell_type": "markdown",
   "id": "a00bff45-66b8-4d67-85ec-b7f64ab474ab",
   "metadata": {},
   "source": [
    "## BB + NB + z"
   ]
  },
  {
   "cell_type": "code",
   "execution_count": 214,
   "id": "64d8ffe2-d8c3-465f-ada0-0d8384aee384",
   "metadata": {},
   "outputs": [],
   "source": [
    "catalog_bb_sub = catalog_bb[catalog_bb.target_zb != 0].reset_index()\n",
    "catalog_nb_sub = catalog_nb[catalog_nb.index.isin(catalog_bb_sub.index)]\n",
    "catalog_nb_sub = 26-2.5*np.log10(catalog_nb_sub)"
   ]
  },
  {
   "cell_type": "code",
   "execution_count": 215,
   "id": "b5f32c2d-9e78-4f00-8ae9-096df6bef7c0",
   "metadata": {},
   "outputs": [],
   "source": [
    "BBNBz = MTLphotozs.mtl_photoz(zs = False, zs_NB_zb = True, flagship = True)\n",
    "catalog_training= catalog_bb_sub.copy()\n",
    "catalog_nb_train = catalog_nb_sub[catalog_nb_sub.index.isin(catalog_training.index)]\n",
    "\n",
    "training_loader = BBNBz.create_loader(catalog_training,catalog_nb_train)\n",
    "BBNBznet = BBNBz.train_mtl(training_loader, epochs = 65)"
   ]
  },
  {
   "cell_type": "markdown",
   "id": "334bd1c6-71b3-4153-a3f7-81039d8b22cc",
   "metadata": {},
   "source": [
    "## TEST TO i<25"
   ]
  },
  {
   "cell_type": "code",
   "execution_count": 216,
   "id": "2bac1418-1bef-420d-9982-858799029911",
   "metadata": {},
   "outputs": [],
   "source": [
    "catalog_test = pd.read_csv('/data/astro/scratch/lcabayol/Euclid/Euclid_mock_v2.csv', sep = ',', header = 0, comment = '#')\n",
    "catalog_test = catalog_test.dropna()\n",
    "catalog_test = catalog_test[catalog_test.observed_redshift_gal < 1.5]\n",
    "\n",
    "catalog_test['mag'] =  -2.5 * np.log10(catalog_test.blanco_decam_i) - 48.6\n",
    "catalog_test = catalog_test[catalog_test.mag < 25]\n",
    "catalog_test = catalog_test[catalog_test.mag > 18]\n",
    "catalog_test = catalog_test.sample(50000)\n",
    "catalog_test = catalog_test.reset_index()"
   ]
  },
  {
   "cell_type": "code",
   "execution_count": 217,
   "id": "428bd3ef-dfa6-465d-9dfb-3b7dc5e19bf0",
   "metadata": {},
   "outputs": [
    {
     "name": "stderr",
     "output_type": "stream",
     "text": [
      "/tmp/ipykernel_55/2075870673.py:21: RuntimeWarning: invalid value encountered in log10\n",
      "  samps_BB_spec_test = -2.5 * np.log10(samps_BB_spec_test) - 48.6\n"
     ]
    }
   ],
   "source": [
    "BB_name = ['cfis_u','blanco_decam_g','blanco_decam_r','blanco_decam_i','blanco_decam_z','euclid_nisp_h','euclid_nisp_j','euclid_nisp_y']\n",
    "catalog_bb_test = catalog_test[BB_name]\n",
    "bb_names_new = ['U','G','R','I','ZN','H','J','Y']\n",
    "bb_name_dict = dict(zip(BB_name, bb_names_new))\n",
    "\n",
    "catalog_bb_test_nl = catalog_bb_test.rename(columns = bb_name_dict)\n",
    "catalog_bb_test_nl_mag = -48.6 - 2.5*np.log10(catalog_bb_test_nl)\n",
    "filters = bb_names_new.copy()\n",
    "\n",
    "SNR_flagship_BB = exposure_SN(catalog_bb_test_nl_mag, filters,  scale = True)\n",
    "err = np.abs(catalog_bb_test_nl / SNR_flagship_BB)\n",
    "err_rand = err * np.random.normal(0,1, size = (err.shape))\n",
    "\n",
    "catalog_bb_test = catalog_bb_test_nl.values + err_rand.values\n",
    "\n",
    "catalog_bb_test = pd.DataFrame(catalog_bb_test, columns = bb_names_new)\n",
    "\n",
    "samps_BB_spec_test_store = catalog_bb_test.copy()\n",
    "\n",
    "samps_BB_spec_test = catalog_bb_test[bb_names_new].values\n",
    "samps_BB_spec_test = -2.5 * np.log10(samps_BB_spec_test) - 48.6\n",
    "\n",
    "zspec_test = catalog_test.observed_redshift_gal.values\n",
    "zb_bin_spec_test = 1000* zspec_test\n",
    "\n",
    "colors_spec_test = samps_BB_spec_test[:,:-1] - samps_BB_spec_test[:,1:] \n",
    "\n",
    "colors_spec_test, zspec_test, zb_bin_spec_test = torch.Tensor(colors_spec_test), torch.Tensor(zspec_test), torch.LongTensor(zb_bin_spec_test)\n",
    "mag_test = -2.5 * np.log10(catalog_bb_test.I) - 48.6\n"
   ]
  },
  {
   "cell_type": "code",
   "execution_count": 218,
   "id": "9c0c1e79-3304-48bd-bcb7-a6f94b400fde",
   "metadata": {},
   "outputs": [
    {
     "name": "stdout",
     "output_type": "stream",
     "text": [
      "Bias -0.026113589017789714 scatter 0.0839060300096442\n"
     ]
    }
   ],
   "source": [
    "BBnet = BBnet.eval()\n",
    "_, logalphas, z,logzerr = BBnet(colors_spec_test.cuda())\n",
    "alphas = torch.exp(logalphas)\n",
    "zb = (alphas * z).sum(1)\n",
    "zb,logzerr  = zb.detach().cpu().numpy(), logzerr.detach().cpu().numpy()\n",
    "\n",
    "df_bb = pd.DataFrame(np.c_[zb,zspec_test,mag_test], columns = ['zb_bb','zb_true','imag'])\n",
    "df_bb['rerr_bb'] = (df_bb.zb_bb - df_bb.zb_true) / (1 + df_bb.zb_true)\n",
    "print('Bias',np.nanmedian(df_bb.rerr_bb), 'scatter', sigma68(df_bb.rerr_bb))\n"
   ]
  },
  {
   "cell_type": "code",
   "execution_count": 219,
   "id": "ff3049e3-5dc7-40cb-b592-491e0d45c9d0",
   "metadata": {},
   "outputs": [
    {
     "name": "stdout",
     "output_type": "stream",
     "text": [
      "Bias -0.013756094557717233 scatter 0.08170200543610531\n"
     ]
    }
   ],
   "source": [
    "BBNBnet = BBNBnet.eval()\n",
    "_, logalphas, z,logzerr = BBNBnet(colors_spec_test.cuda()) \n",
    "alphas = torch.exp(logalphas)\n",
    "zb = (alphas * z).sum(1)\n",
    "zb,logzerr  = zb.detach().cpu().numpy(), logzerr.detach().cpu().numpy()\n",
    "\n",
    "df_bbnb = pd.DataFrame(np.c_[zb,zspec_test,mag_test], columns = ['zb_bbnb','zb_true','imag'])\n",
    "df_bbnb['rerr_bbnb'] = (df_bbnb.zb_bbnb - df_bbnb.zb_true) / (1 + df_bbnb.zb_true)\n",
    "print('Bias',np.nanmedian(df_bbnb.rerr_bbnb), 'scatter', sigma68(df_bbnb.rerr_bbnb))\n"
   ]
  },
  {
   "cell_type": "code",
   "execution_count": 220,
   "id": "a2fee119-165e-4463-8b95-c824cb9f6ab5",
   "metadata": {},
   "outputs": [
    {
     "name": "stdout",
     "output_type": "stream",
     "text": [
      "Bias -0.016655611424188234 scatter 0.07845537726902894\n"
     ]
    }
   ],
   "source": [
    "BBznet = BBznet.eval()\n",
    "_, logalphas, z,logzerr = BBznet(colors_spec_test.cuda()) \n",
    "alphas = torch.exp(logalphas)\n",
    "zb = (alphas * z).sum(1)\n",
    "zb,logzerr  = zb.detach().cpu().numpy(), logzerr.detach().cpu().numpy()\n",
    "\n",
    "df_bbz = pd.DataFrame(np.c_[zb,zspec_test,mag_test], columns = ['zb_bbz','zb_true','imag'])\n",
    "df_bbz['rerr_bbz'] = (df_bbz.zb_bbz - df_bbz.zb_true) / (1 + df_bbz.zb_true)\n",
    "print('Bias',np.nanmedian(df_bbz.rerr_bbz), 'scatter', sigma68(df_bbz.rerr_bbz))\n"
   ]
  },
  {
   "cell_type": "code",
   "execution_count": 221,
   "id": "83b3ac6b-30d5-44af-8a9a-fb3e12770b5d",
   "metadata": {},
   "outputs": [
    {
     "name": "stdout",
     "output_type": "stream",
     "text": [
      "Bias -0.018175435193315888 scatter 0.07916176311491355\n"
     ]
    }
   ],
   "source": [
    "BBNBznet = BBNBznet.eval()\n",
    "_, logalphas, z,logzerr = BBNBznet(colors_spec_test.cuda()) \n",
    "alphas = torch.exp(logalphas)\n",
    "zb = (alphas * z).sum(1)\n",
    "zb,logzerr  = zb.detach().cpu().numpy(), logzerr.detach().cpu().numpy()\n",
    "\n",
    "df_bbnbz = pd.DataFrame(np.c_[zb,zspec_test,mag_test], columns = ['zb_bbnbz','zb_true','imag'])\n",
    "df_bbnbz['rerr_bbnbz'] = (df_bbnbz.zb_bbnbz - df_bbnbz.zb_true) / (1 + df_bbnbz.zb_true)\n",
    "print('Bias',np.nanmedian(df_bbnbz.rerr_bbnbz), 'scatter', sigma68(df_bbnbz.rerr_bbnbz))\n"
   ]
  },
  {
   "cell_type": "code",
   "execution_count": 222,
   "id": "52f7d819-56e5-43c5-a9dd-753de1951594",
   "metadata": {},
   "outputs": [
    {
     "data": {
      "text/html": [
       "<div>\n",
       "<style scoped>\n",
       "    .dataframe tbody tr th:only-of-type {\n",
       "        vertical-align: middle;\n",
       "    }\n",
       "\n",
       "    .dataframe tbody tr th {\n",
       "        vertical-align: top;\n",
       "    }\n",
       "\n",
       "    .dataframe thead th {\n",
       "        text-align: right;\n",
       "    }\n",
       "</style>\n",
       "<table border=\"1\" class=\"dataframe\">\n",
       "  <thead>\n",
       "    <tr style=\"text-align: right;\">\n",
       "      <th></th>\n",
       "      <th>zb_bb</th>\n",
       "      <th>zb_true</th>\n",
       "      <th>imag</th>\n",
       "      <th>rerr_bb</th>\n",
       "    </tr>\n",
       "  </thead>\n",
       "  <tbody>\n",
       "    <tr>\n",
       "      <th>0</th>\n",
       "      <td>0.582471</td>\n",
       "      <td>0.604271</td>\n",
       "      <td>21.039641</td>\n",
       "      <td>-0.013589</td>\n",
       "    </tr>\n",
       "    <tr>\n",
       "      <th>1</th>\n",
       "      <td>0.602772</td>\n",
       "      <td>0.521043</td>\n",
       "      <td>24.934057</td>\n",
       "      <td>0.053733</td>\n",
       "    </tr>\n",
       "    <tr>\n",
       "      <th>2</th>\n",
       "      <td>0.327030</td>\n",
       "      <td>0.334584</td>\n",
       "      <td>20.950330</td>\n",
       "      <td>-0.005660</td>\n",
       "    </tr>\n",
       "    <tr>\n",
       "      <th>3</th>\n",
       "      <td>0.957835</td>\n",
       "      <td>0.767161</td>\n",
       "      <td>23.848143</td>\n",
       "      <td>0.107899</td>\n",
       "    </tr>\n",
       "    <tr>\n",
       "      <th>4</th>\n",
       "      <td>0.863718</td>\n",
       "      <td>1.079127</td>\n",
       "      <td>22.769616</td>\n",
       "      <td>-0.103605</td>\n",
       "    </tr>\n",
       "    <tr>\n",
       "      <th>...</th>\n",
       "      <td>...</td>\n",
       "      <td>...</td>\n",
       "      <td>...</td>\n",
       "      <td>...</td>\n",
       "    </tr>\n",
       "    <tr>\n",
       "      <th>49995</th>\n",
       "      <td>1.191513</td>\n",
       "      <td>1.282756</td>\n",
       "      <td>23.853770</td>\n",
       "      <td>-0.039971</td>\n",
       "    </tr>\n",
       "    <tr>\n",
       "      <th>49996</th>\n",
       "      <td>0.428452</td>\n",
       "      <td>0.332815</td>\n",
       "      <td>21.774633</td>\n",
       "      <td>0.071756</td>\n",
       "    </tr>\n",
       "    <tr>\n",
       "      <th>49997</th>\n",
       "      <td>0.601948</td>\n",
       "      <td>0.414968</td>\n",
       "      <td>23.583569</td>\n",
       "      <td>0.132144</td>\n",
       "    </tr>\n",
       "    <tr>\n",
       "      <th>49998</th>\n",
       "      <td>1.121517</td>\n",
       "      <td>1.325267</td>\n",
       "      <td>24.206573</td>\n",
       "      <td>-0.087624</td>\n",
       "    </tr>\n",
       "    <tr>\n",
       "      <th>49999</th>\n",
       "      <td>0.221435</td>\n",
       "      <td>0.195540</td>\n",
       "      <td>21.197103</td>\n",
       "      <td>0.021660</td>\n",
       "    </tr>\n",
       "  </tbody>\n",
       "</table>\n",
       "<p>50000 rows × 4 columns</p>\n",
       "</div>"
      ],
      "text/plain": [
       "          zb_bb   zb_true       imag   rerr_bb\n",
       "0      0.582471  0.604271  21.039641 -0.013589\n",
       "1      0.602772  0.521043  24.934057  0.053733\n",
       "2      0.327030  0.334584  20.950330 -0.005660\n",
       "3      0.957835  0.767161  23.848143  0.107899\n",
       "4      0.863718  1.079127  22.769616 -0.103605\n",
       "...         ...       ...        ...       ...\n",
       "49995  1.191513  1.282756  23.853770 -0.039971\n",
       "49996  0.428452  0.332815  21.774633  0.071756\n",
       "49997  0.601948  0.414968  23.583569  0.132144\n",
       "49998  1.121517  1.325267  24.206573 -0.087624\n",
       "49999  0.221435  0.195540  21.197103  0.021660\n",
       "\n",
       "[50000 rows x 4 columns]"
      ]
     },
     "execution_count": 222,
     "metadata": {},
     "output_type": "execute_result"
    }
   ],
   "source": [
    "df_bb"
   ]
  },
  {
   "cell_type": "code",
   "execution_count": 223,
   "id": "ef64357a-4602-446b-b711-de18cacebf36",
   "metadata": {},
   "outputs": [],
   "source": [
    "df = df_bb.reset_index().merge(df_bbnb[['zb_bbnb','rerr_bbnb']].reset_index(), on = 'index')\n",
    "df = df.merge(df_bbz[['zb_bbz','rerr_bbz']].reset_index(), on = 'index')\n",
    "df = df.merge(df_bbnbz[['zb_bbnbz','rerr_bbnbz']].reset_index(), on = 'index')"
   ]
  },
  {
   "cell_type": "code",
   "execution_count": 150,
   "id": "b08b598d-3aa0-453b-b630-35e4f12db07a",
   "metadata": {},
   "outputs": [
    {
     "data": {
      "text/html": [
       "<div>\n",
       "<style scoped>\n",
       "    .dataframe tbody tr th:only-of-type {\n",
       "        vertical-align: middle;\n",
       "    }\n",
       "\n",
       "    .dataframe tbody tr th {\n",
       "        vertical-align: top;\n",
       "    }\n",
       "\n",
       "    .dataframe thead th {\n",
       "        text-align: right;\n",
       "    }\n",
       "</style>\n",
       "<table border=\"1\" class=\"dataframe\">\n",
       "  <thead>\n",
       "    <tr style=\"text-align: right;\">\n",
       "      <th></th>\n",
       "      <th>index</th>\n",
       "      <th>zb_bb</th>\n",
       "      <th>zb_true</th>\n",
       "      <th>imag</th>\n",
       "      <th>rerr_bb</th>\n",
       "      <th>zb_bbnb</th>\n",
       "      <th>rerr_bbnb</th>\n",
       "      <th>zb_bbz</th>\n",
       "      <th>rerr_bbz</th>\n",
       "      <th>zb_bbnbz</th>\n",
       "      <th>rerr_bbnbz</th>\n",
       "    </tr>\n",
       "  </thead>\n",
       "  <tbody>\n",
       "    <tr>\n",
       "      <th>0</th>\n",
       "      <td>0</td>\n",
       "      <td>0.800118</td>\n",
       "      <td>0.713547</td>\n",
       "      <td>23.556600</td>\n",
       "      <td>0.050522</td>\n",
       "      <td>0.769365</td>\n",
       "      <td>0.032575</td>\n",
       "      <td>0.769617</td>\n",
       "      <td>0.032722</td>\n",
       "      <td>0.774210</td>\n",
       "      <td>0.035402</td>\n",
       "    </tr>\n",
       "    <tr>\n",
       "      <th>1</th>\n",
       "      <td>1</td>\n",
       "      <td>0.556525</td>\n",
       "      <td>0.336803</td>\n",
       "      <td>24.857080</td>\n",
       "      <td>0.164364</td>\n",
       "      <td>0.499685</td>\n",
       "      <td>0.121845</td>\n",
       "      <td>0.564727</td>\n",
       "      <td>0.170499</td>\n",
       "      <td>0.728773</td>\n",
       "      <td>0.293215</td>\n",
       "    </tr>\n",
       "    <tr>\n",
       "      <th>2</th>\n",
       "      <td>2</td>\n",
       "      <td>1.052051</td>\n",
       "      <td>1.165612</td>\n",
       "      <td>23.105047</td>\n",
       "      <td>-0.052439</td>\n",
       "      <td>1.071965</td>\n",
       "      <td>-0.043243</td>\n",
       "      <td>1.087795</td>\n",
       "      <td>-0.035933</td>\n",
       "      <td>1.071127</td>\n",
       "      <td>-0.043630</td>\n",
       "    </tr>\n",
       "    <tr>\n",
       "      <th>3</th>\n",
       "      <td>3</td>\n",
       "      <td>0.226300</td>\n",
       "      <td>0.334477</td>\n",
       "      <td>23.362350</td>\n",
       "      <td>-0.081064</td>\n",
       "      <td>0.210945</td>\n",
       "      <td>-0.092570</td>\n",
       "      <td>0.218657</td>\n",
       "      <td>-0.086790</td>\n",
       "      <td>0.206059</td>\n",
       "      <td>-0.096231</td>\n",
       "    </tr>\n",
       "    <tr>\n",
       "      <th>4</th>\n",
       "      <td>4</td>\n",
       "      <td>0.950886</td>\n",
       "      <td>1.467650</td>\n",
       "      <td>24.051142</td>\n",
       "      <td>-0.209416</td>\n",
       "      <td>1.231437</td>\n",
       "      <td>-0.095724</td>\n",
       "      <td>1.480692</td>\n",
       "      <td>0.005285</td>\n",
       "      <td>1.488136</td>\n",
       "      <td>0.008302</td>\n",
       "    </tr>\n",
       "    <tr>\n",
       "      <th>...</th>\n",
       "      <td>...</td>\n",
       "      <td>...</td>\n",
       "      <td>...</td>\n",
       "      <td>...</td>\n",
       "      <td>...</td>\n",
       "      <td>...</td>\n",
       "      <td>...</td>\n",
       "      <td>...</td>\n",
       "      <td>...</td>\n",
       "      <td>...</td>\n",
       "      <td>...</td>\n",
       "    </tr>\n",
       "    <tr>\n",
       "      <th>49995</th>\n",
       "      <td>49995</td>\n",
       "      <td>0.696691</td>\n",
       "      <td>0.830941</td>\n",
       "      <td>24.181551</td>\n",
       "      <td>-0.073323</td>\n",
       "      <td>0.737589</td>\n",
       "      <td>-0.050986</td>\n",
       "      <td>0.728028</td>\n",
       "      <td>-0.056208</td>\n",
       "      <td>0.781229</td>\n",
       "      <td>-0.027151</td>\n",
       "    </tr>\n",
       "    <tr>\n",
       "      <th>49996</th>\n",
       "      <td>49996</td>\n",
       "      <td>1.296587</td>\n",
       "      <td>1.177190</td>\n",
       "      <td>24.145733</td>\n",
       "      <td>0.054840</td>\n",
       "      <td>1.305034</td>\n",
       "      <td>0.058720</td>\n",
       "      <td>1.243750</td>\n",
       "      <td>0.030572</td>\n",
       "      <td>1.264142</td>\n",
       "      <td>0.039938</td>\n",
       "    </tr>\n",
       "    <tr>\n",
       "      <th>49997</th>\n",
       "      <td>49997</td>\n",
       "      <td>0.800625</td>\n",
       "      <td>1.342604</td>\n",
       "      <td>24.151377</td>\n",
       "      <td>-0.231357</td>\n",
       "      <td>0.831107</td>\n",
       "      <td>-0.218345</td>\n",
       "      <td>0.974824</td>\n",
       "      <td>-0.156996</td>\n",
       "      <td>0.968944</td>\n",
       "      <td>-0.159506</td>\n",
       "    </tr>\n",
       "    <tr>\n",
       "      <th>49998</th>\n",
       "      <td>49998</td>\n",
       "      <td>0.448537</td>\n",
       "      <td>0.563336</td>\n",
       "      <td>24.698695</td>\n",
       "      <td>-0.073432</td>\n",
       "      <td>0.440028</td>\n",
       "      <td>-0.078875</td>\n",
       "      <td>0.472959</td>\n",
       "      <td>-0.057810</td>\n",
       "      <td>0.477657</td>\n",
       "      <td>-0.054805</td>\n",
       "    </tr>\n",
       "    <tr>\n",
       "      <th>49999</th>\n",
       "      <td>49999</td>\n",
       "      <td>0.896946</td>\n",
       "      <td>0.933378</td>\n",
       "      <td>24.125801</td>\n",
       "      <td>-0.018844</td>\n",
       "      <td>0.884236</td>\n",
       "      <td>-0.025418</td>\n",
       "      <td>0.906024</td>\n",
       "      <td>-0.014148</td>\n",
       "      <td>0.887025</td>\n",
       "      <td>-0.023975</td>\n",
       "    </tr>\n",
       "  </tbody>\n",
       "</table>\n",
       "<p>50000 rows × 11 columns</p>\n",
       "</div>"
      ],
      "text/plain": [
       "       index     zb_bb   zb_true       imag   rerr_bb   zb_bbnb  rerr_bbnb  \\\n",
       "0          0  0.800118  0.713547  23.556600  0.050522  0.769365   0.032575   \n",
       "1          1  0.556525  0.336803  24.857080  0.164364  0.499685   0.121845   \n",
       "2          2  1.052051  1.165612  23.105047 -0.052439  1.071965  -0.043243   \n",
       "3          3  0.226300  0.334477  23.362350 -0.081064  0.210945  -0.092570   \n",
       "4          4  0.950886  1.467650  24.051142 -0.209416  1.231437  -0.095724   \n",
       "...      ...       ...       ...        ...       ...       ...        ...   \n",
       "49995  49995  0.696691  0.830941  24.181551 -0.073323  0.737589  -0.050986   \n",
       "49996  49996  1.296587  1.177190  24.145733  0.054840  1.305034   0.058720   \n",
       "49997  49997  0.800625  1.342604  24.151377 -0.231357  0.831107  -0.218345   \n",
       "49998  49998  0.448537  0.563336  24.698695 -0.073432  0.440028  -0.078875   \n",
       "49999  49999  0.896946  0.933378  24.125801 -0.018844  0.884236  -0.025418   \n",
       "\n",
       "         zb_bbz  rerr_bbz  zb_bbnbz  rerr_bbnbz  \n",
       "0      0.769617  0.032722  0.774210    0.035402  \n",
       "1      0.564727  0.170499  0.728773    0.293215  \n",
       "2      1.087795 -0.035933  1.071127   -0.043630  \n",
       "3      0.218657 -0.086790  0.206059   -0.096231  \n",
       "4      1.480692  0.005285  1.488136    0.008302  \n",
       "...         ...       ...       ...         ...  \n",
       "49995  0.728028 -0.056208  0.781229   -0.027151  \n",
       "49996  1.243750  0.030572  1.264142    0.039938  \n",
       "49997  0.974824 -0.156996  0.968944   -0.159506  \n",
       "49998  0.472959 -0.057810  0.477657   -0.054805  \n",
       "49999  0.906024 -0.014148  0.887025   -0.023975  \n",
       "\n",
       "[50000 rows x 11 columns]"
      ]
     },
     "execution_count": 150,
     "metadata": {},
     "output_type": "execute_result"
    }
   ],
   "source": [
    "df"
   ]
  },
  {
   "cell_type": "code",
   "execution_count": 224,
   "id": "6ba6b1e6-e812-43ea-bd63-9d0c51a09142",
   "metadata": {},
   "outputs": [],
   "source": [
    "#colors_spec_test = colors_spec_test.detach().cpu().numpy()\n",
    "bmus = []\n",
    "for k in range(len(colors_spec_test)-1):\n",
    "    bmu = selforgmap.test_obj(colors_spec_test[k:(k+1)])\n",
    "    bmus.append(bmu)\n",
    "bmu = selforgmap.test_obj(colors_spec_test[(k+1):])\n",
    "bmus.append(bmu)"
   ]
  },
  {
   "cell_type": "code",
   "execution_count": 225,
   "id": "8447038d-e62b-4c78-af9d-5e8482ba5f9d",
   "metadata": {},
   "outputs": [],
   "source": [
    "df['bmu'] = np.array(bmus)\n",
    "\n",
    "df = df.merge(cells, on = 'bmu')"
   ]
  },
  {
   "cell_type": "code",
   "execution_count": 226,
   "id": "657ba6a2-3325-4d6c-b545-c5b83a797430",
   "metadata": {},
   "outputs": [],
   "source": [
    "df_sub = df[df.imag < 23]"
   ]
  },
  {
   "cell_type": "code",
   "execution_count": 228,
   "id": "a90834fb-07a8-49d8-9126-850d7e526d1e",
   "metadata": {},
   "outputs": [],
   "source": [
    "som_vis_bb = df.groupby('bmu').rerr_bb.apply(sigma68).reset_index()\n",
    "som_vis_bb = som_vis_bb.merge(cells, on = 'bmu')\n",
    "som_data_bb = som_vis_bb.pivot(index = 'x_cell', columns = 'y_cell', values = 'rerr_bb')\n",
    "\n",
    "som_vis_bbnb = df.groupby('bmu').rerr_bbnb.apply(sigma68).reset_index()\n",
    "som_vis_bbnb = som_vis_bbnb.merge(cells, on = 'bmu')\n",
    "som_data_bbnb = som_vis_bbnb.pivot(index = 'x_cell', columns = 'y_cell', values = 'rerr_bbnb')\n",
    "\n",
    "som_vis_bbz = df.groupby('bmu').rerr_bbz.apply(sigma68).reset_index()\n",
    "som_vis_bbz = som_vis_bbz.merge(cells, on = 'bmu')\n",
    "som_data_bbz = som_vis_bbz.pivot(index = 'x_cell', columns = 'y_cell', values = 'rerr_bbz')\n",
    "\n",
    "som_vis_bbnbz = df.groupby('bmu').rerr_bbnbz.apply(sigma68).reset_index()\n",
    "som_vis_bbnbz = som_vis_bbnbz.merge(cells, on = 'bmu')\n",
    "som_data_bbnbz = som_vis_bbnbz.pivot(index = 'x_cell', columns = 'y_cell', values = 'rerr_bbnbz')\n",
    "\n"
   ]
  },
  {
   "cell_type": "code",
   "execution_count": 193,
   "id": "cfe88716-7892-4b7a-9131-a9b5fba5dfae",
   "metadata": {},
   "outputs": [],
   "source": [
    "som_vis_bb = df.groupby('bmu').zb_true.median().reset_index()\n",
    "som_vis_bb = som_vis_bb.merge(cells, on = 'bmu')\n",
    "som_data_bb = som_vis_bb.pivot(index = 'x_cell', columns = 'y_cell', values = 'zb_true')\n",
    "\n",
    "som_vis_bbnb = df.groupby('bmu').rerr_bbnb.median().reset_index()\n",
    "som_vis_bbnb = som_vis_bbnb.merge(cells, on = 'bmu')\n",
    "som_data_bbnb = som_vis_bbnb.pivot(index = 'x_cell', columns = 'y_cell', values = 'rerr_bbnb')\n",
    "\n",
    "som_vis_bbz = df.groupby('bmu').rerr_bbz.median().reset_index()\n",
    "som_vis_bbz = som_vis_bbz.merge(cells, on = 'bmu')\n",
    "som_data_bbz = som_vis_bbz.pivot(index = 'x_cell', columns = 'y_cell', values = 'rerr_bbz')\n",
    "\n",
    "som_vis_bbnbz = df.groupby('bmu').rerr_bbnbz.median().reset_index()\n",
    "som_vis_bbnbz = som_vis_bbnbz.merge(cells, on = 'bmu')\n",
    "som_data_bbnbz = som_vis_bbnbz.pivot(index = 'x_cell', columns = 'y_cell', values = 'rerr_bbnbz')\n",
    "\n"
   ]
  },
  {
   "cell_type": "code",
   "execution_count": 229,
   "id": "970068d9-7574-4cea-a08f-abb28b72777f",
   "metadata": {},
   "outputs": [
    {
     "data": {
      "text/plain": [
       "<matplotlib.colorbar.Colorbar at 0x2b5734f05790>"
      ]
     },
     "execution_count": 229,
     "metadata": {},
     "output_type": "execute_result"
    },
    {
     "data": {
      "image/png": "[encoded data removed]",
      "text/plain": [
       "<Figure size 432x288 with 2 Axes>"
      ]
     },
     "metadata": {
      "needs_background": "light"
     },
     "output_type": "display_data"
    }
   ],
   "source": [
    "plt.imshow(som_data_bbnbz)\n",
    "plt.colorbar()"
   ]
  },
  {
   "cell_type": "code",
   "execution_count": 230,
   "id": "cf6caeb6-bce1-4273-babc-b0b17a1a4cff",
   "metadata": {},
   "outputs": [
    {
     "data": {
      "text/plain": [
       "<matplotlib.colorbar.Colorbar at 0x2b5734f53f40>"
      ]
     },
     "execution_count": 230,
     "metadata": {},
     "output_type": "execute_result"
    },
    {
     "data": {
      "image/png": "[encoded data removed]",
      "text/plain": [
       "<Figure size 432x288 with 2 Axes>"
      ]
     },
     "metadata": {
      "needs_background": "light"
     },
     "output_type": "display_data"
    }
   ],
   "source": [
    "plt.imshow(som_data_bbz)\n",
    "plt.colorbar()"
   ]
  },
  {
   "cell_type": "code",
   "execution_count": 231,
   "id": "5923c0aa-5568-473b-9e27-8db1344293d5",
   "metadata": {},
   "outputs": [
    {
     "data": {
      "text/plain": [
       "<matplotlib.colorbar.Colorbar at 0x2b5738104130>"
      ]
     },
     "execution_count": 231,
     "metadata": {},
     "output_type": "execute_result"
    },
    {
     "data": {
      "image/png": "[encoded data removed]",
      "text/plain": [
       "<Figure size 432x288 with 2 Axes>"
      ]
     },
     "metadata": {
      "needs_background": "light"
     },
     "output_type": "display_data"
    }
   ],
   "source": [
    "plt.imshow(som_data_bb)\n",
    "plt.colorbar()"
   ]
  },
  {
   "cell_type": "code",
   "execution_count": null,
   "id": "4370885e-373c-4fb6-a1eb-1b111742339d",
   "metadata": {},
   "outputs": [],
   "source": [
    "## conclusion: different colourspace regions could correcpond tothe same type of galaxies."
   ]
  }
 ],
 "metadata": {
  "kernelspec": {
   "display_name": "DLenv2",
   "language": "python",
   "name": "dlenv2"
  },
  "language_info": {
   "codemirror_mode": {
    "name": "ipython",
    "version": 3
   },
   "file_extension": ".py",
   "mimetype": "text/x-python",
   "name": "python",
   "nbconvert_exporter": "python",
   "pygments_lexer": "ipython3",
   "version": "3.9.7"
  }
 },
 "nbformat": 4,
 "nbformat_minor": 5
}
