{
 "cells": [
  {
   "cell_type": "code",
   "execution_count": 1,
   "id": "3c7929c4-7249-4d1c-a34e-a00849f1e278",
   "metadata": {},
   "outputs": [],
   "source": [
    "import numpy as np\n",
    "import pandas as pd\n",
    "import matplotlib.pyplot as plt\n",
    "\n",
    "import torch\n",
    "import os\n",
    "\n",
    "from torch import nn, optim\n",
    "from torch.optim import lr_scheduler\n",
    "import time\n"
   ]
  },
  {
   "cell_type": "code",
   "execution_count": 2,
   "id": "91560be1-a3e6-456b-86ca-d653090baecc",
   "metadata": {},
   "outputs": [],
   "source": [
    "def sigma68(data): return 0.5*(pd.Series(data).quantile(q = 0.84) - pd.Series(data).quantile(q = 0.16))"
   ]
  },
  {
   "cell_type": "markdown",
   "id": "8bf081f6-bd81-4804-82c9-9ce47ae30d0c",
   "metadata": {},
   "source": [
    "# TEST CFHT"
   ]
  },
  {
   "cell_type": "code",
   "execution_count": 3,
   "id": "2584cdde-3b2a-4dc6-9964-e147928e55bc",
   "metadata": {},
   "outputs": [],
   "source": [
    "d = '/data/astro/scratch/eriksen/data/vipers'\n",
    "df_in = pd.read_csv(os.path.join(d,'vipers_full.csv'), comment='#')\n",
    "df_in = df_in[df_in.alpha < 50]\n",
    "df_in = df_in.rename(columns={'alpha': 'ra', 'delta': 'dec'})"
   ]
  },
  {
   "cell_type": "code",
   "execution_count": 5,
   "id": "efdbf516-4301-4160-a505-3ea61fbe10d9",
   "metadata": {},
   "outputs": [],
   "source": [
    "from sqlalchemy.engine import create_engine\n",
    "from sqlalchemy import *\n",
    "from sqlalchemy.orm import *\n",
    "\n",
    "engine = create_engine('postgresql://readonly@db03.pau.pic.es/dm')\n",
    "\n",
    "query = f\"\"\"SELECT cm.paudm_id, cm.alpha_j2000, cm.delta_j2000, cm.mag_u, cm.mag_g, cm.mag_r, cm.mag_i, cm.mag_y, cm.mag_z, cm.magerr_u, cm.magerr_g, cm.magerr_r, cm.magerr_i, cm.magerr_y, cm.magerr_z\n",
    "FROM cfhtlens as cm\n",
    "WHERE cm.alpha_j2000 <50\n",
    "AND cm.delta_j2000 < 0\"\"\"\n",
    "\n",
    "with engine.begin() as conn:\n",
    "    conn.execute(\"SET TRANSACTION ISOLATION LEVEL SERIALIZABLE READ ONLY DEFERRABLE\")\n",
    "    cfht_cat = pd.read_sql(query, conn)\n"
   ]
  },
  {
   "cell_type": "code",
   "execution_count": 6,
   "id": "22952ea8-3636-4476-9cc8-ad02aa0cac9d",
   "metadata": {},
   "outputs": [],
   "source": [
    "cfht_cat = cfht_cat.rename(columns={'alpha_j2000': 'ra', 'delta_j2000': 'dec'})"
   ]
  },
  {
   "cell_type": "code",
   "execution_count": 7,
   "id": "aa1fdb29-97e7-4140-82c3-7964f40a615d",
   "metadata": {},
   "outputs": [],
   "source": [
    "from sklearn.neighbors import KDTree\n",
    "inst = KDTree(cfht_cat[['ra', 'dec']])\n",
    "dist, ind = inst.query(df_in[['ra', 'dec']])"
   ]
  },
  {
   "cell_type": "code",
   "execution_count": 8,
   "id": "f646984d-dd4c-42b7-9e76-de78da0e5332",
   "metadata": {},
   "outputs": [],
   "source": [
    "index_name = cfht_cat.index.name\n",
    "mapping = pd.DataFrame({'dist': dist[:, 0],\n",
    "                        index_name: cfht_cat.index[ind[:, 0]],\n",
    "                        'match_id': df_in.index,\n",
    "                        'zspec': df_in.zspec, })\n",
    "mapping = mapping.set_index(index_name)"
   ]
  },
  {
   "cell_type": "code",
   "execution_count": 9,
   "id": "82844add-c2ca-49ec-a53e-67b201267187",
   "metadata": {},
   "outputs": [],
   "source": [
    "max_dist = 1 / 3600.\n",
    "mapping = mapping[mapping.dist < max_dist]"
   ]
  },
  {
   "cell_type": "code",
   "execution_count": 10,
   "id": "4ad2031a-a0ea-4ad1-856d-f4c80719838f",
   "metadata": {},
   "outputs": [],
   "source": [
    "mapping = mapping.reset_index().drop_duplicates(['index'])"
   ]
  },
  {
   "cell_type": "code",
   "execution_count": 11,
   "id": "f37d3eee-8b3e-4286-ba50-7e58afda3cba",
   "metadata": {},
   "outputs": [],
   "source": [
    "cfht_cat['zspec']= 0\n",
    "cfht_cat.loc[mapping.loc[:,'index'],'zspec'] = mapping.zspec.values"
   ]
  },
  {
   "cell_type": "code",
   "execution_count": 12,
   "id": "b018a680-0f0d-48c9-8b3a-c7b1553a1040",
   "metadata": {},
   "outputs": [],
   "source": [
    "cfht_cat = cfht_cat[~((np.abs(cfht_cat.mag_i)>50)&(np.abs(cfht_cat.mag_y)>50))]"
   ]
  },
  {
   "cell_type": "code",
   "execution_count": 13,
   "id": "823158d5-3764-45ef-8efc-67bed48f6b41",
   "metadata": {},
   "outputs": [],
   "source": [
    "mag_iy =  cfht_cat.mag_i\n",
    "mag_iy = np.where(mag_iy<0,cfht_cat.mag_y,mag_iy)"
   ]
  },
  {
   "cell_type": "code",
   "execution_count": 14,
   "id": "30aa4922-efac-4734-946e-35afaefa1e66",
   "metadata": {},
   "outputs": [],
   "source": [
    "magerr_iy =  cfht_cat.magerr_i\n",
    "magerr_iy = np.where(magerr_iy<0,cfht_cat.magerr_y,magerr_iy)"
   ]
  },
  {
   "cell_type": "code",
   "execution_count": 15,
   "id": "8f8913a8-85dc-49ff-b0d0-251459229d87",
   "metadata": {},
   "outputs": [],
   "source": [
    "cfht_cat['mag_iy'] = mag_iy\n",
    "\n",
    "cfht_cat['magerr_iy'] = magerr_iy"
   ]
  },
  {
   "cell_type": "code",
   "execution_count": 16,
   "id": "cd4538d5-f7d6-4b95-b0db-7f8fc6db535f",
   "metadata": {},
   "outputs": [],
   "source": [
    "cfht_cat = cfht_cat[cfht_cat.mag_iy>0]"
   ]
  },
  {
   "cell_type": "code",
   "execution_count": 17,
   "id": "76d266a0-8ee7-4dc9-8f4b-f1ac93c2a5bb",
   "metadata": {},
   "outputs": [],
   "source": [
    "cfht_cat=cfht_cat.drop(columns=['mag_i','mag_y','magerr_i','magerr_y']).rename(columns ={'magerr_iy':'magerr_i', 'mag_iy':'mag_i'})"
   ]
  },
  {
   "cell_type": "code",
   "execution_count": 18,
   "id": "841932f3-5a19-4d91-9107-cde2b1cd7d29",
   "metadata": {},
   "outputs": [],
   "source": [
    "cfht_cat = cfht_cat.dropna()"
   ]
  },
  {
   "cell_type": "code",
   "execution_count": 19,
   "id": "b96f044c-829e-4c0e-a106-67dcae589766",
   "metadata": {},
   "outputs": [],
   "source": [
    "cfht_cat[['mag_u','mag_u','mag_r','mag_i','mag_z']] = cfht_cat[['mag_u','mag_g','mag_r','mag_i','mag_z']].replace(99, np.nan)\n",
    "cfht_cat[['mag_u','mag_g','mag_r','mag_i','mag_z']] = cfht_cat[['mag_u','mag_g','mag_r','mag_i','mag_z']].replace(-99, np.nan)\n",
    "cfht_cat[['magerr_u','magerr_g','magerr_r','magerr_i','magerr_z']] = cfht_cat[['magerr_u','magerr_g','magerr_r','magerr_i','magerr_z']].replace(-99, np.nan)\n",
    "cfht_cat[['magerr_u','magerr_g','magerr_r','magerr_i','magerr_z']] = cfht_cat[['magerr_u','magerr_g','magerr_r','magerr_i','magerr_z']].replace(99, np.nan)"
   ]
  },
  {
   "cell_type": "code",
   "execution_count": 20,
   "id": "61ffad1a-27ce-457e-a8c1-c1904b3dbd66",
   "metadata": {},
   "outputs": [],
   "source": [
    "cfht_cat_zs = cfht_cat[cfht_cat.zspec!= 0]"
   ]
  },
  {
   "cell_type": "code",
   "execution_count": 21,
   "id": "26853c49-6431-4073-afe7-4e0908d994d0",
   "metadata": {},
   "outputs": [],
   "source": [
    "NB_list = ['NB%s'%nb for nb in np.arange(455,855,10)]\n",
    "BB_list = ['mag_u','mag_g','mag_r','mag_i','mag_z']"
   ]
  },
  {
   "cell_type": "code",
   "execution_count": 22,
   "id": "d2af6632-2962-4eb1-9270-e4082f8161cf",
   "metadata": {},
   "outputs": [],
   "source": [
    "from sqlalchemy.engine import create_engine\n",
    "from sqlalchemy import *\n",
    "from sqlalchemy.orm import *\n",
    "\n",
    "engine = create_engine('postgresql://readonly@db03.pau.pic.es/dm')\n",
    "\n",
    "query = f\"\"\"SELECT fac.ref_id, fac.band, fac.flux, fac.flux_error\n",
    "from forced_aperture_coadd as fac\n",
    "WHERE fac.production_id=999\"\"\"\n",
    "\n",
    "with engine.begin() as conn:\n",
    "    conn.execute(\"SET TRANSACTION ISOLATION LEVEL SERIALIZABLE READ ONLY DEFERRABLE\")\n",
    "    coaddspaudm = pd.read_sql(query, conn)\n"
   ]
  },
  {
   "cell_type": "code",
   "execution_count": 23,
   "id": "7b1b78c4-72a9-4b7f-b6c3-fa1559720de6",
   "metadata": {},
   "outputs": [],
   "source": [
    "from sqlalchemy.engine import create_engine\n",
    "from sqlalchemy import *\n",
    "from sqlalchemy.orm import *\n",
    "\n",
    "engine = create_engine('postgresql://readonly@db03.pau.pic.es/dm')\n",
    "\n",
    "query = f\"\"\"SELECT bcnz.ref_id, bcnz.zb, bcnz.zb_mean, bcnz.n_band\n",
    "from photoz_bcnz as bcnz\n",
    "WHERE bcnz.production_id=1017\"\"\"\n",
    "\n",
    "with engine.begin() as conn:\n",
    "    conn.execute(\"SET TRANSACTION ISOLATION LEVEL SERIALIZABLE READ ONLY DEFERRABLE\")\n",
    "    bcnz_memba = pd.read_sql(query, conn)\n"
   ]
  },
  {
   "cell_type": "code",
   "execution_count": 28,
   "id": "4d06cf62-d3f3-4bdb-a7e9-fc2e0986e990",
   "metadata": {},
   "outputs": [],
   "source": [
    "bcnz_memba=bcnz_memba.drop_duplicates('ref_id')"
   ]
  },
  {
   "cell_type": "code",
   "execution_count": 30,
   "id": "df272fda-a294-48f5-9d34-ca7114843ac6",
   "metadata": {},
   "outputs": [],
   "source": [
    "cfht_cat_paus = cfht_cat.merge(bcnz_memba, left_on = 'paudm_id', right_on = 'ref_id')\n",
    "cfht_cat_paus = cfht_cat_paus.drop_duplicates('paudm_id')"
   ]
  },
  {
   "cell_type": "code",
   "execution_count": 31,
   "id": "15b60dc4-cd60-47bf-b9c5-ea4e5b53a7b8",
   "metadata": {},
   "outputs": [],
   "source": [
    "cfht_cat_train = cfht_cat_paus[cfht_cat_paus.ra <34]\n",
    "cfht_cat_test = cfht_cat_paus[(cfht_cat_paus.ra >34)&(cfht_cat_paus.zspec!= 0)]"
   ]
  },
  {
   "cell_type": "code",
   "execution_count": 32,
   "id": "03f97139-33e7-4b4e-8531-3494085d1946",
   "metadata": {
    "tags": []
   },
   "outputs": [
    {
     "name": "stderr",
     "output_type": "stream",
     "text": [
      "/tmp/ipykernel_738/3056700092.py:1: SettingWithCopyWarning: \n",
      "A value is trying to be set on a copy of a slice from a DataFrame.\n",
      "Try using .loc[row_indexer,col_indexer] = value instead\n",
      "\n",
      "See the caveats in the documentation: https://pandas.pydata.org/pandas-docs/stable/user_guide/indexing.html#returning-a-view-versus-a-copy\n",
      "  cfht_cat_train['target_zs'] = cfht_cat_train.zspec\n",
      "/tmp/ipykernel_738/3056700092.py:4: SettingWithCopyWarning: \n",
      "A value is trying to be set on a copy of a slice from a DataFrame.\n",
      "Try using .loc[row_indexer,col_indexer] = value instead\n",
      "\n",
      "See the caveats in the documentation: https://pandas.pydata.org/pandas-docs/stable/user_guide/indexing.html#returning-a-view-versus-a-copy\n",
      "  cfht_cat_train['target_zb'] = target_zb\n"
     ]
    }
   ],
   "source": [
    "cfht_cat_train['target_zs'] = cfht_cat_train.zspec\n",
    "target_zb = cfht_cat_train.zspec\n",
    "target_zb = np.where(target_zb==0,cfht_cat_train.zb,target_zb)\n",
    "cfht_cat_train['target_zb'] = target_zb\n"
   ]
  },
  {
   "cell_type": "code",
   "execution_count": 33,
   "id": "855116c5-f3c1-47f7-a938-33895310085f",
   "metadata": {},
   "outputs": [],
   "source": [
    "cfht_cat_train = cfht_cat_train[['paudm_id','mag_u','mag_g','mag_r','mag_i','mag_z','target_zs','target_zb']]"
   ]
  },
  {
   "cell_type": "code",
   "execution_count": 35,
   "id": "dc4e67e0-3077-4b77-94a0-afa2c69ceb1e",
   "metadata": {},
   "outputs": [],
   "source": [
    "cfht_cat_train = cfht_cat_train.dropna()"
   ]
  },
  {
   "cell_type": "code",
   "execution_count": 37,
   "id": "c3331bdb-f446-4a21-a34c-8f6b3978684b",
   "metadata": {},
   "outputs": [],
   "source": [
    "sample_test = cfht_cat_paus[cfht_cat_paus.zspec!=0].sample(10000)"
   ]
  },
  {
   "cell_type": "code",
   "execution_count": null,
   "id": "6f9d80a6-d730-4275-bcb8-d20fc087384f",
   "metadata": {},
   "outputs": [],
   "source": [
    "coaddspaudm = coaddspaudm.pivot(index = 'ref_id', columns = 'band', values='flux').dropna()"
   ]
  },
  {
   "cell_type": "code",
   "execution_count": 53,
   "id": "3c5a9e96-89b4-4bfc-9062-edfc1ed3f55c",
   "metadata": {},
   "outputs": [],
   "source": [
    "cfht_cat_train = cfht_cat_train[cfht_cat_train.paudm_id.isin(coaddspaudm.index)]"
   ]
  },
  {
   "cell_type": "markdown",
   "id": "0c344413-9601-41e7-8551-9c59e7315bb3",
   "metadata": {
    "tags": []
   },
   "source": [
    "## TRAIN"
   ]
  },
  {
   "cell_type": "code",
   "execution_count": 55,
   "id": "25bf3875-f57c-4257-98a6-0316c21c8939",
   "metadata": {},
   "outputs": [],
   "source": [
    "import MTLphotozs"
   ]
  },
  {
   "cell_type": "markdown",
   "id": "23e4eea9-61c0-43c8-bd19-f577361387ab",
   "metadata": {},
   "source": [
    "## BB"
   ]
  },
  {
   "cell_type": "code",
   "execution_count": 56,
   "id": "917b6185-35ca-4b23-ad5b-09c97f53c2cf",
   "metadata": {},
   "outputs": [],
   "source": [
    "catalog_bb = cfht_cat_train[cfht_cat_train.target_zs != 0].reset_index()\n",
    "catalog_nb = coaddspaudm[coaddspaudm.index.isin(catalog_bb.paudm_id)]\n",
    "catalog_nb = 26-2.5*np.log10(catalog_nb)"
   ]
  },
  {
   "cell_type": "code",
   "execution_count": 60,
   "id": "a05c969f-d5f0-46e6-9b0b-0be41cb204b3",
   "metadata": {},
   "outputs": [],
   "source": [
    "BB = MTLphotozs.mtl_photoz(zs = True, BB_list = BB_list)\n",
    "training_loader = BB.create_loader(catalog_bb,catalog_nb)\n",
    "BBnet = BB.train_mtl(training_loader, epochs = 65)"
   ]
  },
  {
   "cell_type": "markdown",
   "id": "5e3f6cde-d429-4b90-b257-d4d9d978172d",
   "metadata": {},
   "source": [
    "## BB + NB"
   ]
  },
  {
   "cell_type": "code",
   "execution_count": 62,
   "id": "beccabe6-0c94-43a0-9b6b-9ad15a8a1f32",
   "metadata": {},
   "outputs": [],
   "source": [
    "catalog_bb = cfht_cat_train[cfht_cat_train.target_zb != 0].reset_index()\n",
    "catalog_nb = coaddspaudm[coaddspaudm.index.isin(catalog_bb.paudm_id)]\n",
    "catalog_nb = 26-2.5*np.log10(catalog_nb)"
   ]
  },
  {
   "cell_type": "code",
   "execution_count": 63,
   "id": "a651bc51-2cb0-43c9-ba94-05006019cb8c",
   "metadata": {},
   "outputs": [],
   "source": [
    "BBNB = MTLphotozs.mtl_photoz(zs = False, zs_NB = True, BB_list = BB_list)\n",
    "training_loader = BBNB.create_loader(catalog_bb,catalog_nb)\n",
    "BBNBnet = BBNB.train_mtl(training_loader, epochs = 65)"
   ]
  },
  {
   "cell_type": "markdown",
   "id": "4f1ec8f6-d726-48a5-b8a4-ffbbc0f2cd87",
   "metadata": {},
   "source": [
    "## BBz"
   ]
  },
  {
   "cell_type": "code",
   "execution_count": null,
   "id": "9f077286-630c-463d-8462-6d407497a186",
   "metadata": {},
   "outputs": [],
   "source": [
    "catalog_bb = cfht_cat_train[cfht_cat_train.target_zb != 0].reset_index()\n",
    "catalog_nb = coaddspaudm[coaddspaudm.index.isin(catalog_bb.paudm_id)]\n",
    "catalog_nb = 26-2.5*np.log10(catalog_nb)"
   ]
  },
  {
   "cell_type": "code",
   "execution_count": null,
   "id": "16d79164-0c5e-4e53-b6ce-589848b775a1",
   "metadata": {},
   "outputs": [],
   "source": [
    "BBz = MTLphotozs.mtl_photoz(zs = False, zs_zb = True, BB_list = BB_list)\n",
    "training_loader =BBzBBNB.create_loader(catalog_bb,catalog_nb)\n",
    "BBznet = BBz.train_mtl(training_loader, epochs = 65)"
   ]
  },
  {
   "cell_type": "markdown",
   "id": "d271abb3-4fd7-4276-819e-efb36901ff4a",
   "metadata": {},
   "source": [
    "## BB + NB + z"
   ]
  },
  {
   "cell_type": "code",
   "execution_count": null,
   "id": "d879e054-a597-49f2-bc9a-60eaafed27fe",
   "metadata": {},
   "outputs": [],
   "source": [
    "catalog_bb = cfht_cat_train[cfht_cat_train.target_zb != 0].reset_index()\n",
    "catalog_nb = coaddspaudm[coaddspaudm.index.isin(catalog_bb.paudm_id)]\n",
    "catalog_nb = 26-2.5*np.log10(catalog_nb)"
   ]
  },
  {
   "cell_type": "code",
   "execution_count": null,
   "id": "3083d308-1deb-4d6c-b5e3-a03b3fec0da2",
   "metadata": {},
   "outputs": [],
   "source": [
    "BBz = MTLphotozs.mtl_photoz(zs = False, zs_NB_zb = True, BB_list = BB_list)\n",
    "training_loader =BBzBBNB.create_loader(catalog_bb,catalog_nb)\n",
    "BBznet = BBz.train_mtl(training_loader, epochs = 65)"
   ]
  },
  {
   "cell_type": "markdown",
   "id": "f50395ed-3e70-4519-a67b-7cd3c7310d9a",
   "metadata": {},
   "source": [
    "# TEST"
   ]
  },
  {
   "cell_type": "code",
   "execution_count": null,
   "id": "24d549e8-8b68-429c-8e82-8cb1ea7c0feb",
   "metadata": {},
   "outputs": [],
   "source": [
    "mags_test = sample_test[BB_list]\n",
    "colors_test = mags_test[:,:-1] - mags_test[:,1:]\n",
    "colors_bb = torch.Tensor(colors_test)"
   ]
  },
  {
   "cell_type": "code",
   "execution_count": 100,
   "id": "caa5e922-80d4-4ac6-8f77-d1808f2c6f38",
   "metadata": {},
   "outputs": [
    {
     "data": {
      "text/plain": [
       "torch.Size([10000, 4])"
      ]
     },
     "execution_count": 100,
     "metadata": {},
     "output_type": "execute_result"
    }
   ],
   "source": [
    "BBnet = BBnet.eval()\n",
    "_, logalphas, z,logzerr = BBnet(colors_bb.cuda())\n",
    "alphas = torch.exp(logalphas)\n",
    "zb = (alphas * z).sum(1)\n",
    "zb,logzerr  = zb.detach().cpu().numpy(), logzerr.detach().cpu().numpy()\n",
    "\n",
    "df_bb = pd.DataFrame(np.c_[zb,zspec_test,mag_test], columns = ['zb_bb','zb_true','imag'])\n",
    "df_bb['rerr_bb'] = (df_bb.zb_bb - df_bb.zb_true) / (1 + df_bb.zb_true)\n",
    "print('Bias',np.nanmedian(df_bb.rerr_bb), 'scatter', sigma68(df_bb.rerr_bb))\n"
   ]
  },
  {
   "cell_type": "code",
   "execution_count": 101,
   "id": "883a68ee-cc35-4075-b42a-0f26d2c46af5",
   "metadata": {},
   "outputs": [
    {
     "ename": "RuntimeError",
     "evalue": "mat1 and mat2 shapes cannot be multiplied (10000x4 and 5x100)",
     "output_type": "error",
     "traceback": [
      "\u001b[0;31m---------------------------------------------------------------------------\u001b[0m",
      "\u001b[0;31mRuntimeError\u001b[0m                              Traceback (most recent call last)",
      "\u001b[0;32m/tmp/ipykernel_618/573708692.py\u001b[0m in \u001b[0;36m<module>\u001b[0;34m\u001b[0m\n\u001b[1;32m      1\u001b[0m \u001b[0mBBNBnet\u001b[0m \u001b[0;34m=\u001b[0m \u001b[0mBBNBnet\u001b[0m\u001b[0;34m.\u001b[0m\u001b[0meval\u001b[0m\u001b[0;34m(\u001b[0m\u001b[0;34m)\u001b[0m\u001b[0;34m\u001b[0m\u001b[0;34m\u001b[0m\u001b[0m\n\u001b[0;32m----> 2\u001b[0;31m \u001b[0m_\u001b[0m\u001b[0;34m,\u001b[0m \u001b[0mlogalphas\u001b[0m\u001b[0;34m,\u001b[0m \u001b[0mz\u001b[0m\u001b[0;34m,\u001b[0m\u001b[0mlogzerr\u001b[0m \u001b[0;34m=\u001b[0m \u001b[0mBBNBnet\u001b[0m\u001b[0;34m(\u001b[0m\u001b[0mcolors_bb\u001b[0m\u001b[0;34m.\u001b[0m\u001b[0mcuda\u001b[0m\u001b[0;34m(\u001b[0m\u001b[0;34m)\u001b[0m\u001b[0;34m)\u001b[0m\u001b[0;34m\u001b[0m\u001b[0;34m\u001b[0m\u001b[0m\n\u001b[0m\u001b[1;32m      3\u001b[0m \u001b[0malphas\u001b[0m \u001b[0;34m=\u001b[0m \u001b[0mtorch\u001b[0m\u001b[0;34m.\u001b[0m\u001b[0mexp\u001b[0m\u001b[0;34m(\u001b[0m\u001b[0mlogalphas\u001b[0m\u001b[0;34m)\u001b[0m\u001b[0;34m\u001b[0m\u001b[0;34m\u001b[0m\u001b[0m\n\u001b[1;32m      4\u001b[0m \u001b[0mzb\u001b[0m \u001b[0;34m=\u001b[0m \u001b[0;34m(\u001b[0m\u001b[0malphas\u001b[0m \u001b[0;34m*\u001b[0m \u001b[0mz\u001b[0m\u001b[0;34m)\u001b[0m\u001b[0;34m.\u001b[0m\u001b[0msum\u001b[0m\u001b[0;34m(\u001b[0m\u001b[0;36m1\u001b[0m\u001b[0;34m)\u001b[0m\u001b[0;34m\u001b[0m\u001b[0;34m\u001b[0m\u001b[0m\n\u001b[1;32m      5\u001b[0m \u001b[0mzb\u001b[0m\u001b[0;34m,\u001b[0m\u001b[0mlogzerr\u001b[0m  \u001b[0;34m=\u001b[0m \u001b[0mzb\u001b[0m\u001b[0;34m.\u001b[0m\u001b[0mdetach\u001b[0m\u001b[0;34m(\u001b[0m\u001b[0;34m)\u001b[0m\u001b[0;34m.\u001b[0m\u001b[0mcpu\u001b[0m\u001b[0;34m(\u001b[0m\u001b[0;34m)\u001b[0m\u001b[0;34m.\u001b[0m\u001b[0mnumpy\u001b[0m\u001b[0;34m(\u001b[0m\u001b[0;34m)\u001b[0m\u001b[0;34m,\u001b[0m \u001b[0mlogzerr\u001b[0m\u001b[0;34m.\u001b[0m\u001b[0mdetach\u001b[0m\u001b[0;34m(\u001b[0m\u001b[0;34m)\u001b[0m\u001b[0;34m.\u001b[0m\u001b[0mcpu\u001b[0m\u001b[0;34m(\u001b[0m\u001b[0;34m)\u001b[0m\u001b[0;34m.\u001b[0m\u001b[0mnumpy\u001b[0m\u001b[0;34m(\u001b[0m\u001b[0;34m)\u001b[0m\u001b[0;34m\u001b[0m\u001b[0;34m\u001b[0m\u001b[0m\n",
      "\u001b[0;32m/data/astro/scratch/lcabayol/anaconda3/envs/DLenv2/lib/python3.9/site-packages/torch/nn/modules/module.py\u001b[0m in \u001b[0;36m_call_impl\u001b[0;34m(self, *input, **kwargs)\u001b[0m\n\u001b[1;32m   1108\u001b[0m         if not (self._backward_hooks or self._forward_hooks or self._forward_pre_hooks or _global_backward_hooks\n\u001b[1;32m   1109\u001b[0m                 or _global_forward_hooks or _global_forward_pre_hooks):\n\u001b[0;32m-> 1110\u001b[0;31m             \u001b[0;32mreturn\u001b[0m \u001b[0mforward_call\u001b[0m\u001b[0;34m(\u001b[0m\u001b[0;34m*\u001b[0m\u001b[0minput\u001b[0m\u001b[0;34m,\u001b[0m \u001b[0;34m**\u001b[0m\u001b[0mkwargs\u001b[0m\u001b[0;34m)\u001b[0m\u001b[0;34m\u001b[0m\u001b[0;34m\u001b[0m\u001b[0m\n\u001b[0m\u001b[1;32m   1111\u001b[0m         \u001b[0;31m# Do not call functions when jit is used\u001b[0m\u001b[0;34m\u001b[0m\u001b[0;34m\u001b[0m\u001b[0m\n\u001b[1;32m   1112\u001b[0m         \u001b[0mfull_backward_hooks\u001b[0m\u001b[0;34m,\u001b[0m \u001b[0mnon_full_backward_hooks\u001b[0m \u001b[0;34m=\u001b[0m \u001b[0;34m[\u001b[0m\u001b[0;34m]\u001b[0m\u001b[0;34m,\u001b[0m \u001b[0;34m[\u001b[0m\u001b[0;34m]\u001b[0m\u001b[0;34m\u001b[0m\u001b[0;34m\u001b[0m\u001b[0m\n",
      "\u001b[0;32m~/MTL_photozs/MTLphotozs/network.py\u001b[0m in \u001b[0;36mforward\u001b[0;34m(self, img)\u001b[0m\n\u001b[1;32m     23\u001b[0m \u001b[0;34m\u001b[0m\u001b[0m\n\u001b[1;32m     24\u001b[0m     \u001b[0;32mdef\u001b[0m \u001b[0mforward\u001b[0m\u001b[0;34m(\u001b[0m\u001b[0mself\u001b[0m\u001b[0;34m,\u001b[0m \u001b[0mimg\u001b[0m\u001b[0;34m)\u001b[0m\u001b[0;34m:\u001b[0m\u001b[0;34m\u001b[0m\u001b[0;34m\u001b[0m\u001b[0m\n\u001b[0;32m---> 25\u001b[0;31m         \u001b[0mhidden_space\u001b[0m \u001b[0;34m=\u001b[0m \u001b[0mself\u001b[0m\u001b[0;34m.\u001b[0m\u001b[0mblock1\u001b[0m\u001b[0;34m(\u001b[0m\u001b[0mimg\u001b[0m\u001b[0;34m)\u001b[0m\u001b[0;34m\u001b[0m\u001b[0;34m\u001b[0m\u001b[0m\n\u001b[0m\u001b[1;32m     26\u001b[0m \u001b[0;34m\u001b[0m\u001b[0m\n\u001b[1;32m     27\u001b[0m         \u001b[0mlogalphas\u001b[0m \u001b[0;34m=\u001b[0m \u001b[0mself\u001b[0m\u001b[0;34m.\u001b[0m\u001b[0malphass\u001b[0m\u001b[0;34m(\u001b[0m\u001b[0mhidden_space\u001b[0m\u001b[0;34m)\u001b[0m\u001b[0;34m\u001b[0m\u001b[0;34m\u001b[0m\u001b[0m\n",
      "\u001b[0;32m/data/astro/scratch/lcabayol/anaconda3/envs/DLenv2/lib/python3.9/site-packages/torch/nn/modules/module.py\u001b[0m in \u001b[0;36m_call_impl\u001b[0;34m(self, *input, **kwargs)\u001b[0m\n\u001b[1;32m   1108\u001b[0m         if not (self._backward_hooks or self._forward_hooks or self._forward_pre_hooks or _global_backward_hooks\n\u001b[1;32m   1109\u001b[0m                 or _global_forward_hooks or _global_forward_pre_hooks):\n\u001b[0;32m-> 1110\u001b[0;31m             \u001b[0;32mreturn\u001b[0m \u001b[0mforward_call\u001b[0m\u001b[0;34m(\u001b[0m\u001b[0;34m*\u001b[0m\u001b[0minput\u001b[0m\u001b[0;34m,\u001b[0m \u001b[0;34m**\u001b[0m\u001b[0mkwargs\u001b[0m\u001b[0;34m)\u001b[0m\u001b[0;34m\u001b[0m\u001b[0;34m\u001b[0m\u001b[0m\n\u001b[0m\u001b[1;32m   1111\u001b[0m         \u001b[0;31m# Do not call functions when jit is used\u001b[0m\u001b[0;34m\u001b[0m\u001b[0;34m\u001b[0m\u001b[0m\n\u001b[1;32m   1112\u001b[0m         \u001b[0mfull_backward_hooks\u001b[0m\u001b[0;34m,\u001b[0m \u001b[0mnon_full_backward_hooks\u001b[0m \u001b[0;34m=\u001b[0m \u001b[0;34m[\u001b[0m\u001b[0;34m]\u001b[0m\u001b[0;34m,\u001b[0m \u001b[0;34m[\u001b[0m\u001b[0;34m]\u001b[0m\u001b[0;34m\u001b[0m\u001b[0;34m\u001b[0m\u001b[0m\n",
      "\u001b[0;32m/data/astro/scratch/lcabayol/anaconda3/envs/DLenv2/lib/python3.9/site-packages/torch/nn/modules/container.py\u001b[0m in \u001b[0;36mforward\u001b[0;34m(self, input)\u001b[0m\n\u001b[1;32m    139\u001b[0m     \u001b[0;32mdef\u001b[0m \u001b[0mforward\u001b[0m\u001b[0;34m(\u001b[0m\u001b[0mself\u001b[0m\u001b[0;34m,\u001b[0m \u001b[0minput\u001b[0m\u001b[0;34m)\u001b[0m\u001b[0;34m:\u001b[0m\u001b[0;34m\u001b[0m\u001b[0;34m\u001b[0m\u001b[0m\n\u001b[1;32m    140\u001b[0m         \u001b[0;32mfor\u001b[0m \u001b[0mmodule\u001b[0m \u001b[0;32min\u001b[0m \u001b[0mself\u001b[0m\u001b[0;34m:\u001b[0m\u001b[0;34m\u001b[0m\u001b[0;34m\u001b[0m\u001b[0m\n\u001b[0;32m--> 141\u001b[0;31m             \u001b[0minput\u001b[0m \u001b[0;34m=\u001b[0m \u001b[0mmodule\u001b[0m\u001b[0;34m(\u001b[0m\u001b[0minput\u001b[0m\u001b[0;34m)\u001b[0m\u001b[0;34m\u001b[0m\u001b[0;34m\u001b[0m\u001b[0m\n\u001b[0m\u001b[1;32m    142\u001b[0m         \u001b[0;32mreturn\u001b[0m \u001b[0minput\u001b[0m\u001b[0;34m\u001b[0m\u001b[0;34m\u001b[0m\u001b[0m\n\u001b[1;32m    143\u001b[0m \u001b[0;34m\u001b[0m\u001b[0m\n",
      "\u001b[0;32m/data/astro/scratch/lcabayol/anaconda3/envs/DLenv2/lib/python3.9/site-packages/torch/nn/modules/module.py\u001b[0m in \u001b[0;36m_call_impl\u001b[0;34m(self, *input, **kwargs)\u001b[0m\n\u001b[1;32m   1108\u001b[0m         if not (self._backward_hooks or self._forward_hooks or self._forward_pre_hooks or _global_backward_hooks\n\u001b[1;32m   1109\u001b[0m                 or _global_forward_hooks or _global_forward_pre_hooks):\n\u001b[0;32m-> 1110\u001b[0;31m             \u001b[0;32mreturn\u001b[0m \u001b[0mforward_call\u001b[0m\u001b[0;34m(\u001b[0m\u001b[0;34m*\u001b[0m\u001b[0minput\u001b[0m\u001b[0;34m,\u001b[0m \u001b[0;34m**\u001b[0m\u001b[0mkwargs\u001b[0m\u001b[0;34m)\u001b[0m\u001b[0;34m\u001b[0m\u001b[0;34m\u001b[0m\u001b[0m\n\u001b[0m\u001b[1;32m   1111\u001b[0m         \u001b[0;31m# Do not call functions when jit is used\u001b[0m\u001b[0;34m\u001b[0m\u001b[0;34m\u001b[0m\u001b[0m\n\u001b[1;32m   1112\u001b[0m         \u001b[0mfull_backward_hooks\u001b[0m\u001b[0;34m,\u001b[0m \u001b[0mnon_full_backward_hooks\u001b[0m \u001b[0;34m=\u001b[0m \u001b[0;34m[\u001b[0m\u001b[0;34m]\u001b[0m\u001b[0;34m,\u001b[0m \u001b[0;34m[\u001b[0m\u001b[0;34m]\u001b[0m\u001b[0;34m\u001b[0m\u001b[0;34m\u001b[0m\u001b[0m\n",
      "\u001b[0;32m/data/astro/scratch/lcabayol/anaconda3/envs/DLenv2/lib/python3.9/site-packages/torch/nn/modules/linear.py\u001b[0m in \u001b[0;36mforward\u001b[0;34m(self, input)\u001b[0m\n\u001b[1;32m    101\u001b[0m \u001b[0;34m\u001b[0m\u001b[0m\n\u001b[1;32m    102\u001b[0m     \u001b[0;32mdef\u001b[0m \u001b[0mforward\u001b[0m\u001b[0;34m(\u001b[0m\u001b[0mself\u001b[0m\u001b[0;34m,\u001b[0m \u001b[0minput\u001b[0m\u001b[0;34m:\u001b[0m \u001b[0mTensor\u001b[0m\u001b[0;34m)\u001b[0m \u001b[0;34m->\u001b[0m \u001b[0mTensor\u001b[0m\u001b[0;34m:\u001b[0m\u001b[0;34m\u001b[0m\u001b[0;34m\u001b[0m\u001b[0m\n\u001b[0;32m--> 103\u001b[0;31m         \u001b[0;32mreturn\u001b[0m \u001b[0mF\u001b[0m\u001b[0;34m.\u001b[0m\u001b[0mlinear\u001b[0m\u001b[0;34m(\u001b[0m\u001b[0minput\u001b[0m\u001b[0;34m,\u001b[0m \u001b[0mself\u001b[0m\u001b[0;34m.\u001b[0m\u001b[0mweight\u001b[0m\u001b[0;34m,\u001b[0m \u001b[0mself\u001b[0m\u001b[0;34m.\u001b[0m\u001b[0mbias\u001b[0m\u001b[0;34m)\u001b[0m\u001b[0;34m\u001b[0m\u001b[0;34m\u001b[0m\u001b[0m\n\u001b[0m\u001b[1;32m    104\u001b[0m \u001b[0;34m\u001b[0m\u001b[0m\n\u001b[1;32m    105\u001b[0m     \u001b[0;32mdef\u001b[0m \u001b[0mextra_repr\u001b[0m\u001b[0;34m(\u001b[0m\u001b[0mself\u001b[0m\u001b[0;34m)\u001b[0m \u001b[0;34m->\u001b[0m \u001b[0mstr\u001b[0m\u001b[0;34m:\u001b[0m\u001b[0;34m\u001b[0m\u001b[0;34m\u001b[0m\u001b[0m\n",
      "\u001b[0;31mRuntimeError\u001b[0m: mat1 and mat2 shapes cannot be multiplied (10000x4 and 5x100)"
     ]
    }
   ],
   "source": [
    "BBNBnet = BBNBnet.eval()\n",
    "_, logalphas, z,logzerr = BBNBnet(colors_bb.cuda()) \n",
    "alphas = torch.exp(logalphas)\n",
    "zb = (alphas * z).sum(1)\n",
    "zb,logzerr  = zb.detach().cpu().numpy(), logzerr.detach().cpu().numpy()\n",
    "\n",
    "df_bbnb = pd.DataFrame(np.c_[zb,zspec_test,mag_test], columns = ['zb_bbnb','zb_true','imag'])\n",
    "df_bbnb['rerr_bbnb'] = (df_bbnb.zb_bbnb - df_bbnb.zb_true) / (1 + df_bbnb.zb_true)\n",
    "print('Bias',np.nanmedian(df_bbnb.rerr_bbnb), 'scatter', sigma68(df_bbnb.rerr_bbnb))\n"
   ]
  },
  {
   "cell_type": "code",
   "execution_count": null,
   "id": "b34602fc-f725-4621-af76-7c131b2e834b",
   "metadata": {},
   "outputs": [],
   "source": [
    "BBznet = BBznet.eval()\n",
    "_, logalphas, z,logzerr = BBznet(colors_bb.cuda()) \n",
    "alphas = torch.exp(logalphas)\n",
    "zb = (alphas * z).sum(1)\n",
    "zb,logzerr  = zb.detach().cpu().numpy(), logzerr.detach().cpu().numpy()\n",
    "\n",
    "df_bbz = pd.DataFrame(np.c_[zb,zspec_test,mag_test], columns = ['zb_bbz','zb_true','imag'])\n",
    "df_bbz['rerr_bbz'] = (df_bbz.zb_bbz - df_bbz.zb_true) / (1 + df_bbz.zb_true)\n",
    "print('Bias',np.nanmedian(df_bbz.rerr_bbz), 'scatter', sigma68(df_bbz.rerr_bbz))\n"
   ]
  },
  {
   "cell_type": "code",
   "execution_count": null,
   "id": "5fb8b883-f140-4731-8e96-1876909f6b7a",
   "metadata": {},
   "outputs": [],
   "source": [
    "BBNBznet = BBNBznet.eval()\n",
    "_, logalphas, z,logzerr = BBNBznet(colors_bb.cuda()) \n",
    "alphas = torch.exp(logalphas)\n",
    "zb = (alphas * z).sum(1)\n",
    "zb,logzerr  = zb.detach().cpu().numpy(), logzerr.detach().cpu().numpy()\n",
    "\n",
    "df_bbz = pd.DataFrame(np.c_[zb,zspec_test,mag_test], columns = ['zb_bbz','zb_true','imag'])\n",
    "df_bbz['rerr_bbz'] = (df_bbz.zb_bbz - df_bbz.zb_true) / (1 + df_bbz.zb_true)\n",
    "print('Bias',np.nanmedian(df_bbz.rerr_bbz), 'scatter', sigma68(df_bbz.rerr_bbz))\n"
   ]
  }
 ],
 "metadata": {
  "kernelspec": {
   "display_name": "DLenv2",
   "language": "python",
   "name": "dlenv2"
  },
  "language_info": {
   "codemirror_mode": {
    "name": "ipython",
    "version": 3
   },
   "file_extension": ".py",
   "mimetype": "text/x-python",
   "name": "python",
   "nbconvert_exporter": "python",
   "pygments_lexer": "ipython3",
   "version": "3.9.7"
  }
 },
 "nbformat": 4,
 "nbformat_minor": 5
}
