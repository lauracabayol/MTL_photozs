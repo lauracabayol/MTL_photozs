{
 "cells": [
  {
   "cell_type": "code",
   "execution_count": 4,
   "id": "3c7929c4-7249-4d1c-a34e-a00849f1e278",
   "metadata": {},
   "outputs": [],
   "source": [
    "import numpy as np\n",
    "import pandas as pd\n",
    "import matplotlib.pyplot as plt\n",
    "\n",
    "import torch\n",
    "import os\n",
    "\n",
    "from torch import nn, optim\n",
    "from torch.optim import lr_scheduler\n",
    "import time\n"
   ]
  },
  {
   "cell_type": "code",
   "execution_count": 5,
   "id": "91560be1-a3e6-456b-86ca-d653090baecc",
   "metadata": {},
   "outputs": [],
   "source": [
    "def sigma68(data): return 0.5*(pd.Series(data).quantile(q = 0.84) - pd.Series(data).quantile(q = 0.16))"
   ]
  },
  {
   "cell_type": "code",
   "execution_count": 6,
   "id": "5004cee4-3941-45aa-add7-3b9a30a4c15b",
   "metadata": {},
   "outputs": [],
   "source": [
    "def exposure_SN(cat_in, filters,  scale = True):\n",
    "\n",
    "    sn_lims =  {'U': 25.25, 'G': 24.65, 'R': 24.15, 'I': 24.35, 'ZN': 23.95,  'H':25,'J':25, 'Y':25}\n",
    "    #sn_lims =  {'U': 25.5, 'G': 24.4, 'R': 24.1, 'I': 24.1, 'ZN': 23.7,  'H':23.2,'J':23.2, 'Y':23.2}\n",
    "\n",
    "    #sn_lims =  {'U':35, 'G':35, 'R': 40, 'I':40, 'ZN':40, 'H':35,'J':35, 'Y':35}\n",
    "    #sn_lims =  {'U':27, 'G':27, 'R': 27, 'I':27, 'ZN':27, 'H':27,'J':27, 'Y':27}\n",
    "    #sn_lims =  {'U':28, 'G':26, 'R': 25, 'I':25, 'ZN':26, 'H':25,'J':25, 'Y':25}\n",
    "\n",
    "    \n",
    "    scale_filters = [x for x in filters if scale == True]\n",
    "    lims = [sn_lims[x] for x in filters]\n",
    "\n",
    "    sn_val0 = 5\n",
    "    R = 1\n",
    "\n",
    "    sn_val = [(R*sn_val0 if x in scale_filters else sn_val0) for x in filters]\n",
    "\n",
    "    D = sn_val*10**(np.array(lims) / 5.)\n",
    "\n",
    "    mag = np.array(cat_in[[x for x in filters]])\n",
    "    SN_arr =  D*10**(-0.2*mag)\n",
    "\n",
    "\n",
    "    sn_min = 0\n",
    "    sn_max = lims\n",
    "\n",
    "\n",
    "    SN_arr = np.clip(SN_arr, sn_min, sn_max)\n",
    "    SN = pd.DataFrame(SN_arr, columns=filters, index= cat_in.index)\n",
    "\n",
    "    return SN\n",
    "\n"
   ]
  },
  {
   "cell_type": "code",
   "execution_count": 147,
   "id": "2a4a149c-bd9e-499a-a3c5-de675a0d939b",
   "metadata": {},
   "outputs": [],
   "source": [
    "catalog = pd.read_csv('/data/astro/scratch/lcabayol/Euclid/PAUS_mock_Euclidbands.csv', sep = ',', header = 0, comment = '#')\n",
    "#catalog = pd.read_csv('/cephfs/pic.es/astro/scratch/lcabayol/Euclid/Euclid_mock.csv', sep = ',', header = 0, comment = '#')\n",
    "\n",
    "catalog = catalog.dropna()\n",
    "catalog = catalog.loc[:50000,:].reset_index()"
   ]
  },
  {
   "cell_type": "code",
   "execution_count": 148,
   "id": "a77a5111-b05d-4a7e-8b69-27d8ba3fb3e1",
   "metadata": {},
   "outputs": [],
   "source": [
    "Ngals = 35000\n",
    "catalog = catalog.sample(Ngals)\n",
    "catalog['imag'] = 26 - 2.5*np.log10(catalog.flux_nl_el_t_blanco_decam_i.values)\n",
    "catalog = catalog[catalog.imag < 23]"
   ]
  },
  {
   "cell_type": "code",
   "execution_count": 149,
   "id": "298b843e-1b97-4a62-b84f-be5f1306a41f",
   "metadata": {},
   "outputs": [],
   "source": [
    "catalog['ref_id'] = np.arange(len(catalog))\n",
    "\n",
    "nb_names_old = ['flux_nl_el_t_pau_nb%s'%x for x in 455+10*np.arange(40)]\n",
    "nb_names_new = ['NB%s'%x for x in 455+10*np.arange(40)]\n",
    "nb_name_dict = dict(zip(nb_names_old, nb_names_new))\n",
    "\n",
    "catalog_nb_nl = catalog.set_index('ref_id')[nb_names_old].rename(columns = nb_name_dict)\n",
    "\n",
    "bb_names_old = ['flux_nl_el_t_cfht_u','flux_nl_el_t_blanco_decam_g','flux_nl_el_t_blanco_decam_r','flux_nl_el_t_blanco_decam_i','flux_nl_el_t_blanco_decam_z','flux_nl_el_t_euclid_nisp_h','flux_nl_el_t_euclid_nisp_j','flux_nl_el_t_euclid_nisp_y']\n",
    "bb_names_new = ['U','G','R','I','ZN','H','J','Y']\n",
    "bb_name_dict = dict(zip(bb_names_old, bb_names_new))\n",
    "\n",
    "catalog_bb_nl = catalog.set_index('ref_id')[bb_names_old].rename(columns = bb_name_dict)"
   ]
  },
  {
   "cell_type": "code",
   "execution_count": 150,
   "id": "55083ba6-3e6e-48d6-90f7-442e94b74157",
   "metadata": {},
   "outputs": [],
   "source": [
    "# load fits from Martin Eriksen to estimate SNR from the flux\n",
    "\n",
    "snr_fit = pd.read_csv('/nfs/pic.es/user/l/lcabayol/Euclid/snr_fit.csv', sep = ',', header = 0)\n",
    "factors = snr_fit[snr_fit.key == 'med'].reset_index()\n",
    "\n",
    "aas = factors.a.values\n",
    "bs = factors.b.values\n",
    "\n",
    "f = 0.7\n",
    "SNR_NB = np.exp(aas*np.log(f*np.abs(catalog_nb_nl.values)) + bs)\n",
    "err = (np.abs(catalog_nb_nl.values) / SNR_NB)  * np.random.normal(0,1, size = (catalog_nb_nl.shape))\n",
    "\n",
    "catalog_nb = pd.DataFrame(catalog_nb_nl + err, columns = nb_names_new, index = catalog_nb_nl.index)\n",
    "catalog_nb_err = pd.DataFrame(np.abs(err), columns = nb_names_new, index = catalog_nb_nl.index)"
   ]
  },
  {
   "cell_type": "code",
   "execution_count": 151,
   "id": "32226929-7ee8-4ebc-8d38-a44210952a3b",
   "metadata": {},
   "outputs": [],
   "source": [
    "catalog_bb_nl_mag = 26 - 2.5*np.log10(catalog_bb_nl)\n",
    "filters = bb_names_new.copy()\n",
    "\n",
    "SNR_flagship_BB = exposure_SN(catalog_bb_nl_mag, filters,  scale = True)\n",
    "\n",
    "err = np.abs(catalog_bb_nl / SNR_flagship_BB)\n",
    "err_rand = err * np.random.normal(0,1, size = (err.shape))\n",
    "\n",
    "catalog_bb = catalog_bb_nl.values + err_rand\n",
    "catalog_bb_err = np.abs(err_rand)\n",
    "\n",
    "catalog_bb = pd.DataFrame(catalog_bb, columns = bb_names_new, index = catalog_bb_nl.index)\n",
    "catalog_bb_err = pd.DataFrame(np.abs(err), columns = bb_names_new, index = catalog_bb_nl.index)\n"
   ]
  },
  {
   "cell_type": "code",
   "execution_count": 152,
   "id": "322d6408-bc51-4ab7-8de0-9bc873ef2607",
   "metadata": {},
   "outputs": [],
   "source": [
    "catalog_bb = 26 - 2.5*np.log10(catalog_bb)"
   ]
  },
  {
   "cell_type": "code",
   "execution_count": 153,
   "id": "dc17aeec-f0e9-4520-9a40-28259e205282",
   "metadata": {},
   "outputs": [],
   "source": [
    "catalog_bb['target_zs'] = catalog.observed_redshift_gal.values"
   ]
  },
  {
   "cell_type": "code",
   "execution_count": 154,
   "id": "49ee43e4-4d65-4a36-a024-8a26e1041bdc",
   "metadata": {},
   "outputs": [],
   "source": [
    "m = np.arange(18,24,1)\n",
    "s68 = [0.0025,0.003,0.004,0.0045,0.0055,0.007]\n",
    "fSNR  = np.polyfit(m,s68,2)\n",
    "imag = catalog_bb.I.values\n",
    "\n",
    "dispersion_z = fSNR[0] * imag**2 + fSNR[1]*imag  + fSNR[2]\n",
    "photoz = catalog_bb.target_zs.values+  dispersion_z * np.random.normal(0,1,size = catalog_bb.shape[0])\n",
    "catalog_bb['target_zb'] = photoz"
   ]
  },
  {
   "cell_type": "code",
   "execution_count": 155,
   "id": "4bf512ff-3311-4b07-bf22-39115b65c255",
   "metadata": {},
   "outputs": [],
   "source": [
    "#catalog_bb['target_train'] = catalog_bb.target_zs\n",
    "mask_train = np.random.choice([0,1], p = [0.7,0.3], size = len(catalog_bb))\n",
    "target_train = catalog_bb.target_zs * mask_train\n",
    "target_train = np.where(target_train== 0,catalog_bb.target_zb,catalog_bb.target_zs)\n",
    "catalog_bb['true_z'] = catalog_bb.target_zs\n",
    "catalog_bb['target_zs'] = catalog_bb.target_zs * mask_train\n",
    "catalog_bb['target_zb'] = target_train\n"
   ]
  },
  {
   "cell_type": "code",
   "execution_count": 156,
   "id": "3da5f68e-9e76-499d-a3d1-169384873400",
   "metadata": {},
   "outputs": [],
   "source": [
    "catalog_bb = catalog_bb.dropna()"
   ]
  },
  {
   "cell_type": "markdown",
   "id": "d3c5c4f8-315e-4005-9c9f-d2df10648e0e",
   "metadata": {},
   "source": [
    "# TRAIN NETWORKS"
   ]
  },
  {
   "cell_type": "code",
   "execution_count": 157,
   "id": "2ac0b0ff-e829-4440-8071-0cf79be42b08",
   "metadata": {},
   "outputs": [],
   "source": [
    "BB_list = ['U','G','R','I','ZN','H','J','Y']\n",
    "NB_list = catalog_nb.columns.tolist()"
   ]
  },
  {
   "cell_type": "code",
   "execution_count": 158,
   "id": "e80fae96-c8c0-43d2-9607-93ecb236c110",
   "metadata": {},
   "outputs": [],
   "source": [
    "import MTLphotozs"
   ]
  },
  {
   "cell_type": "markdown",
   "id": "fc2dd746-60a8-44bd-8af6-15ad488c9b94",
   "metadata": {
    "tags": []
   },
   "source": [
    "## BB"
   ]
  },
  {
   "cell_type": "code",
   "execution_count": 159,
   "id": "bfce1765-87ad-40e3-82cd-59e0d73c4c93",
   "metadata": {},
   "outputs": [],
   "source": [
    "catalog_bb_sub = catalog_bb[catalog_bb.target_zs != 0]#.reset_index()\n",
    "catalog_nb_sub = catalog_nb[catalog_nb.index.isin(catalog_bb_sub.index)]\n",
    "catalog_nb_sub = 26-2.5*np.log10(catalog_nb_sub)"
   ]
  },
  {
   "cell_type": "code",
   "execution_count": 160,
   "id": "bb17a5f9-d2ff-45fb-aa0f-dbc4ef8b65cb",
   "metadata": {},
   "outputs": [],
   "source": [
    "BB = MTLphotozs.mtl_photoz(zs = True, flagship=True)\n",
    "catalog_training= catalog_bb_sub.copy()\n",
    "catalog_nb_train = catalog_nb_sub[catalog_nb_sub.index.isin(catalog_training.index)]\n",
    "\n",
    "training_loader = BB.create_loader(catalog_training,catalog_nb_train)\n",
    "BBnet = BB.train_mtl(training_loader, epochs = 65)"
   ]
  },
  {
   "cell_type": "markdown",
   "id": "295d4e2d-2a5f-4439-994d-c8f8365e83f8",
   "metadata": {},
   "source": [
    "## BB + NB"
   ]
  },
  {
   "cell_type": "code",
   "execution_count": 161,
   "id": "f6af1e6d-87b6-4411-bad7-2a80b1f8100a",
   "metadata": {},
   "outputs": [],
   "source": [
    "catalog_bb_sub = catalog_bb[catalog_bb.target_zb != 0].reset_index()\n",
    "catalog_nb_sub = catalog_nb[catalog_nb.index.isin(catalog_bb_sub.index)]\n",
    "catalog_nb_sub = 26-2.5*np.log10(catalog_nb_sub)"
   ]
  },
  {
   "cell_type": "code",
   "execution_count": 162,
   "id": "ef798be4-bcd1-4949-8fd9-32aa8125f725",
   "metadata": {},
   "outputs": [],
   "source": [
    "BBNB = MTLphotozs.mtl_photoz(zs = False, zs_NB = True, flagship = True)\n",
    "catalog_training= catalog_bb_sub.copy()\n",
    "catalog_nb_train = catalog_nb_sub[catalog_nb_sub.index.isin(catalog_training.index)]\n",
    "\n",
    "training_loader = BBNB.create_loader(catalog_training,catalog_nb_train)\n",
    "BBNBnet = BBNB.train_mtl(training_loader, epochs = 65)"
   ]
  },
  {
   "cell_type": "markdown",
   "id": "2b6b2f67-ef96-4b63-a41a-37b6b9382d1a",
   "metadata": {},
   "source": [
    "## BB + z"
   ]
  },
  {
   "cell_type": "code",
   "execution_count": 163,
   "id": "48b02cd2-a59a-4043-9a05-062929072afb",
   "metadata": {},
   "outputs": [],
   "source": [
    "catalog_bb_sub = catalog_bb[catalog_bb.target_zb != 0].reset_index()\n",
    "catalog_nb_sub = catalog_nb[catalog_nb.index.isin(catalog_bb_sub.index)]\n",
    "catalog_nb_sub = 26-2.5*np.log10(catalog_nb_sub)"
   ]
  },
  {
   "cell_type": "code",
   "execution_count": 164,
   "id": "aaef693e-d8e6-46c1-bfb6-b4f1e5576115",
   "metadata": {},
   "outputs": [],
   "source": [
    "BBz = MTLphotozs.mtl_photoz(zs = False, zs_zb = True, flagship = True)\n",
    "catalog_training= catalog_bb_sub.copy()\n",
    "catalog_nb_train = catalog_nb_sub[catalog_nb_sub.index.isin(catalog_training.index)]\n",
    "\n",
    "training_loader = BBz.create_loader(catalog_training,catalog_nb_train)\n",
    "BBznet = BBz.train_mtl(training_loader, epochs = 65)"
   ]
  },
  {
   "cell_type": "markdown",
   "id": "41c2b716-5208-4b9e-a32a-25b65bbe45c4",
   "metadata": {},
   "source": [
    "## BB + NB + z"
   ]
  },
  {
   "cell_type": "code",
   "execution_count": 165,
   "id": "b156e97f-ef90-43f1-8a1b-42899b06ab89",
   "metadata": {},
   "outputs": [],
   "source": [
    "catalog_bb_sub = catalog_bb[catalog_bb.target_zb != 0].reset_index()\n",
    "catalog_nb_sub = catalog_nb[catalog_nb.index.isin(catalog_bb_sub.index)]\n",
    "catalog_nb_sub = 26-2.5*np.log10(catalog_nb_sub)"
   ]
  },
  {
   "cell_type": "code",
   "execution_count": 166,
   "id": "0d3a1d3d-f950-4f93-b8b8-b0b81583b9cf",
   "metadata": {},
   "outputs": [],
   "source": [
    "BBNBz = MTLphotozs.mtl_photoz(zs = False, zs_NB_zb = True, flagship = True)\n",
    "catalog_training= catalog_bb_sub.copy()\n",
    "catalog_nb_train = catalog_nb_sub[catalog_nb_sub.index.isin(catalog_training.index)]\n",
    "\n",
    "training_loader = BBNBz.create_loader(catalog_training,catalog_nb_train)\n",
    "BBNBznet = BBNBz.train_mtl(training_loader, epochs = 65)"
   ]
  },
  {
   "cell_type": "markdown",
   "id": "fc624fa3-045f-49c7-8e65-fd6f07f1d568",
   "metadata": {},
   "source": [
    "## TEST TO i<25"
   ]
  },
  {
   "cell_type": "code",
   "execution_count": 167,
   "id": "c8eacabe-00ab-4d62-9749-f489b732068c",
   "metadata": {},
   "outputs": [],
   "source": [
    "catalog_test = pd.read_csv('/data/astro/scratch/lcabayol/Euclid/Euclid_mock_v2.csv', sep = ',', header = 0, comment = '#')\n",
    "catalog_test = catalog_test.dropna()\n",
    "catalog_test = catalog_test[catalog_test.observed_redshift_gal < 1.5]\n",
    "\n",
    "catalog_test['mag'] =  -2.5 * np.log10(catalog_test.blanco_decam_i) - 48.6\n",
    "catalog_test = catalog_test[catalog_test.mag < 25]\n",
    "catalog_test = catalog_test[catalog_test.mag > 18]\n",
    "catalog_test = catalog_test.sample(50000)\n",
    "catalog_test = catalog_test.reset_index()"
   ]
  },
  {
   "cell_type": "code",
   "execution_count": 168,
   "id": "891acea7-73ed-4fb5-96d0-47a5f20c6d03",
   "metadata": {},
   "outputs": [
    {
     "name": "stderr",
     "output_type": "stream",
     "text": [
      "/tmp/ipykernel_10096/2075870673.py:21: RuntimeWarning: invalid value encountered in log10\n",
      "  samps_BB_spec_test = -2.5 * np.log10(samps_BB_spec_test) - 48.6\n"
     ]
    }
   ],
   "source": [
    "BB_name = ['cfis_u','blanco_decam_g','blanco_decam_r','blanco_decam_i','blanco_decam_z','euclid_nisp_h','euclid_nisp_j','euclid_nisp_y']\n",
    "catalog_bb_test = catalog_test[BB_name]\n",
    "bb_names_new = ['U','G','R','I','ZN','H','J','Y']\n",
    "bb_name_dict = dict(zip(BB_name, bb_names_new))\n",
    "\n",
    "catalog_bb_test_nl = catalog_bb_test.rename(columns = bb_name_dict)\n",
    "catalog_bb_test_nl_mag = -48.6 - 2.5*np.log10(catalog_bb_test_nl)\n",
    "filters = bb_names_new.copy()\n",
    "\n",
    "SNR_flagship_BB = exposure_SN(catalog_bb_test_nl_mag, filters,  scale = True)\n",
    "err = np.abs(catalog_bb_test_nl / SNR_flagship_BB)\n",
    "err_rand = err * np.random.normal(0,1, size = (err.shape))\n",
    "\n",
    "catalog_bb_test = catalog_bb_test_nl.values + err_rand.values\n",
    "\n",
    "catalog_bb_test = pd.DataFrame(catalog_bb_test, columns = bb_names_new)\n",
    "\n",
    "samps_BB_spec_test_store = catalog_bb_test.copy()\n",
    "\n",
    "samps_BB_spec_test = catalog_bb_test[bb_names_new].values\n",
    "samps_BB_spec_test = -2.5 * np.log10(samps_BB_spec_test) - 48.6\n",
    "\n",
    "zspec_test = catalog_test.observed_redshift_gal.values\n",
    "zb_bin_spec_test = 1000* zspec_test\n",
    "\n",
    "colors_spec_test = samps_BB_spec_test[:,:-1] - samps_BB_spec_test[:,1:] \n",
    "\n",
    "colors_spec_test, zspec_test, zb_bin_spec_test = torch.Tensor(colors_spec_test), torch.Tensor(zspec_test), torch.LongTensor(zb_bin_spec_test)\n",
    "mag_test = -2.5 * np.log10(catalog_bb_test.I) - 48.6\n"
   ]
  },
  {
   "cell_type": "markdown",
   "id": "dbbf1266-ab2e-41c4-8175-bff6229bb916",
   "metadata": {
    "tags": []
   },
   "source": [
    "catalog_test['ref_id'] = np.arange(len(catalog_test))\n",
    "\n",
    "bb_names_old = ['flux_nl_el_t_cfht_u','flux_nl_el_t_blanco_decam_g','flux_nl_el_t_blanco_decam_r','flux_nl_el_t_blanco_decam_i','flux_nl_el_t_blanco_decam_z','flux_nl_el_t_euclid_nisp_h','flux_nl_el_t_euclid_nisp_j','flux_nl_el_t_euclid_nisp_y']\n",
    "bb_names_new = ['U','G','R','I','ZN','H','J','Y']\n",
    "bb_name_dict = dict(zip(bb_names_old, bb_names_new))\n",
    "\n",
    "catalog_bb_nl = catalog_test.set_index('ref_id')[bb_names_old].rename(columns = bb_name_dict)"
   ]
  },
  {
   "cell_type": "markdown",
   "id": "01ce0b0a-d612-4af5-b163-ba53eca3c9f2",
   "metadata": {
    "tags": []
   },
   "source": [
    "catalog_bb_nl_mag = 26 - 2.5*np.log10(catalog_bb_nl)\n",
    "filters = bb_names_new.copy()\n",
    "\n",
    "SNR_flagship_BB = exposure_SN(catalog_bb_nl_mag, filters,  scale = True)\n",
    "\n",
    "err = np.abs(catalog_bb_nl / SNR_flagship_BB)\n",
    "err_rand = err * np.random.normal(0,1, size = (err.shape))\n",
    "\n",
    "fluxes_test_bb = catalog_bb_nl.values + err_rand\n",
    "mag_test_bb = 26 - 2.5*np.log10(fluxes_test_bb)\n",
    "\n",
    "\n",
    "colors_test_bb = mag_test_bb.values[:,:-1] - mag_test_bb.values[:,1:]\n",
    "colors_test_bb = torch.Tensor(colors_test_bb)\n",
    "\n",
    "zspec_test = catalog_test.observed_redshift_gal\n",
    "imag = mag_test_bb.I.values"
   ]
  },
  {
   "cell_type": "code",
   "execution_count": 169,
   "id": "a7edd02c-448d-4e9c-bfc7-c036118d37eb",
   "metadata": {},
   "outputs": [
    {
     "name": "stdout",
     "output_type": "stream",
     "text": [
      "Bias -0.025712944135413973 scatter 0.08207858781124264\n"
     ]
    }
   ],
   "source": [
    "BBnet = BBnet.eval()\n",
    "_, logalphas, z,logzerr = BBnet(colors_spec_test.cuda())\n",
    "alphas = torch.exp(logalphas)\n",
    "zb = (alphas * z).sum(1)\n",
    "zb,logzerr  = zb.detach().cpu().numpy(), logzerr.detach().cpu().numpy()\n",
    "\n",
    "df_bb = pd.DataFrame(np.c_[zb,zspec_test,mag_test], columns = ['zb_bb','zb_true','imag'])\n",
    "df_bb['rerr_bb'] = (df_bb.zb_bb - df_bb.zb_true) / (1 + df_bb.zb_true)\n",
    "print('Bias',np.nanmedian(df_bb.rerr_bb), 'scatter', sigma68(df_bb.rerr_bb))\n"
   ]
  },
  {
   "cell_type": "code",
   "execution_count": 170,
   "id": "df31f19b-55a3-45ce-b5ca-39b5b1408657",
   "metadata": {},
   "outputs": [
    {
     "name": "stdout",
     "output_type": "stream",
     "text": [
      "Bias -0.021507839494646686 scatter 0.07961092558336426\n"
     ]
    }
   ],
   "source": [
    "BBNBnet = BBNBnet.eval()\n",
    "_, logalphas, z,logzerr = BBNBnet(colors_spec_test.cuda()) \n",
    "alphas = torch.exp(logalphas)\n",
    "zb = (alphas * z).sum(1)\n",
    "zb,logzerr  = zb.detach().cpu().numpy(), logzerr.detach().cpu().numpy()\n",
    "\n",
    "df_bbnb = pd.DataFrame(np.c_[zb,zspec_test,mag_test], columns = ['zb_bbnb','zb_true','imag'])\n",
    "df_bbnb['rerr_bbnb'] = (df_bbnb.zb_bbnb - df_bbnb.zb_true) / (1 + df_bbnb.zb_true)\n",
    "print('Bias',np.nanmedian(df_bbnb.rerr_bbnb), 'scatter', sigma68(df_bbnb.rerr_bbnb))\n"
   ]
  },
  {
   "cell_type": "code",
   "execution_count": 171,
   "id": "00ecb4b3-5097-4170-8a25-89016968ae25",
   "metadata": {},
   "outputs": [
    {
     "name": "stdout",
     "output_type": "stream",
     "text": [
      "Bias -0.02222127321361156 scatter 0.08043980057354241\n"
     ]
    }
   ],
   "source": [
    "BBznet = BBznet.eval()\n",
    "_, logalphas, z,logzerr = BBznet(colors_spec_test.cuda()) \n",
    "alphas = torch.exp(logalphas)\n",
    "zb = (alphas * z).sum(1)\n",
    "zb,logzerr  = zb.detach().cpu().numpy(), logzerr.detach().cpu().numpy()\n",
    "\n",
    "df_bbz = pd.DataFrame(np.c_[zb,zspec_test,mag_test], columns = ['zb_bbz','zb_true','imag'])\n",
    "df_bbz['rerr_bbz'] = (df_bbz.zb_bbz - df_bbz.zb_true) / (1 + df_bbz.zb_true)\n",
    "print('Bias',np.nanmedian(df_bbz.rerr_bbz), 'scatter', sigma68(df_bbz.rerr_bbz))\n"
   ]
  },
  {
   "cell_type": "code",
   "execution_count": 172,
   "id": "564b6d09-8dbc-4788-a5a8-2549d014abb4",
   "metadata": {},
   "outputs": [
    {
     "name": "stdout",
     "output_type": "stream",
     "text": [
      "Bias -0.015809053174913 scatter 0.079486788843396\n"
     ]
    }
   ],
   "source": [
    "BBNBznet = BBNBznet.eval()\n",
    "_, logalphas, z,logzerr = BBNBznet(colors_spec_test.cuda()) \n",
    "alphas = torch.exp(logalphas)\n",
    "zb = (alphas * z).sum(1)\n",
    "zb,logzerr  = zb.detach().cpu().numpy(), logzerr.detach().cpu().numpy()\n",
    "\n",
    "df_bbnbz = pd.DataFrame(np.c_[zb,zspec_test,mag_test], columns = ['zb_bbnbz','zb_true','imag'])\n",
    "df_bbnbz['rerr_bbnbz'] = (df_bbnbz.zb_bbnbz - df_bbnbz.zb_true) / (1 + df_bbnbz.zb_true)\n",
    "print('Bias',np.nanmedian(df_bbnbz.rerr_bbnbz), 'scatter', sigma68(df_bbnbz.rerr_bbnbz))\n"
   ]
  },
  {
   "cell_type": "code",
   "execution_count": 173,
   "id": "efdbf516-4301-4160-a505-3ea61fbe10d9",
   "metadata": {},
   "outputs": [],
   "source": [
    "df_bb.to_csv('/data/astro/scratch/lcabayol/Euclid/referee_report/catalogues/df_bb_flagship2.csv', header = True, sep =',')\n",
    "df_bbnb.to_csv('/data/astro/scratch/lcabayol/Euclid/referee_report/catalogues/df_bbnb_flagship2.csv', header = True, sep =',')\n",
    "df_bbz.to_csv('/data/astro/scratch/lcabayol/Euclid/referee_report/catalogues/df_bbz_flagship2.csv', header = True, sep =',')\n",
    "df_bbnbz.to_csv('/data/astro/scratch/lcabayol/Euclid/referee_report/catalogues/df_bbnbz_flagship2.csv', header = True, sep =',')"
   ]
  },
  {
   "cell_type": "code",
   "execution_count": null,
   "id": "c882aa33-0060-4bc9-b676-810608e8240b",
   "metadata": {},
   "outputs": [],
   "source": []
  }
 ],
 "metadata": {
  "kernelspec": {
   "display_name": "DLenv2",
   "language": "python",
   "name": "dlenv2"
  },
  "language_info": {
   "codemirror_mode": {
    "name": "ipython",
    "version": 3
   },
   "file_extension": ".py",
   "mimetype": "text/x-python",
   "name": "python",
   "nbconvert_exporter": "python",
   "pygments_lexer": "ipython3",
   "version": "3.9.7"
  }
 },
 "nbformat": 4,
 "nbformat_minor": 5
}
