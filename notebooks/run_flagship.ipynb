{
 "cells": [
  {
   "cell_type": "code",
   "execution_count": 1,
   "id": "3c7929c4-7249-4d1c-a34e-a00849f1e278",
   "metadata": {},
   "outputs": [],
   "source": [
    "import numpy as np\n",
    "import pandas as pd\n",
    "import matplotlib.pyplot as plt\n",
    "\n",
    "import torch\n",
    "import os\n",
    "\n",
    "from torch import nn, optim\n",
    "from torch.optim import lr_scheduler\n",
    "import time\n"
   ]
  },
  {
   "cell_type": "code",
   "execution_count": 2,
   "id": "91560be1-a3e6-456b-86ca-d653090baecc",
   "metadata": {},
   "outputs": [],
   "source": [
    "def sigma68(data): return 0.5*(pd.Series(data).quantile(q = 0.84) - pd.Series(data).quantile(q = 0.16))"
   ]
  },
  {
   "cell_type": "code",
   "execution_count": 3,
   "id": "5004cee4-3941-45aa-add7-3b9a30a4c15b",
   "metadata": {},
   "outputs": [],
   "source": [
    "def exposure_SN(cat_in, filters,  scale = True):\n",
    "\n",
    "    sn_lims =  {'U': 25.25, 'G': 24.65, 'R': 24.15, 'I': 24.35, 'ZN': 23.95,  'H':25,'J':25, 'Y':25}\n",
    "    #sn_lims =  {'U': 25.5, 'G': 24.4, 'R': 24.1, 'I': 24.1, 'ZN': 23.7,  'H':23.2,'J':23.2, 'Y':23.2}\n",
    "\n",
    "    #sn_lims =  {'U':35, 'G':35, 'R': 40, 'I':40, 'ZN':40, 'H':35,'J':35, 'Y':35}\n",
    "    #sn_lims =  {'U':27, 'G':27, 'R': 27, 'I':27, 'ZN':27, 'H':27,'J':27, 'Y':27}\n",
    "    #sn_lims =  {'U':28, 'G':26, 'R': 25, 'I':25, 'ZN':26, 'H':25,'J':25, 'Y':25}\n",
    "\n",
    "    \n",
    "    scale_filters = [x for x in filters if scale == True]\n",
    "    lims = [sn_lims[x] for x in filters]\n",
    "\n",
    "    sn_val0 = 5\n",
    "    R = 1\n",
    "\n",
    "    sn_val = [(R*sn_val0 if x in scale_filters else sn_val0) for x in filters]\n",
    "\n",
    "    D = sn_val*10**(np.array(lims) / 5.)\n",
    "\n",
    "    mag = np.array(cat_in[[x for x in filters]])\n",
    "    SN_arr =  D*10**(-0.2*mag)\n",
    "\n",
    "\n",
    "    sn_min = 0\n",
    "    sn_max = lims\n",
    "\n",
    "\n",
    "    SN_arr = np.clip(SN_arr, sn_min, sn_max)\n",
    "    SN = pd.DataFrame(SN_arr, columns=filters, index= cat_in.index)\n",
    "\n",
    "    return SN\n",
    "\n"
   ]
  },
  {
   "cell_type": "code",
   "execution_count": 4,
   "id": "2a4a149c-bd9e-499a-a3c5-de675a0d939b",
   "metadata": {},
   "outputs": [],
   "source": [
    "catalog = pd.read_csv('/data/astro/scratch/lcabayol/Euclid/PAUS_mock_Euclidbands.csv', sep = ',', header = 0, comment = '#')\n",
    "#catalog = pd.read_csv('/cephfs/pic.es/astro/scratch/lcabayol/Euclid/Euclid_mock.csv', sep = ',', header = 0, comment = '#')\n",
    "\n",
    "catalog = catalog.dropna()"
   ]
  },
  {
   "cell_type": "code",
   "execution_count": 5,
   "id": "a77a5111-b05d-4a7e-8b69-27d8ba3fb3e1",
   "metadata": {},
   "outputs": [],
   "source": [
    "Ngals = 35000\n",
    "catalog = catalog.sample(Ngals)\n",
    "catalog['imag'] = 26 - 2.5*np.log10(catalog.flux_nl_el_t_blanco_decam_i.values)\n",
    "catalog = catalog[catalog.imag < 23]"
   ]
  },
  {
   "cell_type": "code",
   "execution_count": 6,
   "id": "f4de97ea-fe22-4cba-addc-ec4553358f75",
   "metadata": {},
   "outputs": [],
   "source": [
    "catalog['ref_id'] = np.arange(len(catalog))"
   ]
  },
  {
   "cell_type": "code",
   "execution_count": 7,
   "id": "bac1737d-8128-42c0-aaa5-a91e3325ca46",
   "metadata": {},
   "outputs": [],
   "source": [
    "nb_names_old = ['flux_nl_el_t_pau_nb%s'%x for x in 455+10*np.arange(40)]\n",
    "nb_names_new = ['NB%s'%x for x in 455+10*np.arange(40)]\n",
    "nb_name_dict = dict(zip(nb_names_old, nb_names_new))\n",
    "\n",
    "catalog_nb_nl = catalog.set_index('ref_id')[nb_names_old].rename(columns = nb_name_dict)"
   ]
  },
  {
   "cell_type": "code",
   "execution_count": 8,
   "id": "4d664331-714f-4326-afeb-857357fab8a9",
   "metadata": {},
   "outputs": [],
   "source": [
    "bb_names_old = ['flux_nl_el_t_cfht_u','flux_nl_el_t_blanco_decam_g','flux_nl_el_t_blanco_decam_r','flux_nl_el_t_blanco_decam_i','flux_nl_el_t_blanco_decam_z','flux_nl_el_t_euclid_nisp_h','flux_nl_el_t_euclid_nisp_j','flux_nl_el_t_euclid_nisp_y']\n",
    "bb_names_new = ['U','G','R','I','ZN','H','J','Y']\n",
    "bb_name_dict = dict(zip(bb_names_old, bb_names_new))\n",
    "\n",
    "catalog_bb_nl = catalog.set_index('ref_id')[bb_names_old].rename(columns = bb_name_dict)"
   ]
  },
  {
   "cell_type": "code",
   "execution_count": 9,
   "id": "55083ba6-3e6e-48d6-90f7-442e94b74157",
   "metadata": {},
   "outputs": [],
   "source": [
    "# load fits from Martin Eriksen to estimate SNR from the flux\n",
    "\n",
    "snr_fit = pd.read_csv('/nfs/pic.es/user/l/lcabayol/Euclid/snr_fit.csv', sep = ',', header = 0)\n",
    "factors = snr_fit[snr_fit.key == 'med'].reset_index()\n",
    "\n",
    "aas = factors.a.values\n",
    "bs = factors.b.values\n",
    "\n",
    "f = 0.7\n",
    "SNR_NB = np.exp(aas*np.log(f*np.abs(catalog_nb_nl.values)) + bs)\n",
    "err = (np.abs(catalog_nb_nl.values) / SNR_NB)  * np.random.normal(0,1, size = (catalog_nb_nl.shape))\n",
    "\n",
    "catalog_nb = pd.DataFrame(catalog_nb_nl + err, columns = nb_names_new, index = catalog_nb_nl.index)\n",
    "catalog_nb_err = pd.DataFrame(np.abs(err), columns = nb_names_new, index = catalog_nb_nl.index)"
   ]
  },
  {
   "cell_type": "code",
   "execution_count": 10,
   "id": "32226929-7ee8-4ebc-8d38-a44210952a3b",
   "metadata": {},
   "outputs": [],
   "source": [
    "catalog_bb_nl_mag = 26 - 2.5*np.log10(catalog_bb_nl)\n",
    "filters = bb_names_new.copy()\n",
    "\n",
    "SNR_flagship_BB = exposure_SN(catalog_bb_nl_mag, filters,  scale = True)\n",
    "\n",
    "err = np.abs(catalog_bb_nl / SNR_flagship_BB)\n",
    "err_rand = err * np.random.normal(0,1, size = (err.shape))\n",
    "\n",
    "catalog_bb = catalog_bb_nl.values + np.abs(err_rand)\n",
    "catalog_bb_err = np.abs(err_rand)\n",
    "\n",
    "catalog_bb = pd.DataFrame(catalog_bb, columns = bb_names_new, index = catalog_bb_nl.index)\n",
    "catalog_bb_err = pd.DataFrame(np.abs(err), columns = bb_names_new, index = catalog_bb_nl.index)\n"
   ]
  },
  {
   "cell_type": "code",
   "execution_count": 11,
   "id": "dc17aeec-f0e9-4520-9a40-28259e205282",
   "metadata": {},
   "outputs": [],
   "source": [
    "catalog_bb['target_zs'] = catalog.observed_redshift_gal.values"
   ]
  },
  {
   "cell_type": "code",
   "execution_count": 12,
   "id": "49ee43e4-4d65-4a36-a024-8a26e1041bdc",
   "metadata": {},
   "outputs": [],
   "source": [
    "m = np.arange(18,24,1)\n",
    "s68 = [0.0025,0.003,0.004,0.0045,0.0055,0.007]\n",
    "fSNR  = np.polyfit(m,s68,2)\n",
    "imag = catalog_bb.I.values\n",
    "\n",
    "dispersion_z = fSNR[0] * catalog_bb.I.values**2 + fSNR[1]*catalog_bb.I.values  + fSNR[2]\n",
    "photoz = catalog_bb.target_zs.values+  dispersion_z * np.random.normal(0,1,size = catalog_bb.shape[0])\n",
    "catalog_bb['target_zb'] = photoz"
   ]
  },
  {
   "cell_type": "code",
   "execution_count": 13,
   "id": "4bf512ff-3311-4b07-bf22-39115b65c255",
   "metadata": {},
   "outputs": [],
   "source": [
    "catalog_bb['target_train'] = catalog_bb.target_zs\n",
    "mask_train = np.random.choice([0,1], p = [0.7,0.3], size = len(catalog_bb))\n",
    "catalog_bb['target_train'] = catalog_bb.target_train * mask_train"
   ]
  },
  {
   "cell_type": "markdown",
   "id": "d3c5c4f8-315e-4005-9c9f-d2df10648e0e",
   "metadata": {},
   "source": [
    "# TRAIN NETWORKS"
   ]
  },
  {
   "cell_type": "code",
   "execution_count": 14,
   "id": "2ac0b0ff-e829-4440-8071-0cf79be42b08",
   "metadata": {},
   "outputs": [],
   "source": [
    "BB_list = ['U','G','R','I','ZN','H','J','Y']\n",
    "NB_list = catalog_nb.columns.tolist()"
   ]
  },
  {
   "cell_type": "code",
   "execution_count": 15,
   "id": "e80fae96-c8c0-43d2-9607-93ecb236c110",
   "metadata": {},
   "outputs": [],
   "source": [
    "import MTLphotozs"
   ]
  },
  {
   "cell_type": "markdown",
   "id": "fc2dd746-60a8-44bd-8af6-15ad488c9b94",
   "metadata": {},
   "source": [
    "## BB"
   ]
  },
  {
   "cell_type": "code",
   "execution_count": 16,
   "id": "bfce1765-87ad-40e3-82cd-59e0d73c4c93",
   "metadata": {},
   "outputs": [],
   "source": [
    "catalog_bb_sub = catalog_bb[catalog_bb.target_train != 0]#.reset_index()\n",
    "catalog_nb_sub = catalog_nb[catalog_nb.index.isin(catalog_bb_sub.index)]\n",
    "catalog_nb_sub = 26-2.5*np.log10(catalog_nb_sub)"
   ]
  },
  {
   "cell_type": "code",
   "execution_count": null,
   "id": "d7895450-eabf-4b84-8638-b05bec4d718a",
   "metadata": {},
   "outputs": [
    {
     "name": "stdout",
     "output_type": "stream",
     "text": [
      "Bias nan scatter nan\n"
     ]
    },
    {
     "name": "stderr",
     "output_type": "stream",
     "text": [
      "/tmp/ipykernel_30991/2022963935.py:29: FutureWarning: In a future version of pandas all arguments of concat except for the argument 'objs' will be keyword-only\n",
      "  df_all = pd.concat((df_all,df),0)\n"
     ]
    }
   ],
   "source": [
    "df_all = pd.DataFrame()\n",
    "cuts = np.arange(0,12001,2000)\n",
    "\n",
    "for k in range(len(cuts)-1):\n",
    "    BB = MTLphotozs.mtl_photoz(zs = True, flagship=True)\n",
    "    catalog_test = catalog_bb_sub.loc[cuts[k]:cuts[k+1]]\n",
    "    catalog_training= catalog_bb_sub[~catalog_bb_sub.index.isin(catalog_test.index)]\n",
    "    catalog_nb_train = catalog_nb_sub[catalog_nb_sub.index.isin(catalog_training.index)]\n",
    "    \n",
    "    training_loader = BB.create_loader(catalog_bb,catalog_nb)\n",
    "    BBnet = BB.train_mtl(training_loader, epochs = 65)\n",
    "    \n",
    "    \n",
    "    samps_BB_spec_test =  catalog_test[BB_list].values\n",
    "    samps_BB_colors_test = samps_BB_spec_test[:,:-1] - samps_BB_spec_test[:,1:]\n",
    "    samps_BB_colors_test = torch.Tensor(samps_BB_colors_test)\n",
    "    zb_test = catalog_test.target_zs.values\n",
    "    refid_test = catalog_test.index\n",
    "    _,logalphas, z,logzerr = BBnet(samps_BB_colors_test.cuda())\n",
    "    \n",
    "    alphas = torch.exp(logalphas)\n",
    "    zb = (alphas * z).sum(1)\n",
    "    zb,logzerr  = zb.detach().cpu().numpy(), logzerr.detach().cpu().numpy()\n",
    "\n",
    "    df = pd.DataFrame(np.c_[refid_test,zb,zb_test], columns = ['ref_id','zb','zb_true'])\n",
    "    df['rerr'] = (df.zb - df.zb_true) / (1 + df.zb_true)\n",
    "    print('Bias',np.nanmedian(df.rerr), 'scatter', sigma68(df.rerr))\n",
    "    \n",
    "    df_all = pd.concat((df_all,df),0) "
   ]
  },
  {
   "cell_type": "code",
   "execution_count": 34,
   "id": "1ac5469f-3460-4a01-99b3-2a8a30545d2c",
   "metadata": {},
   "outputs": [
    {
     "name": "stdout",
     "output_type": "stream",
     "text": [
      "Bias -0.001982978882552288 scatter 0.025065920614642693\n"
     ]
    },
    {
     "name": "stderr",
     "output_type": "stream",
     "text": [
      "/tmp/ipykernel_18925/3049832044.py:20: FutureWarning: In a future version of pandas all arguments of concat except for the argument 'objs' will be keyword-only\n",
      "  df_all = pd.concat((df_all,df),0)\n"
     ]
    }
   ],
   "source": [
    "catalog_bb2 = ilbert[(ilbert.target_train == 0)&(ilbert.target_zb != 0)].reset_index()\n",
    "samps_BB_spec_test = catalog_bb2[BB_list].values\n",
    "zb_spec_test = catalog_bb2.target_zb.values\n",
    "refid = catalog_bb2.paudm_id.values\n",
    "\n",
    "samps_BB_colors_test = samps_BB_spec_test[:,:-1] - samps_BB_spec_test[:,1:]\n",
    "samps_BB_colors_test = torch.Tensor(samps_BB_colors_test)\n",
    "\n",
    "_,logalphas, z,logzerr = BBnet(samps_BB_colors_test.cuda())\n",
    "\n",
    "alphas = torch.exp(logalphas)\n",
    "zb = (alphas * z).sum(1)\n",
    "zb,logzerr  = zb.detach().cpu().numpy(), logzerr.detach().cpu().numpy()\n",
    "\n",
    "df = pd.DataFrame(np.c_[refid,zb,zb_spec_test], columns = ['ref_id','zb','zb_true'])\n",
    "df['rerr'] = (df.zb - df.zb_true) / (1 + df.zb_true)\n",
    "\n",
    "print('Bias',np.nanmedian(df.rerr), 'scatter', sigma68(df.rerr))\n",
    "\n",
    "df_all = pd.concat((df_all,df),0) "
   ]
  },
  {
   "cell_type": "code",
   "execution_count": 35,
   "id": "7160fbcb-c853-47b6-beb9-5f9f703fea55",
   "metadata": {},
   "outputs": [],
   "source": [
    "df_bb = df_all.copy()"
   ]
  },
  {
   "cell_type": "markdown",
   "id": "295d4e2d-2a5f-4439-994d-c8f8365e83f8",
   "metadata": {},
   "source": [
    "## BB + NB"
   ]
  },
  {
   "cell_type": "code",
   "execution_count": 40,
   "id": "f6af1e6d-87b6-4411-bad7-2a80b1f8100a",
   "metadata": {},
   "outputs": [],
   "source": [
    "catalog_bb = ilbert[ilbert.target_zb != 0].reset_index()\n",
    "catalog_nb = FAC_memba_flux[FAC_memba_flux.index.isin(catalog_bb.paudm_id)]\n",
    "catalog_nb = 26-2.5*np.log10(catalog_nb)"
   ]
  },
  {
   "cell_type": "code",
   "execution_count": 46,
   "id": "b745d993-cb56-4443-ad35-b05d29251bc5",
   "metadata": {
    "tags": []
   },
   "outputs": [
    {
     "name": "stdout",
     "output_type": "stream",
     "text": [
      "Bias -0.002595923838374069 scatter 0.021717317362539207\n"
     ]
    },
    {
     "name": "stderr",
     "output_type": "stream",
     "text": [
      "/tmp/ipykernel_18925/3172688797.py:30: FutureWarning: In a future version of pandas all arguments of concat except for the argument 'objs' will be keyword-only\n",
      "  df_all = pd.concat((df_all,df),0)\n"
     ]
    },
    {
     "name": "stdout",
     "output_type": "stream",
     "text": [
      "Bias -0.001162225287548539 scatter 0.020690977672107102\n",
      "Bias -0.00039415785025018944 scatter 0.018476537272597408\n",
      "Bias -0.00015393309481222573 scatter 0.021184981824151735\n",
      "Bias 0.0013030845051024574 scatter 0.020980659372275536\n"
     ]
    }
   ],
   "source": [
    "df_all = pd.DataFrame()\n",
    "cuts = np.linspace(0,len(catalog_bb),6)\n",
    "\n",
    "for k in range(len(cuts)-1):\n",
    "    BBNB = MTLphotozs.mtl_photoz(zs = False, zs_NB = True)\n",
    "    catalog_test = catalog_bb.loc[cuts[k]:cuts[k+1]]\n",
    "    catalog_training= catalog_bb[~catalog_bb.paudm_id.isin(catalog_test.paudm_id)]\n",
    "    catalog_nb_train = catalog_nb[catalog_nb.index.isin(catalog_training.paudm_id)]\n",
    "    \n",
    "    training_loader = BBNB.create_loader(catalog_bb,catalog_nb)\n",
    "    BBNBnet = BBNB.train_mtl(training_loader, epochs = 65)\n",
    "    \n",
    "    \n",
    "    \n",
    "    samps_BB_spec_test =  catalog_test[BB_list].values\n",
    "    samps_BB_colors_test = samps_BB_spec_test[:,:-1] - samps_BB_spec_test[:,1:]\n",
    "    samps_BB_colors_test = torch.Tensor(samps_BB_colors_test)\n",
    "    zb_test = catalog_test.target_zb.values\n",
    "    refid_test = catalog_test.paudm_id.values\n",
    "    _,logalphas, z,logzerr = BBNBnet(samps_BB_colors_test.cuda())\n",
    "    \n",
    "    alphas = torch.exp(logalphas)\n",
    "    zb = (alphas * z).sum(1)\n",
    "    zb,logzerr  = zb.detach().cpu().numpy(), logzerr.detach().cpu().numpy()\n",
    "\n",
    "    df = pd.DataFrame(np.c_[refid_test,zb,zb_test], columns = ['ref_id','zb','zb_true'])\n",
    "    df['rerr'] = (df.zb - df.zb_true) / (1 + df.zb_true)\n",
    "    print('Bias',np.nanmedian(df.rerr), 'scatter', sigma68(df.rerr))\n",
    "    \n",
    "    df_all = pd.concat((df_all,df),0) "
   ]
  },
  {
   "cell_type": "code",
   "execution_count": 48,
   "id": "1d9e9236-796d-479e-bc8f-75ac0eafc64c",
   "metadata": {},
   "outputs": [],
   "source": [
    "df_bbnb = df_all.copy()"
   ]
  },
  {
   "cell_type": "markdown",
   "id": "2b6b2f67-ef96-4b63-a41a-37b6b9382d1a",
   "metadata": {},
   "source": [
    "## BB + z"
   ]
  },
  {
   "cell_type": "code",
   "execution_count": 49,
   "id": "48b02cd2-a59a-4043-9a05-062929072afb",
   "metadata": {},
   "outputs": [],
   "source": [
    "catalog_bb = ilbert[ilbert.target_zb != 0].reset_index()\n",
    "catalog_nb = FAC_memba_flux[FAC_memba_flux.index.isin(catalog_bb.paudm_id)]\n",
    "catalog_nb = 26-2.5*np.log10(catalog_nb)"
   ]
  },
  {
   "cell_type": "code",
   "execution_count": 51,
   "id": "3e66fdc8-7bbc-4dd2-a358-f2a1ecc85b48",
   "metadata": {},
   "outputs": [
    {
     "name": "stdout",
     "output_type": "stream",
     "text": [
      "Bias -0.002335593162031184 scatter 0.01995378630293039\n"
     ]
    },
    {
     "name": "stderr",
     "output_type": "stream",
     "text": [
      "/tmp/ipykernel_18925/996012447.py:29: FutureWarning: In a future version of pandas all arguments of concat except for the argument 'objs' will be keyword-only\n",
      "  df_all = pd.concat((df_all,df),0)\n"
     ]
    },
    {
     "name": "stdout",
     "output_type": "stream",
     "text": [
      "Bias 0.0009012521632165858 scatter 0.018831616140777937\n",
      "Bias 0.0005407008238211374 scatter 0.017458708015574746\n",
      "Bias -0.0012457090213748446 scatter 0.019492615422443647\n",
      "Bias -0.0009953453551965901 scatter 0.019509919618210143\n"
     ]
    }
   ],
   "source": [
    "df_all = pd.DataFrame()\n",
    "cuts = np.linspace(0,len(catalog_bb),6)\n",
    "\n",
    "for k in range(len(cuts)-1):\n",
    "    BBz = MTLphotozs.mtl_photoz(zs = False, zs_zb = True)\n",
    "    catalog_test = catalog_bb.loc[cuts[k]:cuts[k+1]]\n",
    "    catalog_training= catalog_bb[~catalog_bb.paudm_id.isin(catalog_test.paudm_id)]\n",
    "    catalog_nb_train = catalog_nb[catalog_nb.index.isin(catalog_training.paudm_id)]\n",
    "    \n",
    "    training_loader = BBz.create_loader(catalog_bb,catalog_nb)\n",
    "    BBznet = BBz.train_mtl(training_loader, epochs = 65)\n",
    "    \n",
    "    \n",
    "    samps_BB_spec_test =  catalog_test[BB_list].values\n",
    "    samps_BB_colors_test = samps_BB_spec_test[:,:-1] - samps_BB_spec_test[:,1:]\n",
    "    samps_BB_colors_test = torch.Tensor(samps_BB_colors_test)\n",
    "    zb_test = catalog_test.target_zb.values\n",
    "    refid_test = catalog_test.paudm_id.values\n",
    "    _,logalphas, z,logzerr = BBznet(samps_BB_colors_test.cuda())\n",
    "    \n",
    "    alphas = torch.exp(logalphas)\n",
    "    zb = (alphas * z).sum(1)\n",
    "    zb,logzerr  = zb.detach().cpu().numpy(), logzerr.detach().cpu().numpy()\n",
    "\n",
    "    df = pd.DataFrame(np.c_[refid_test,zb,zb_test], columns = ['ref_id','zb','zb_true'])\n",
    "    df['rerr'] = (df.zb - df.zb_true) / (1 + df.zb_true)\n",
    "    print('Bias',np.nanmedian(df.rerr), 'scatter', sigma68(df.rerr))\n",
    "    \n",
    "    df_all = pd.concat((df_all,df),0) "
   ]
  },
  {
   "cell_type": "code",
   "execution_count": 52,
   "id": "925fc644-8029-422a-a52d-2c58bbf05032",
   "metadata": {},
   "outputs": [],
   "source": [
    "df_bbz = df_all.copy()"
   ]
  },
  {
   "cell_type": "markdown",
   "id": "41c2b716-5208-4b9e-a32a-25b65bbe45c4",
   "metadata": {},
   "source": [
    "## BB + NB + z"
   ]
  },
  {
   "cell_type": "code",
   "execution_count": 53,
   "id": "b156e97f-ef90-43f1-8a1b-42899b06ab89",
   "metadata": {},
   "outputs": [],
   "source": [
    "catalog_bb = ilbert[ilbert.target_zb != 0].reset_index()\n",
    "catalog_nb = FAC_memba_flux[FAC_memba_flux.index.isin(catalog_bb.paudm_id)]\n",
    "catalog_nb = 26-2.5*np.log10(catalog_nb)"
   ]
  },
  {
   "cell_type": "code",
   "execution_count": 54,
   "id": "0d3a1d3d-f950-4f93-b8b8-b0b81583b9cf",
   "metadata": {},
   "outputs": [
    {
     "name": "stdout",
     "output_type": "stream",
     "text": [
      "Bias 0.00012340900843473473 scatter 0.02044099648749069\n"
     ]
    },
    {
     "name": "stderr",
     "output_type": "stream",
     "text": [
      "/tmp/ipykernel_18925/260961283.py:29: FutureWarning: In a future version of pandas all arguments of concat except for the argument 'objs' will be keyword-only\n",
      "  df_all = pd.concat((df_all,df),0)\n"
     ]
    },
    {
     "name": "stdout",
     "output_type": "stream",
     "text": [
      "Bias 0.00035453601239973605 scatter 0.01893829508270138\n",
      "Bias 0.0011081242069249262 scatter 0.017504762054009734\n",
      "Bias -0.0020263393815864584 scatter 0.019030670592370832\n",
      "Bias 0.00027751560026899867 scatter 0.01884780445773831\n"
     ]
    }
   ],
   "source": [
    "df_all = pd.DataFrame()\n",
    "cuts = np.linspace(0,len(catalog_bb),6)\n",
    "\n",
    "for k in range(len(cuts)-1):\n",
    "    BBNBz = MTLphotozs.mtl_photoz(zs = False, zs_NB_zb = True)\n",
    "    catalog_test = catalog_bb.loc[cuts[k]:cuts[k+1]]\n",
    "    catalog_training= catalog_bb[~catalog_bb.paudm_id.isin(catalog_test.paudm_id)]\n",
    "    catalog_nb_train = catalog_nb[catalog_nb.index.isin(catalog_training.paudm_id)]\n",
    "    \n",
    "    training_loader = BBNBz.create_loader(catalog_bb,catalog_nb)\n",
    "    BBNBznet = BBNBz.train_mtl(training_loader, epochs = 65)\n",
    "    \n",
    "    \n",
    "    samps_BB_spec_test =  catalog_test[BB_list].values\n",
    "    samps_BB_colors_test = samps_BB_spec_test[:,:-1] - samps_BB_spec_test[:,1:]\n",
    "    samps_BB_colors_test = torch.Tensor(samps_BB_colors_test)\n",
    "    zb_test = catalog_test.target_zb.values\n",
    "    refid_test = catalog_test.paudm_id.values\n",
    "    _,logalphas, z,logzerr = BBNBznet(samps_BB_colors_test.cuda())\n",
    "    \n",
    "    alphas = torch.exp(logalphas)\n",
    "    zb = (alphas * z).sum(1)\n",
    "    zb,logzerr  = zb.detach().cpu().numpy(), logzerr.detach().cpu().numpy()\n",
    "\n",
    "    df = pd.DataFrame(np.c_[refid_test,zb,zb_test], columns = ['ref_id','zb','zb_true'])\n",
    "    df['rerr'] = (df.zb - df.zb_true) / (1 + df.zb_true)\n",
    "    print('Bias',np.nanmedian(df.rerr), 'scatter', sigma68(df.rerr))\n",
    "    \n",
    "    df_all = pd.concat((df_all,df),0) "
   ]
  },
  {
   "cell_type": "code",
   "execution_count": 58,
   "id": "1719bc72-72f6-4de1-bc85-45ad85311247",
   "metadata": {},
   "outputs": [],
   "source": [
    "df_bbnbz = df_all.copy()"
   ]
  },
  {
   "cell_type": "code",
   "execution_count": 60,
   "id": "efdbf516-4301-4160-a505-3ea61fbe10d9",
   "metadata": {},
   "outputs": [],
   "source": [
    "df_bb.to_csv('/data/astro/scratch/lcabayol/Euclid/referee_report/catalogues/df_bb.csv', header = True, sep =',')\n",
    "df_bbnb.to_csv('/data/astro/scratch/lcabayol/Euclid/referee_report/catalogues/df_bbnb.csv', header = True, sep =',')\n",
    "df_bbz.to_csv('/data/astro/scratch/lcabayol/Euclid/referee_report/catalogues/df_bbz.csv', header = True, sep =',')\n",
    "df_bbnbz.to_csv('/data/astro/scratch/lcabayol/Euclid/referee_report/catalogues/df_bbnbz.csv', header = True, sep =',')"
   ]
  },
  {
   "cell_type": "code",
   "execution_count": null,
   "id": "e52c7354-8b7f-47be-8eb4-5ce3cf0d590c",
   "metadata": {},
   "outputs": [],
   "source": []
  }
 ],
 "metadata": {
  "kernelspec": {
   "display_name": "DLenv2",
   "language": "python",
   "name": "dlenv2"
  },
  "language_info": {
   "codemirror_mode": {
    "name": "ipython",
    "version": 3
   },
   "file_extension": ".py",
   "mimetype": "text/x-python",
   "name": "python",
   "nbconvert_exporter": "python",
   "pygments_lexer": "ipython3",
   "version": "3.9.7"
  }
 },
 "nbformat": 4,
 "nbformat_minor": 5
}
