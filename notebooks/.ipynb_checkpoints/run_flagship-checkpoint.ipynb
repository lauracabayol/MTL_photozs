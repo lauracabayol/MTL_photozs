{
 "cells": [
  {
   "cell_type": "code",
   "execution_count": 1,
   "id": "3c7929c4-7249-4d1c-a34e-a00849f1e278",
   "metadata": {},
   "outputs": [],
   "source": [
    "import numpy as np\n",
    "import pandas as pd\n",
    "import matplotlib.pyplot as plt\n",
    "\n",
    "import torch\n",
    "import os\n",
    "\n",
    "from torch import nn, optim\n",
    "from torch.optim import lr_scheduler\n",
    "import time\n"
   ]
  },
  {
   "cell_type": "code",
   "execution_count": 2,
   "id": "91560be1-a3e6-456b-86ca-d653090baecc",
   "metadata": {},
   "outputs": [],
   "source": [
    "def sigma68(data): return 0.5*(pd.Series(data).quantile(q = 0.84) - pd.Series(data).quantile(q = 0.16))"
   ]
  },
  {
   "cell_type": "code",
   "execution_count": 3,
   "id": "5004cee4-3941-45aa-add7-3b9a30a4c15b",
   "metadata": {},
   "outputs": [],
   "source": [
    "from sqlalchemy.engine import create_engine\n",
    "from sqlalchemy import *\n",
    "from sqlalchemy.orm import *\n",
    "\n",
    "engine = create_engine('postgresql://readonly@db03.pau.pic.es/dm')\n",
    "\n",
    "query = f\"\"\"\n",
    "    SELECT cm.paudm_id, cm.zspec, cm.\"I_auto\", cm.ra, cm.dec, cm.conf, cm.\"Umag\", cm.\"Bmag\", cm.\"Vmag\", cm.\"Rmag\", cm.\"ICmag\", cm.\"Zmag\"\n",
    "    FROM COSMOS as cm\n",
    "    \"\"\"\n",
    "\n",
    "with engine.begin() as conn:\n",
    "    conn.execute(\"SET TRANSACTION ISOLATION LEVEL SERIALIZABLE READ ONLY DEFERRABLE\")\n",
    "    ilbert = pd.read_sql(query, conn)\n"
   ]
  },
  {
   "cell_type": "code",
   "execution_count": 4,
   "id": "2a4a149c-bd9e-499a-a3c5-de675a0d939b",
   "metadata": {},
   "outputs": [],
   "source": [
    "query = f\"\"\"\n",
    "    SELECT fac.ref_id, fac.flux, fac.flux_error, fac.band\n",
    "    FROM forced_aperture_coadd as fac\n",
    "    WHERE fac.production_id = 948\n",
    "    \"\"\"\n",
    "\n",
    "with engine.begin() as conn:\n",
    "    conn.execute(\"SET TRANSACTION ISOLATION LEVEL SERIALIZABLE READ ONLY DEFERRABLE\")\n",
    "    FAC_memba = pd.read_sql(query, conn)\n",
    "\n",
    "FAC_memba['flux'] = FAC_memba.flux / 0.625\n",
    "FAC_memba['flux_error'] = FAC_memba.flux_error / 0.625\n",
    "\n",
    "FAC_memba = FAC_memba.rename(columns = {'ref_id':'paudm_id'})\n",
    "\n",
    "FAC_memba_flux = FAC_memba.pivot(index = 'paudm_id', columns = 'band', values = 'flux')\n"
   ]
  },
  {
   "cell_type": "code",
   "execution_count": 5,
   "id": "a77a5111-b05d-4a7e-8b69-27d8ba3fb3e1",
   "metadata": {},
   "outputs": [],
   "source": [
    "z = pd.read_csv('/data/astro/scratch/lcabayol/Euclid/cosmos_pz_cat_alex.csv', comment = '#', header = 0, sep = ',')\n",
    "z = z.rename(columns = {'ref_id':'paudm_id'})\n",
    "z = z.rename(columns = {'photoz':'zb_alex'})\n",
    "z = z[z.zb_alex <1.5]\n",
    "z = z.replace('N',np.nan, regex=True)\n",
    "z = z.astype(np.float32)"
   ]
  },
  {
   "cell_type": "code",
   "execution_count": 6,
   "id": "f4de97ea-fe22-4cba-addc-ec4553358f75",
   "metadata": {},
   "outputs": [],
   "source": [
    "ilbert = ilbert.merge(z[['paudm_id','zb_alex','zspec_mean']], on = ['paudm_id'])\n",
    "ilbert = ilbert.fillna(0)\n"
   ]
  },
  {
   "cell_type": "code",
   "execution_count": 7,
   "id": "bac1737d-8128-42c0-aaa5-a91e3325ca46",
   "metadata": {},
   "outputs": [],
   "source": [
    "\n",
    "ilbert['target_zs'] = ilbert.zspec\n",
    "ilbert.target_zs.where((ilbert.conf>3), 0, inplace = True)\n",
    "ilbert.target_zs.where((ilbert.conf<5), 0, inplace = True)\n",
    "ilbert.target_zs.where((ilbert.target_zs!=0), ilbert.zspec_mean, inplace = True)\n"
   ]
  },
  {
   "cell_type": "code",
   "execution_count": 8,
   "id": "4d664331-714f-4326-afeb-857357fab8a9",
   "metadata": {},
   "outputs": [],
   "source": [
    "ilbert = ilbert.fillna(0)\n",
    "\n",
    "ilbert['target_zb'] = ilbert.zspec\n",
    "ilbert.target_zb.where((ilbert.conf>3), 0, inplace = True)\n",
    "ilbert.target_zb.where((ilbert.conf<5), 0, inplace = True)\n",
    "ilbert.target_zb.where((ilbert.target_zb!=0), ilbert.zspec_mean, inplace = True)\n",
    "ilbert.target_zb.where((ilbert.target_zb!=0), ilbert.zb_alex, inplace = True)\n"
   ]
  },
  {
   "cell_type": "code",
   "execution_count": 9,
   "id": "55083ba6-3e6e-48d6-90f7-442e94b74157",
   "metadata": {},
   "outputs": [],
   "source": [
    "ilbert = ilbert[ilbert.zspec <1.5]\n",
    "ilbert = ilbert[ilbert.target_zb <1.5]\n",
    "ilbert = ilbert[ilbert.target_zs <1.5]"
   ]
  },
  {
   "cell_type": "markdown",
   "id": "d3c5c4f8-315e-4005-9c9f-d2df10648e0e",
   "metadata": {},
   "source": [
    "# TRAIN NETWORKS"
   ]
  },
  {
   "cell_type": "code",
   "execution_count": 17,
   "id": "2ac0b0ff-e829-4440-8071-0cf79be42b08",
   "metadata": {},
   "outputs": [],
   "source": [
    "NB_list = ['NB%s'%nb for nb in np.arange(455,855,10)]\n",
    "BB_list = ['Umag','Bmag','Vmag','Rmag','ICmag','Zmag']"
   ]
  },
  {
   "cell_type": "code",
   "execution_count": 10,
   "id": "e80fae96-c8c0-43d2-9607-93ecb236c110",
   "metadata": {},
   "outputs": [],
   "source": [
    "import MTLphotozs"
   ]
  },
  {
   "cell_type": "markdown",
   "id": "fc2dd746-60a8-44bd-8af6-15ad488c9b94",
   "metadata": {},
   "source": [
    "## BB"
   ]
  },
  {
   "cell_type": "code",
   "execution_count": 29,
   "id": "bfce1765-87ad-40e3-82cd-59e0d73c4c93",
   "metadata": {},
   "outputs": [],
   "source": [
    "catalog_bb = ilbert[ilbert.target_zs != 0].reset_index()\n",
    "catalog_nb = FAC_memba_flux[FAC_memba_flux.index.isin(catalog_bb.paudm_id)]\n",
    "catalog_nb = 26-2.5*np.log10(catalog_nb)"
   ]
  },
  {
   "cell_type": "code",
   "execution_count": 32,
   "id": "d7895450-eabf-4b84-8638-b05bec4d718a",
   "metadata": {},
   "outputs": [
    {
     "name": "stdout",
     "output_type": "stream",
     "text": [
      "Bias -0.0009432100995509597 scatter 0.02002217832149903\n"
     ]
    },
    {
     "name": "stderr",
     "output_type": "stream",
     "text": [
      "/tmp/ipykernel_18925/236683107.py:29: FutureWarning: In a future version of pandas all arguments of concat except for the argument 'objs' will be keyword-only\n",
      "  df_all = pd.concat((df_all,df),0)\n"
     ]
    },
    {
     "name": "stdout",
     "output_type": "stream",
     "text": [
      "Bias -0.0004457953067602227 scatter 0.01887972115378951\n",
      "Bias 0.0008494939492459785 scatter 0.0173459660864918\n",
      "Bias -0.000579386619304535 scatter 0.01992010569974079\n",
      "Bias 0.002334729635122062 scatter 0.018109886324029024\n",
      "Bias 9.681190817481736e-05 scatter 0.01764147346341039\n"
     ]
    }
   ],
   "source": [
    "df_all = pd.DataFrame()\n",
    "cuts = np.arange(0,12001,2000)\n",
    "\n",
    "for k in range(len(cuts)-1):\n",
    "    BB = MTLphotozs.mtl_photoz(zs = True)\n",
    "    catalog_test = catalog_bb.loc[cuts[k]:cuts[k+1]]\n",
    "    catalog_training= catalog_bb[~catalog_bb.paudm_id.isin(catalog_test.paudm_id)]\n",
    "    catalog_nb_train = catalog_nb[catalog_nb.index.isin(catalog_training.paudm_id)]\n",
    "    \n",
    "    training_loader = BB.create_loader(catalog_bb,catalog_nb)\n",
    "    BBnet = BB.train_mtl(training_loader, epochs = 65)\n",
    "    \n",
    "    \n",
    "    samps_BB_spec_test =  catalog_test[BB_list].values\n",
    "    samps_BB_colors_test = samps_BB_spec_test[:,:-1] - samps_BB_spec_test[:,1:]\n",
    "    samps_BB_colors_test = torch.Tensor(samps_BB_colors_test)\n",
    "    zb_test = catalog_test.target_zs.values\n",
    "    refid_test = catalog_test.paudm_id.values\n",
    "    _,logalphas, z,logzerr = BBnet(samps_BB_colors_test.cuda())\n",
    "    \n",
    "    alphas = torch.exp(logalphas)\n",
    "    zb = (alphas * z).sum(1)\n",
    "    zb,logzerr  = zb.detach().cpu().numpy(), logzerr.detach().cpu().numpy()\n",
    "\n",
    "    df = pd.DataFrame(np.c_[refid_test,zb,zb_test], columns = ['ref_id','zb','zb_true'])\n",
    "    df['rerr'] = (df.zb - df.zb_true) / (1 + df.zb_true)\n",
    "    print('Bias',np.nanmedian(df.rerr), 'scatter', sigma68(df.rerr))\n",
    "    \n",
    "    df_all = pd.concat((df_all,df),0) "
   ]
  },
  {
   "cell_type": "code",
   "execution_count": 34,
   "id": "1ac5469f-3460-4a01-99b3-2a8a30545d2c",
   "metadata": {},
   "outputs": [
    {
     "name": "stdout",
     "output_type": "stream",
     "text": [
      "Bias -0.001982978882552288 scatter 0.025065920614642693\n"
     ]
    },
    {
     "name": "stderr",
     "output_type": "stream",
     "text": [
      "/tmp/ipykernel_18925/3049832044.py:20: FutureWarning: In a future version of pandas all arguments of concat except for the argument 'objs' will be keyword-only\n",
      "  df_all = pd.concat((df_all,df),0)\n"
     ]
    }
   ],
   "source": [
    "catalog_bb2 = ilbert[(ilbert.target_zs == 0)&(ilbert.target_zb != 0)].reset_index()\n",
    "samps_BB_spec_test = catalog_bb2[BB_list].values\n",
    "zb_spec_test = catalog_bb2.target_zb.values\n",
    "refid = catalog_bb2.paudm_id.values\n",
    "\n",
    "samps_BB_colors_test = samps_BB_spec_test[:,:-1] - samps_BB_spec_test[:,1:]\n",
    "samps_BB_colors_test = torch.Tensor(samps_BB_colors_test)\n",
    "\n",
    "_,logalphas, z,logzerr = BBnet(samps_BB_colors_test.cuda())\n",
    "\n",
    "alphas = torch.exp(logalphas)\n",
    "zb = (alphas * z).sum(1)\n",
    "zb,logzerr  = zb.detach().cpu().numpy(), logzerr.detach().cpu().numpy()\n",
    "\n",
    "df = pd.DataFrame(np.c_[refid,zb,zb_spec_test], columns = ['ref_id','zb','zb_true'])\n",
    "df['rerr'] = (df.zb - df.zb_true) / (1 + df.zb_true)\n",
    "\n",
    "print('Bias',np.nanmedian(df.rerr), 'scatter', sigma68(df.rerr))\n",
    "\n",
    "df_all = pd.concat((df_all,df),0) "
   ]
  },
  {
   "cell_type": "code",
   "execution_count": 35,
   "id": "7160fbcb-c853-47b6-beb9-5f9f703fea55",
   "metadata": {},
   "outputs": [],
   "source": [
    "df_bb = df_all.copy()"
   ]
  },
  {
   "cell_type": "markdown",
   "id": "295d4e2d-2a5f-4439-994d-c8f8365e83f8",
   "metadata": {},
   "source": [
    "## BB + NB"
   ]
  },
  {
   "cell_type": "code",
   "execution_count": 40,
   "id": "f6af1e6d-87b6-4411-bad7-2a80b1f8100a",
   "metadata": {},
   "outputs": [],
   "source": [
    "catalog_bb = ilbert[ilbert.target_zb != 0].reset_index()\n",
    "catalog_nb = FAC_memba_flux[FAC_memba_flux.index.isin(catalog_bb.paudm_id)]\n",
    "catalog_nb = 26-2.5*np.log10(catalog_nb)"
   ]
  },
  {
   "cell_type": "code",
   "execution_count": 46,
   "id": "b745d993-cb56-4443-ad35-b05d29251bc5",
   "metadata": {
    "tags": []
   },
   "outputs": [
    {
     "name": "stdout",
     "output_type": "stream",
     "text": [
      "Bias -0.002595923838374069 scatter 0.021717317362539207\n"
     ]
    },
    {
     "name": "stderr",
     "output_type": "stream",
     "text": [
      "/tmp/ipykernel_18925/3172688797.py:30: FutureWarning: In a future version of pandas all arguments of concat except for the argument 'objs' will be keyword-only\n",
      "  df_all = pd.concat((df_all,df),0)\n"
     ]
    },
    {
     "name": "stdout",
     "output_type": "stream",
     "text": [
      "Bias -0.001162225287548539 scatter 0.020690977672107102\n",
      "Bias -0.00039415785025018944 scatter 0.018476537272597408\n",
      "Bias -0.00015393309481222573 scatter 0.021184981824151735\n",
      "Bias 0.0013030845051024574 scatter 0.020980659372275536\n"
     ]
    }
   ],
   "source": [
    "df_all = pd.DataFrame()\n",
    "cuts = np.linspace(0,len(catalog_bb),6)\n",
    "\n",
    "for k in range(len(cuts)-1):\n",
    "    BBNB = MTLphotozs.mtl_photoz(zs = False, zs_NB = True)\n",
    "    catalog_test = catalog_bb.loc[cuts[k]:cuts[k+1]]\n",
    "    catalog_training= catalog_bb[~catalog_bb.paudm_id.isin(catalog_test.paudm_id)]\n",
    "    catalog_nb_train = catalog_nb[catalog_nb.index.isin(catalog_training.paudm_id)]\n",
    "    \n",
    "    training_loader = BBNB.create_loader(catalog_bb,catalog_nb)\n",
    "    BBNBnet = BBNB.train_mtl(training_loader, epochs = 65)\n",
    "    \n",
    "    \n",
    "    \n",
    "    samps_BB_spec_test =  catalog_test[BB_list].values\n",
    "    samps_BB_colors_test = samps_BB_spec_test[:,:-1] - samps_BB_spec_test[:,1:]\n",
    "    samps_BB_colors_test = torch.Tensor(samps_BB_colors_test)\n",
    "    zb_test = catalog_test.target_zb.values\n",
    "    refid_test = catalog_test.paudm_id.values\n",
    "    _,logalphas, z,logzerr = BBNBnet(samps_BB_colors_test.cuda())\n",
    "    \n",
    "    alphas = torch.exp(logalphas)\n",
    "    zb = (alphas * z).sum(1)\n",
    "    zb,logzerr  = zb.detach().cpu().numpy(), logzerr.detach().cpu().numpy()\n",
    "\n",
    "    df = pd.DataFrame(np.c_[refid_test,zb,zb_test], columns = ['ref_id','zb','zb_true'])\n",
    "    df['rerr'] = (df.zb - df.zb_true) / (1 + df.zb_true)\n",
    "    print('Bias',np.nanmedian(df.rerr), 'scatter', sigma68(df.rerr))\n",
    "    \n",
    "    df_all = pd.concat((df_all,df),0) "
   ]
  },
  {
   "cell_type": "code",
   "execution_count": 48,
   "id": "1d9e9236-796d-479e-bc8f-75ac0eafc64c",
   "metadata": {},
   "outputs": [],
   "source": [
    "df_bbnb = df_all.copy()"
   ]
  },
  {
   "cell_type": "markdown",
   "id": "2b6b2f67-ef96-4b63-a41a-37b6b9382d1a",
   "metadata": {},
   "source": [
    "## BB + z"
   ]
  },
  {
   "cell_type": "code",
   "execution_count": 49,
   "id": "48b02cd2-a59a-4043-9a05-062929072afb",
   "metadata": {},
   "outputs": [],
   "source": [
    "catalog_bb = ilbert[ilbert.target_zb != 0].reset_index()\n",
    "catalog_nb = FAC_memba_flux[FAC_memba_flux.index.isin(catalog_bb.paudm_id)]\n",
    "catalog_nb = 26-2.5*np.log10(catalog_nb)"
   ]
  },
  {
   "cell_type": "code",
   "execution_count": 51,
   "id": "3e66fdc8-7bbc-4dd2-a358-f2a1ecc85b48",
   "metadata": {},
   "outputs": [
    {
     "name": "stdout",
     "output_type": "stream",
     "text": [
      "Bias -0.002335593162031184 scatter 0.01995378630293039\n"
     ]
    },
    {
     "name": "stderr",
     "output_type": "stream",
     "text": [
      "/tmp/ipykernel_18925/996012447.py:29: FutureWarning: In a future version of pandas all arguments of concat except for the argument 'objs' will be keyword-only\n",
      "  df_all = pd.concat((df_all,df),0)\n"
     ]
    },
    {
     "name": "stdout",
     "output_type": "stream",
     "text": [
      "Bias 0.0009012521632165858 scatter 0.018831616140777937\n",
      "Bias 0.0005407008238211374 scatter 0.017458708015574746\n",
      "Bias -0.0012457090213748446 scatter 0.019492615422443647\n",
      "Bias -0.0009953453551965901 scatter 0.019509919618210143\n"
     ]
    }
   ],
   "source": [
    "df_all = pd.DataFrame()\n",
    "cuts = np.linspace(0,len(catalog_bb),6)\n",
    "\n",
    "for k in range(len(cuts)-1):\n",
    "    BBz = MTLphotozs.mtl_photoz(zs = False, zs_zb = True)\n",
    "    catalog_test = catalog_bb.loc[cuts[k]:cuts[k+1]]\n",
    "    catalog_training= catalog_bb[~catalog_bb.paudm_id.isin(catalog_test.paudm_id)]\n",
    "    catalog_nb_train = catalog_nb[catalog_nb.index.isin(catalog_training.paudm_id)]\n",
    "    \n",
    "    training_loader = BBz.create_loader(catalog_bb,catalog_nb)\n",
    "    BBznet = BBz.train_mtl(training_loader, epochs = 65)\n",
    "    \n",
    "    \n",
    "    samps_BB_spec_test =  catalog_test[BB_list].values\n",
    "    samps_BB_colors_test = samps_BB_spec_test[:,:-1] - samps_BB_spec_test[:,1:]\n",
    "    samps_BB_colors_test = torch.Tensor(samps_BB_colors_test)\n",
    "    zb_test = catalog_test.target_zb.values\n",
    "    refid_test = catalog_test.paudm_id.values\n",
    "    _,logalphas, z,logzerr = BBznet(samps_BB_colors_test.cuda())\n",
    "    \n",
    "    alphas = torch.exp(logalphas)\n",
    "    zb = (alphas * z).sum(1)\n",
    "    zb,logzerr  = zb.detach().cpu().numpy(), logzerr.detach().cpu().numpy()\n",
    "\n",
    "    df = pd.DataFrame(np.c_[refid_test,zb,zb_test], columns = ['ref_id','zb','zb_true'])\n",
    "    df['rerr'] = (df.zb - df.zb_true) / (1 + df.zb_true)\n",
    "    print('Bias',np.nanmedian(df.rerr), 'scatter', sigma68(df.rerr))\n",
    "    \n",
    "    df_all = pd.concat((df_all,df),0) "
   ]
  },
  {
   "cell_type": "code",
   "execution_count": 52,
   "id": "925fc644-8029-422a-a52d-2c58bbf05032",
   "metadata": {},
   "outputs": [],
   "source": [
    "df_bbz = df_all.copy()"
   ]
  },
  {
   "cell_type": "markdown",
   "id": "41c2b716-5208-4b9e-a32a-25b65bbe45c4",
   "metadata": {},
   "source": [
    "## BB + NB + z"
   ]
  },
  {
   "cell_type": "code",
   "execution_count": 53,
   "id": "b156e97f-ef90-43f1-8a1b-42899b06ab89",
   "metadata": {},
   "outputs": [],
   "source": [
    "catalog_bb = ilbert[ilbert.target_zb != 0].reset_index()\n",
    "catalog_nb = FAC_memba_flux[FAC_memba_flux.index.isin(catalog_bb.paudm_id)]\n",
    "catalog_nb = 26-2.5*np.log10(catalog_nb)"
   ]
  },
  {
   "cell_type": "code",
   "execution_count": 54,
   "id": "0d3a1d3d-f950-4f93-b8b8-b0b81583b9cf",
   "metadata": {},
   "outputs": [
    {
     "name": "stdout",
     "output_type": "stream",
     "text": [
      "Bias 0.00012340900843473473 scatter 0.02044099648749069\n"
     ]
    },
    {
     "name": "stderr",
     "output_type": "stream",
     "text": [
      "/tmp/ipykernel_18925/260961283.py:29: FutureWarning: In a future version of pandas all arguments of concat except for the argument 'objs' will be keyword-only\n",
      "  df_all = pd.concat((df_all,df),0)\n"
     ]
    },
    {
     "name": "stdout",
     "output_type": "stream",
     "text": [
      "Bias 0.00035453601239973605 scatter 0.01893829508270138\n",
      "Bias 0.0011081242069249262 scatter 0.017504762054009734\n",
      "Bias -0.0020263393815864584 scatter 0.019030670592370832\n",
      "Bias 0.00027751560026899867 scatter 0.01884780445773831\n"
     ]
    }
   ],
   "source": [
    "df_all = pd.DataFrame()\n",
    "cuts = np.linspace(0,len(catalog_bb),6)\n",
    "\n",
    "for k in range(len(cuts)-1):\n",
    "    BBNBz = MTLphotozs.mtl_photoz(zs = False, zs_NB_zb = True)\n",
    "    catalog_test = catalog_bb.loc[cuts[k]:cuts[k+1]]\n",
    "    catalog_training= catalog_bb[~catalog_bb.paudm_id.isin(catalog_test.paudm_id)]\n",
    "    catalog_nb_train = catalog_nb[catalog_nb.index.isin(catalog_training.paudm_id)]\n",
    "    \n",
    "    training_loader = BBNBz.create_loader(catalog_bb,catalog_nb)\n",
    "    BBNBznet = BBNBz.train_mtl(training_loader, epochs = 65)\n",
    "    \n",
    "    \n",
    "    samps_BB_spec_test =  catalog_test[BB_list].values\n",
    "    samps_BB_colors_test = samps_BB_spec_test[:,:-1] - samps_BB_spec_test[:,1:]\n",
    "    samps_BB_colors_test = torch.Tensor(samps_BB_colors_test)\n",
    "    zb_test = catalog_test.target_zb.values\n",
    "    refid_test = catalog_test.paudm_id.values\n",
    "    _,logalphas, z,logzerr = BBNBznet(samps_BB_colors_test.cuda())\n",
    "    \n",
    "    alphas = torch.exp(logalphas)\n",
    "    zb = (alphas * z).sum(1)\n",
    "    zb,logzerr  = zb.detach().cpu().numpy(), logzerr.detach().cpu().numpy()\n",
    "\n",
    "    df = pd.DataFrame(np.c_[refid_test,zb,zb_test], columns = ['ref_id','zb','zb_true'])\n",
    "    df['rerr'] = (df.zb - df.zb_true) / (1 + df.zb_true)\n",
    "    print('Bias',np.nanmedian(df.rerr), 'scatter', sigma68(df.rerr))\n",
    "    \n",
    "    df_all = pd.concat((df_all,df),0) "
   ]
  },
  {
   "cell_type": "code",
   "execution_count": 58,
   "id": "1719bc72-72f6-4de1-bc85-45ad85311247",
   "metadata": {},
   "outputs": [],
   "source": [
    "df_bbnbz = df_all.copy()"
   ]
  },
  {
   "cell_type": "code",
   "execution_count": 60,
   "id": "efdbf516-4301-4160-a505-3ea61fbe10d9",
   "metadata": {},
   "outputs": [],
   "source": [
    "df_bb.to_csv('/data/astro/scratch/lcabayol/Euclid/referee_report/catalogues/df_bb.csv', header = True, sep =',')\n",
    "df_bbnb.to_csv('/data/astro/scratch/lcabayol/Euclid/referee_report/catalogues/df_bbnb.csv', header = True, sep =',')\n",
    "df_bbz.to_csv('/data/astro/scratch/lcabayol/Euclid/referee_report/catalogues/df_bbz.csv', header = True, sep =',')\n",
    "df_bbnbz.to_csv('/data/astro/scratch/lcabayol/Euclid/referee_report/catalogues/df_bbnbz.csv', header = True, sep =',')"
   ]
  },
  {
   "cell_type": "code",
   "execution_count": null,
   "id": "e52c7354-8b7f-47be-8eb4-5ce3cf0d590c",
   "metadata": {},
   "outputs": [],
   "source": []
  }
 ],
 "metadata": {
  "kernelspec": {
   "display_name": "DLenv2",
   "language": "python",
   "name": "dlenv2"
  },
  "language_info": {
   "codemirror_mode": {
    "name": "ipython",
    "version": 3
   },
   "file_extension": ".py",
   "mimetype": "text/x-python",
   "name": "python",
   "nbconvert_exporter": "python",
   "pygments_lexer": "ipython3",
   "version": "3.9.7"
  }
 },
 "nbformat": 4,
 "nbformat_minor": 5
}
