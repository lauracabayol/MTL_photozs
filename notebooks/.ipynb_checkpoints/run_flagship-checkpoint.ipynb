{
 "cells": [
  {
   "cell_type": "code",
   "execution_count": 1,
   "id": "3c7929c4-7249-4d1c-a34e-a00849f1e278",
   "metadata": {},
   "outputs": [],
   "source": [
    "import numpy as np\n",
    "import pandas as pd\n",
    "import matplotlib.pyplot as plt\n",
    "\n",
    "import torch\n",
    "import os\n",
    "\n",
    "from torch import nn, optim\n",
    "from torch.optim import lr_scheduler\n",
    "import time\n"
   ]
  },
  {
   "cell_type": "code",
   "execution_count": 2,
   "id": "91560be1-a3e6-456b-86ca-d653090baecc",
   "metadata": {},
   "outputs": [],
   "source": [
    "def sigma68(data): return 0.5*(pd.Series(data).quantile(q = 0.84) - pd.Series(data).quantile(q = 0.16))"
   ]
  },
  {
   "cell_type": "code",
   "execution_count": 3,
   "id": "5004cee4-3941-45aa-add7-3b9a30a4c15b",
   "metadata": {},
   "outputs": [],
   "source": [
    "def exposure_SN(cat_in, filters,  scale = True):\n",
    "\n",
    "    sn_lims =  {'U': 25.25, 'G': 24.65, 'R': 24.15, 'I': 24.35, 'ZN': 23.95,  'H':25,'J':25, 'Y':25}\n",
    "    #sn_lims =  {'U': 25.5, 'G': 24.4, 'R': 24.1, 'I': 24.1, 'ZN': 23.7,  'H':23.2,'J':23.2, 'Y':23.2}\n",
    "\n",
    "    #sn_lims =  {'U':35, 'G':35, 'R': 40, 'I':40, 'ZN':40, 'H':35,'J':35, 'Y':35}\n",
    "    #sn_lims =  {'U':27, 'G':27, 'R': 27, 'I':27, 'ZN':27, 'H':27,'J':27, 'Y':27}\n",
    "    #sn_lims =  {'U':28, 'G':26, 'R': 25, 'I':25, 'ZN':26, 'H':25,'J':25, 'Y':25}\n",
    "\n",
    "    \n",
    "    scale_filters = [x for x in filters if scale == True]\n",
    "    lims = [sn_lims[x] for x in filters]\n",
    "\n",
    "    sn_val0 = 5\n",
    "    R = 1\n",
    "\n",
    "    sn_val = [(R*sn_val0 if x in scale_filters else sn_val0) for x in filters]\n",
    "\n",
    "    D = sn_val*10**(np.array(lims) / 5.)\n",
    "\n",
    "    mag = np.array(cat_in[[x for x in filters]])\n",
    "    SN_arr =  D*10**(-0.2*mag)\n",
    "\n",
    "\n",
    "    sn_min = 0\n",
    "    sn_max = lims\n",
    "\n",
    "\n",
    "    SN_arr = np.clip(SN_arr, sn_min, sn_max)\n",
    "    SN = pd.DataFrame(SN_arr, columns=filters, index= cat_in.index)\n",
    "\n",
    "    return SN\n",
    "\n"
   ]
  },
  {
   "cell_type": "code",
   "execution_count": 4,
   "id": "2a4a149c-bd9e-499a-a3c5-de675a0d939b",
   "metadata": {},
   "outputs": [],
   "source": [
    "catalog = pd.read_csv('/data/astro/scratch/lcabayol/Euclid/PAUS_mock_Euclidbands.csv', sep = ',', header = 0, comment = '#')\n",
    "#catalog = pd.read_csv('/cephfs/pic.es/astro/scratch/lcabayol/Euclid/Euclid_mock.csv', sep = ',', header = 0, comment = '#')\n",
    "\n",
    "catalog = catalog.dropna()"
   ]
  },
  {
   "cell_type": "code",
   "execution_count": 5,
   "id": "a77a5111-b05d-4a7e-8b69-27d8ba3fb3e1",
   "metadata": {},
   "outputs": [],
   "source": [
    "Ngals = 35000\n",
    "catalog = catalog.sample(Ngals)\n",
    "catalog['imag'] = 26 - 2.5*np.log10(catalog.flux_nl_el_t_blanco_decam_i.values)\n",
    "catalog = catalog[catalog.imag < 23]"
   ]
  },
  {
   "cell_type": "code",
   "execution_count": 6,
   "id": "f4de97ea-fe22-4cba-addc-ec4553358f75",
   "metadata": {},
   "outputs": [],
   "source": [
    "catalog['ref_id'] = np.arange(len(catalog))"
   ]
  },
  {
   "cell_type": "code",
   "execution_count": 7,
   "id": "bac1737d-8128-42c0-aaa5-a91e3325ca46",
   "metadata": {},
   "outputs": [],
   "source": [
    "nb_names_old = ['flux_nl_el_t_pau_nb%s'%x for x in 455+10*np.arange(40)]\n",
    "nb_names_new = ['NB%s'%x for x in 455+10*np.arange(40)]\n",
    "nb_name_dict = dict(zip(nb_names_old, nb_names_new))\n",
    "\n",
    "catalog_nb_nl = catalog.set_index('ref_id')[nb_names_old].rename(columns = nb_name_dict)"
   ]
  },
  {
   "cell_type": "code",
   "execution_count": 8,
   "id": "4d664331-714f-4326-afeb-857357fab8a9",
   "metadata": {},
   "outputs": [],
   "source": [
    "bb_names_old = ['flux_nl_el_t_cfht_u','flux_nl_el_t_blanco_decam_g','flux_nl_el_t_blanco_decam_r','flux_nl_el_t_blanco_decam_i','flux_nl_el_t_blanco_decam_z','flux_nl_el_t_euclid_nisp_h','flux_nl_el_t_euclid_nisp_j','flux_nl_el_t_euclid_nisp_y']\n",
    "bb_names_new = ['U','G','R','I','ZN','H','J','Y']\n",
    "bb_name_dict = dict(zip(bb_names_old, bb_names_new))\n",
    "\n",
    "catalog_bb_nl = catalog.set_index('ref_id')[bb_names_old].rename(columns = bb_name_dict)"
   ]
  },
  {
   "cell_type": "code",
   "execution_count": 9,
   "id": "55083ba6-3e6e-48d6-90f7-442e94b74157",
   "metadata": {},
   "outputs": [],
   "source": [
    "# load fits from Martin Eriksen to estimate SNR from the flux\n",
    "\n",
    "snr_fit = pd.read_csv('/nfs/pic.es/user/l/lcabayol/Euclid/snr_fit.csv', sep = ',', header = 0)\n",
    "factors = snr_fit[snr_fit.key == 'med'].reset_index()\n",
    "\n",
    "aas = factors.a.values\n",
    "bs = factors.b.values\n",
    "\n",
    "f = 0.7\n",
    "SNR_NB = np.exp(aas*np.log(f*np.abs(catalog_nb_nl.values)) + bs)\n",
    "err = (np.abs(catalog_nb_nl.values) / SNR_NB)  * np.random.normal(0,1, size = (catalog_nb_nl.shape))\n",
    "\n",
    "catalog_nb = pd.DataFrame(catalog_nb_nl + err, columns = nb_names_new, index = catalog_nb_nl.index)\n",
    "catalog_nb_err = pd.DataFrame(np.abs(err), columns = nb_names_new, index = catalog_nb_nl.index)"
   ]
  },
  {
   "cell_type": "code",
   "execution_count": 10,
   "id": "32226929-7ee8-4ebc-8d38-a44210952a3b",
   "metadata": {},
   "outputs": [],
   "source": [
    "catalog_bb_nl_mag = 26 - 2.5*np.log10(catalog_bb_nl)\n",
    "filters = bb_names_new.copy()\n",
    "\n",
    "SNR_flagship_BB = exposure_SN(catalog_bb_nl_mag, filters,  scale = True)\n",
    "\n",
    "err = np.abs(catalog_bb_nl / SNR_flagship_BB)\n",
    "err_rand = err * np.random.normal(0,1, size = (err.shape))\n",
    "\n",
    "catalog_bb = catalog_bb_nl.values + np.abs(err_rand)\n",
    "catalog_bb_err = np.abs(err_rand)\n",
    "\n",
    "catalog_bb = pd.DataFrame(catalog_bb, columns = bb_names_new, index = catalog_bb_nl.index)\n",
    "catalog_bb_err = pd.DataFrame(np.abs(err), columns = bb_names_new, index = catalog_bb_nl.index)\n"
   ]
  },
  {
   "cell_type": "code",
   "execution_count": 11,
   "id": "dc17aeec-f0e9-4520-9a40-28259e205282",
   "metadata": {},
   "outputs": [],
   "source": [
    "catalog_bb['target_zs'] = catalog.observed_redshift_gal.values"
   ]
  },
  {
   "cell_type": "code",
   "execution_count": 12,
   "id": "49ee43e4-4d65-4a36-a024-8a26e1041bdc",
   "metadata": {},
   "outputs": [],
   "source": [
    "m = np.arange(18,24,1)\n",
    "s68 = [0.0025,0.003,0.004,0.0045,0.0055,0.007]\n",
    "fSNR  = np.polyfit(m,s68,2)\n",
    "imag = catalog_bb.I.values\n",
    "\n",
    "dispersion_z = fSNR[0] * catalog_bb.I.values**2 + fSNR[1]*catalog_bb.I.values  + fSNR[2]\n",
    "photoz = catalog_bb.target_zs.values+  dispersion_z * np.random.normal(0,1,size = catalog_bb.shape[0])\n",
    "catalog_bb['target_zb'] = photoz"
   ]
  },
  {
   "cell_type": "code",
   "execution_count": 13,
   "id": "4bf512ff-3311-4b07-bf22-39115b65c255",
   "metadata": {},
   "outputs": [],
   "source": [
    "catalog_bb['target_train'] = catalog_bb.target_zs\n",
    "mask_train = np.random.choice([0,1], p = [0.7,0.3], size = len(catalog_bb))\n",
    "catalog_bb['target_train'] = catalog_bb.target_train * mask_train"
   ]
  },
  {
   "cell_type": "markdown",
   "id": "d3c5c4f8-315e-4005-9c9f-d2df10648e0e",
   "metadata": {},
   "source": [
    "# TRAIN NETWORKS"
   ]
  },
  {
   "cell_type": "code",
   "execution_count": 14,
   "id": "2ac0b0ff-e829-4440-8071-0cf79be42b08",
   "metadata": {},
   "outputs": [],
   "source": [
    "BB_list = ['U','G','R','I','ZN','H','J','Y']\n",
    "NB_list = catalog_nb.columns.tolist()"
   ]
  },
  {
   "cell_type": "code",
   "execution_count": 15,
   "id": "e80fae96-c8c0-43d2-9607-93ecb236c110",
   "metadata": {},
   "outputs": [],
   "source": [
    "import MTLphotozs"
   ]
  },
  {
   "cell_type": "markdown",
   "id": "fc2dd746-60a8-44bd-8af6-15ad488c9b94",
   "metadata": {},
   "source": [
    "## BB"
   ]
  },
  {
   "cell_type": "code",
   "execution_count": 16,
   "id": "bfce1765-87ad-40e3-82cd-59e0d73c4c93",
   "metadata": {},
   "outputs": [],
   "source": [
    "catalog_bb_sub = catalog_bb[catalog_bb.target_train != 0]#.reset_index()\n",
    "catalog_nb_sub = catalog_nb[catalog_nb.index.isin(catalog_bb_sub.index)]\n",
    "catalog_nb_sub = 26-2.5*np.log10(catalog_nb_sub)"
   ]
  },
  {
   "cell_type": "code",
   "execution_count": 22,
   "id": "c2dd570a-b2d8-45bb-9367-8388945e42ab",
   "metadata": {},
   "outputs": [
    {
     "data": {
      "text/html": [
       "<div>\n",
       "<style scoped>\n",
       "    .dataframe tbody tr th:only-of-type {\n",
       "        vertical-align: middle;\n",
       "    }\n",
       "\n",
       "    .dataframe tbody tr th {\n",
       "        vertical-align: top;\n",
       "    }\n",
       "\n",
       "    .dataframe thead th {\n",
       "        text-align: right;\n",
       "    }\n",
       "</style>\n",
       "<table border=\"1\" class=\"dataframe\">\n",
       "  <thead>\n",
       "    <tr style=\"text-align: right;\">\n",
       "      <th></th>\n",
       "      <th>NB455</th>\n",
       "      <th>NB465</th>\n",
       "      <th>NB475</th>\n",
       "      <th>NB485</th>\n",
       "      <th>NB495</th>\n",
       "      <th>NB505</th>\n",
       "      <th>NB515</th>\n",
       "      <th>NB525</th>\n",
       "      <th>NB535</th>\n",
       "      <th>NB545</th>\n",
       "      <th>...</th>\n",
       "      <th>NB755</th>\n",
       "      <th>NB765</th>\n",
       "      <th>NB775</th>\n",
       "      <th>NB785</th>\n",
       "      <th>NB795</th>\n",
       "      <th>NB805</th>\n",
       "      <th>NB815</th>\n",
       "      <th>NB825</th>\n",
       "      <th>NB835</th>\n",
       "      <th>NB845</th>\n",
       "    </tr>\n",
       "    <tr>\n",
       "      <th>ref_id</th>\n",
       "      <th></th>\n",
       "      <th></th>\n",
       "      <th></th>\n",
       "      <th></th>\n",
       "      <th></th>\n",
       "      <th></th>\n",
       "      <th></th>\n",
       "      <th></th>\n",
       "      <th></th>\n",
       "      <th></th>\n",
       "      <th></th>\n",
       "      <th></th>\n",
       "      <th></th>\n",
       "      <th></th>\n",
       "      <th></th>\n",
       "      <th></th>\n",
       "      <th></th>\n",
       "      <th></th>\n",
       "      <th></th>\n",
       "      <th></th>\n",
       "      <th></th>\n",
       "    </tr>\n",
       "  </thead>\n",
       "  <tbody>\n",
       "    <tr>\n",
       "      <th>1</th>\n",
       "      <td>NaN</td>\n",
       "      <td>23.821380</td>\n",
       "      <td>23.910893</td>\n",
       "      <td>NaN</td>\n",
       "      <td>25.229087</td>\n",
       "      <td>NaN</td>\n",
       "      <td>22.884951</td>\n",
       "      <td>23.802457</td>\n",
       "      <td>NaN</td>\n",
       "      <td>NaN</td>\n",
       "      <td>...</td>\n",
       "      <td>21.866189</td>\n",
       "      <td>22.103579</td>\n",
       "      <td>21.947398</td>\n",
       "      <td>21.820551</td>\n",
       "      <td>21.634989</td>\n",
       "      <td>21.463247</td>\n",
       "      <td>21.663812</td>\n",
       "      <td>21.549687</td>\n",
       "      <td>21.608376</td>\n",
       "      <td>21.563543</td>\n",
       "    </tr>\n",
       "    <tr>\n",
       "      <th>4</th>\n",
       "      <td>24.205679</td>\n",
       "      <td>23.578037</td>\n",
       "      <td>23.868523</td>\n",
       "      <td>NaN</td>\n",
       "      <td>23.719527</td>\n",
       "      <td>24.031548</td>\n",
       "      <td>23.710326</td>\n",
       "      <td>23.499196</td>\n",
       "      <td>23.461648</td>\n",
       "      <td>25.618238</td>\n",
       "      <td>...</td>\n",
       "      <td>22.390932</td>\n",
       "      <td>22.400258</td>\n",
       "      <td>22.011696</td>\n",
       "      <td>22.350180</td>\n",
       "      <td>22.056117</td>\n",
       "      <td>22.364125</td>\n",
       "      <td>22.204040</td>\n",
       "      <td>22.034060</td>\n",
       "      <td>22.256541</td>\n",
       "      <td>21.772407</td>\n",
       "    </tr>\n",
       "    <tr>\n",
       "      <th>7</th>\n",
       "      <td>24.379892</td>\n",
       "      <td>23.484776</td>\n",
       "      <td>23.038371</td>\n",
       "      <td>23.072309</td>\n",
       "      <td>24.197108</td>\n",
       "      <td>22.783638</td>\n",
       "      <td>24.155616</td>\n",
       "      <td>22.764440</td>\n",
       "      <td>22.223444</td>\n",
       "      <td>22.317165</td>\n",
       "      <td>...</td>\n",
       "      <td>21.722269</td>\n",
       "      <td>21.602030</td>\n",
       "      <td>21.733232</td>\n",
       "      <td>21.692501</td>\n",
       "      <td>21.869040</td>\n",
       "      <td>21.592550</td>\n",
       "      <td>21.874550</td>\n",
       "      <td>21.596562</td>\n",
       "      <td>21.882715</td>\n",
       "      <td>21.757098</td>\n",
       "    </tr>\n",
       "    <tr>\n",
       "      <th>8</th>\n",
       "      <td>21.559548</td>\n",
       "      <td>21.773858</td>\n",
       "      <td>21.415239</td>\n",
       "      <td>21.178268</td>\n",
       "      <td>21.521735</td>\n",
       "      <td>21.071240</td>\n",
       "      <td>21.026639</td>\n",
       "      <td>20.952516</td>\n",
       "      <td>20.982746</td>\n",
       "      <td>20.822754</td>\n",
       "      <td>...</td>\n",
       "      <td>19.127428</td>\n",
       "      <td>19.073816</td>\n",
       "      <td>19.027085</td>\n",
       "      <td>18.996505</td>\n",
       "      <td>18.944691</td>\n",
       "      <td>18.913608</td>\n",
       "      <td>18.926844</td>\n",
       "      <td>18.866132</td>\n",
       "      <td>18.817730</td>\n",
       "      <td>18.832927</td>\n",
       "    </tr>\n",
       "    <tr>\n",
       "      <th>10</th>\n",
       "      <td>24.425928</td>\n",
       "      <td>23.015307</td>\n",
       "      <td>NaN</td>\n",
       "      <td>23.870268</td>\n",
       "      <td>24.147789</td>\n",
       "      <td>23.366811</td>\n",
       "      <td>24.255788</td>\n",
       "      <td>23.939156</td>\n",
       "      <td>22.912417</td>\n",
       "      <td>24.042905</td>\n",
       "      <td>...</td>\n",
       "      <td>21.520617</td>\n",
       "      <td>21.948184</td>\n",
       "      <td>21.715614</td>\n",
       "      <td>22.182187</td>\n",
       "      <td>22.287293</td>\n",
       "      <td>21.967796</td>\n",
       "      <td>21.933090</td>\n",
       "      <td>22.052844</td>\n",
       "      <td>22.047060</td>\n",
       "      <td>21.910640</td>\n",
       "    </tr>\n",
       "    <tr>\n",
       "      <th>...</th>\n",
       "      <td>...</td>\n",
       "      <td>...</td>\n",
       "      <td>...</td>\n",
       "      <td>...</td>\n",
       "      <td>...</td>\n",
       "      <td>...</td>\n",
       "      <td>...</td>\n",
       "      <td>...</td>\n",
       "      <td>...</td>\n",
       "      <td>...</td>\n",
       "      <td>...</td>\n",
       "      <td>...</td>\n",
       "      <td>...</td>\n",
       "      <td>...</td>\n",
       "      <td>...</td>\n",
       "      <td>...</td>\n",
       "      <td>...</td>\n",
       "      <td>...</td>\n",
       "      <td>...</td>\n",
       "      <td>...</td>\n",
       "      <td>...</td>\n",
       "    </tr>\n",
       "    <tr>\n",
       "      <th>34985</th>\n",
       "      <td>24.651175</td>\n",
       "      <td>NaN</td>\n",
       "      <td>25.517309</td>\n",
       "      <td>23.649772</td>\n",
       "      <td>23.672188</td>\n",
       "      <td>23.953281</td>\n",
       "      <td>23.583184</td>\n",
       "      <td>NaN</td>\n",
       "      <td>23.587278</td>\n",
       "      <td>23.049593</td>\n",
       "      <td>...</td>\n",
       "      <td>22.036436</td>\n",
       "      <td>22.135465</td>\n",
       "      <td>21.606549</td>\n",
       "      <td>21.825660</td>\n",
       "      <td>21.620868</td>\n",
       "      <td>21.660761</td>\n",
       "      <td>21.697299</td>\n",
       "      <td>21.919124</td>\n",
       "      <td>21.336554</td>\n",
       "      <td>21.596447</td>\n",
       "    </tr>\n",
       "    <tr>\n",
       "      <th>34988</th>\n",
       "      <td>24.525535</td>\n",
       "      <td>23.474857</td>\n",
       "      <td>23.532024</td>\n",
       "      <td>23.636786</td>\n",
       "      <td>26.823554</td>\n",
       "      <td>23.299180</td>\n",
       "      <td>23.809783</td>\n",
       "      <td>22.761895</td>\n",
       "      <td>25.010791</td>\n",
       "      <td>23.588090</td>\n",
       "      <td>...</td>\n",
       "      <td>22.317043</td>\n",
       "      <td>23.473502</td>\n",
       "      <td>23.053561</td>\n",
       "      <td>22.338217</td>\n",
       "      <td>22.210532</td>\n",
       "      <td>22.411265</td>\n",
       "      <td>22.375807</td>\n",
       "      <td>22.130971</td>\n",
       "      <td>22.197990</td>\n",
       "      <td>23.933445</td>\n",
       "    </tr>\n",
       "    <tr>\n",
       "      <th>34992</th>\n",
       "      <td>19.215309</td>\n",
       "      <td>19.134325</td>\n",
       "      <td>19.190012</td>\n",
       "      <td>19.141167</td>\n",
       "      <td>19.061960</td>\n",
       "      <td>18.996881</td>\n",
       "      <td>18.974384</td>\n",
       "      <td>18.965481</td>\n",
       "      <td>19.014921</td>\n",
       "      <td>18.936403</td>\n",
       "      <td>...</td>\n",
       "      <td>18.575406</td>\n",
       "      <td>18.521731</td>\n",
       "      <td>18.546033</td>\n",
       "      <td>18.543120</td>\n",
       "      <td>18.518246</td>\n",
       "      <td>18.509786</td>\n",
       "      <td>18.485214</td>\n",
       "      <td>18.441388</td>\n",
       "      <td>18.459024</td>\n",
       "      <td>18.450661</td>\n",
       "    </tr>\n",
       "    <tr>\n",
       "      <th>34994</th>\n",
       "      <td>23.665079</td>\n",
       "      <td>24.116321</td>\n",
       "      <td>23.605848</td>\n",
       "      <td>24.969468</td>\n",
       "      <td>24.637532</td>\n",
       "      <td>23.782587</td>\n",
       "      <td>NaN</td>\n",
       "      <td>23.408405</td>\n",
       "      <td>23.068405</td>\n",
       "      <td>23.955036</td>\n",
       "      <td>...</td>\n",
       "      <td>23.226907</td>\n",
       "      <td>22.595000</td>\n",
       "      <td>22.966355</td>\n",
       "      <td>23.382683</td>\n",
       "      <td>22.542243</td>\n",
       "      <td>22.940414</td>\n",
       "      <td>23.211468</td>\n",
       "      <td>22.988030</td>\n",
       "      <td>22.572822</td>\n",
       "      <td>22.574193</td>\n",
       "    </tr>\n",
       "    <tr>\n",
       "      <th>34995</th>\n",
       "      <td>25.685007</td>\n",
       "      <td>23.744570</td>\n",
       "      <td>23.802158</td>\n",
       "      <td>23.201142</td>\n",
       "      <td>22.748284</td>\n",
       "      <td>23.339048</td>\n",
       "      <td>22.674541</td>\n",
       "      <td>23.149081</td>\n",
       "      <td>24.286956</td>\n",
       "      <td>23.170902</td>\n",
       "      <td>...</td>\n",
       "      <td>22.458905</td>\n",
       "      <td>21.733864</td>\n",
       "      <td>22.421360</td>\n",
       "      <td>22.171094</td>\n",
       "      <td>21.818631</td>\n",
       "      <td>21.970503</td>\n",
       "      <td>22.256806</td>\n",
       "      <td>22.065725</td>\n",
       "      <td>22.106284</td>\n",
       "      <td>21.596199</td>\n",
       "    </tr>\n",
       "  </tbody>\n",
       "</table>\n",
       "<p>10382 rows × 40 columns</p>\n",
       "</div>"
      ],
      "text/plain": [
       "            NB455      NB465      NB475      NB485      NB495      NB505  \\\n",
       "ref_id                                                                     \n",
       "1             NaN  23.821380  23.910893        NaN  25.229087        NaN   \n",
       "4       24.205679  23.578037  23.868523        NaN  23.719527  24.031548   \n",
       "7       24.379892  23.484776  23.038371  23.072309  24.197108  22.783638   \n",
       "8       21.559548  21.773858  21.415239  21.178268  21.521735  21.071240   \n",
       "10      24.425928  23.015307        NaN  23.870268  24.147789  23.366811   \n",
       "...           ...        ...        ...        ...        ...        ...   \n",
       "34985   24.651175        NaN  25.517309  23.649772  23.672188  23.953281   \n",
       "34988   24.525535  23.474857  23.532024  23.636786  26.823554  23.299180   \n",
       "34992   19.215309  19.134325  19.190012  19.141167  19.061960  18.996881   \n",
       "34994   23.665079  24.116321  23.605848  24.969468  24.637532  23.782587   \n",
       "34995   25.685007  23.744570  23.802158  23.201142  22.748284  23.339048   \n",
       "\n",
       "            NB515      NB525      NB535      NB545  ...      NB755      NB765  \\\n",
       "ref_id                                              ...                         \n",
       "1       22.884951  23.802457        NaN        NaN  ...  21.866189  22.103579   \n",
       "4       23.710326  23.499196  23.461648  25.618238  ...  22.390932  22.400258   \n",
       "7       24.155616  22.764440  22.223444  22.317165  ...  21.722269  21.602030   \n",
       "8       21.026639  20.952516  20.982746  20.822754  ...  19.127428  19.073816   \n",
       "10      24.255788  23.939156  22.912417  24.042905  ...  21.520617  21.948184   \n",
       "...           ...        ...        ...        ...  ...        ...        ...   \n",
       "34985   23.583184        NaN  23.587278  23.049593  ...  22.036436  22.135465   \n",
       "34988   23.809783  22.761895  25.010791  23.588090  ...  22.317043  23.473502   \n",
       "34992   18.974384  18.965481  19.014921  18.936403  ...  18.575406  18.521731   \n",
       "34994         NaN  23.408405  23.068405  23.955036  ...  23.226907  22.595000   \n",
       "34995   22.674541  23.149081  24.286956  23.170902  ...  22.458905  21.733864   \n",
       "\n",
       "            NB775      NB785      NB795      NB805      NB815      NB825  \\\n",
       "ref_id                                                                     \n",
       "1       21.947398  21.820551  21.634989  21.463247  21.663812  21.549687   \n",
       "4       22.011696  22.350180  22.056117  22.364125  22.204040  22.034060   \n",
       "7       21.733232  21.692501  21.869040  21.592550  21.874550  21.596562   \n",
       "8       19.027085  18.996505  18.944691  18.913608  18.926844  18.866132   \n",
       "10      21.715614  22.182187  22.287293  21.967796  21.933090  22.052844   \n",
       "...           ...        ...        ...        ...        ...        ...   \n",
       "34985   21.606549  21.825660  21.620868  21.660761  21.697299  21.919124   \n",
       "34988   23.053561  22.338217  22.210532  22.411265  22.375807  22.130971   \n",
       "34992   18.546033  18.543120  18.518246  18.509786  18.485214  18.441388   \n",
       "34994   22.966355  23.382683  22.542243  22.940414  23.211468  22.988030   \n",
       "34995   22.421360  22.171094  21.818631  21.970503  22.256806  22.065725   \n",
       "\n",
       "            NB835      NB845  \n",
       "ref_id                        \n",
       "1       21.608376  21.563543  \n",
       "4       22.256541  21.772407  \n",
       "7       21.882715  21.757098  \n",
       "8       18.817730  18.832927  \n",
       "10      22.047060  21.910640  \n",
       "...           ...        ...  \n",
       "34985   21.336554  21.596447  \n",
       "34988   22.197990  23.933445  \n",
       "34992   18.459024  18.450661  \n",
       "34994   22.572822  22.574193  \n",
       "34995   22.106284  21.596199  \n",
       "\n",
       "[10382 rows x 40 columns]"
      ]
     },
     "execution_count": 22,
     "metadata": {},
     "output_type": "execute_result"
    }
   ],
   "source": [
    "catalog_nb_sub"
   ]
  },
  {
   "cell_type": "code",
   "execution_count": 21,
   "id": "d7895450-eabf-4b84-8638-b05bec4d718a",
   "metadata": {},
   "outputs": [
    {
     "name": "stdout",
     "output_type": "stream",
     "text": [
      "Bias nan scatter nan\n"
     ]
    },
    {
     "name": "stderr",
     "output_type": "stream",
     "text": [
      "/tmp/ipykernel_30991/2022963935.py:29: FutureWarning: In a future version of pandas all arguments of concat except for the argument 'objs' will be keyword-only\n",
      "  df_all = pd.concat((df_all,df),0)\n"
     ]
    },
    {
     "name": "stdout",
     "output_type": "stream",
     "text": [
      "Bias nan scatter nan\n"
     ]
    },
    {
     "ename": "KeyboardInterrupt",
     "evalue": "",
     "output_type": "error",
     "traceback": [
      "\u001b[0;31m---------------------------------------------------------------------------\u001b[0m",
      "\u001b[0;31mKeyboardInterrupt\u001b[0m                         Traceback (most recent call last)",
      "\u001b[0;32m/tmp/ipykernel_30991/2022963935.py\u001b[0m in \u001b[0;36m<module>\u001b[0;34m\u001b[0m\n\u001b[1;32m      9\u001b[0m \u001b[0;34m\u001b[0m\u001b[0m\n\u001b[1;32m     10\u001b[0m     \u001b[0mtraining_loader\u001b[0m \u001b[0;34m=\u001b[0m \u001b[0mBB\u001b[0m\u001b[0;34m.\u001b[0m\u001b[0mcreate_loader\u001b[0m\u001b[0;34m(\u001b[0m\u001b[0mcatalog_bb\u001b[0m\u001b[0;34m,\u001b[0m\u001b[0mcatalog_nb\u001b[0m\u001b[0;34m)\u001b[0m\u001b[0;34m\u001b[0m\u001b[0;34m\u001b[0m\u001b[0m\n\u001b[0;32m---> 11\u001b[0;31m     \u001b[0mBBnet\u001b[0m \u001b[0;34m=\u001b[0m \u001b[0mBB\u001b[0m\u001b[0;34m.\u001b[0m\u001b[0mtrain_mtl\u001b[0m\u001b[0;34m(\u001b[0m\u001b[0mtraining_loader\u001b[0m\u001b[0;34m,\u001b[0m \u001b[0mepochs\u001b[0m \u001b[0;34m=\u001b[0m \u001b[0;36m65\u001b[0m\u001b[0;34m)\u001b[0m\u001b[0;34m\u001b[0m\u001b[0;34m\u001b[0m\u001b[0m\n\u001b[0m\u001b[1;32m     12\u001b[0m \u001b[0;34m\u001b[0m\u001b[0m\n\u001b[1;32m     13\u001b[0m \u001b[0;34m\u001b[0m\u001b[0m\n",
      "\u001b[0;32m~/MTL_photozs/MTLphotozs/mtl_network.py\u001b[0m in \u001b[0;36mtrain_mtl\u001b[0;34m(self, loader, epochs)\u001b[0m\n\u001b[1;32m     85\u001b[0m                 \u001b[0mloss_z\u001b[0m \u001b[0;34m=\u001b[0m \u001b[0mlogalphas\u001b[0m \u001b[0;34m-\u001b[0m \u001b[0;36m0.5\u001b[0m \u001b[0;34m*\u001b[0m \u001b[0;34m(\u001b[0m\u001b[0;34m(\u001b[0m\u001b[0mz\u001b[0m \u001b[0;34m-\u001b[0m \u001b[0mzb_true\u001b[0m\u001b[0;34m[\u001b[0m\u001b[0;34m:\u001b[0m\u001b[0;34m,\u001b[0m\u001b[0;32mNone\u001b[0m\u001b[0;34m]\u001b[0m\u001b[0;34m.\u001b[0m\u001b[0mcuda\u001b[0m\u001b[0;34m(\u001b[0m\u001b[0;34m)\u001b[0m\u001b[0;34m)\u001b[0m \u001b[0;34m/\u001b[0m \u001b[0mzerr\u001b[0m\u001b[0;34m)\u001b[0m\u001b[0;34m.\u001b[0m\u001b[0mpow\u001b[0m\u001b[0;34m(\u001b[0m\u001b[0;36m2\u001b[0m\u001b[0;34m)\u001b[0m \u001b[0;34m-\u001b[0m \u001b[0mlogzerr\u001b[0m\u001b[0;34m\u001b[0m\u001b[0;34m\u001b[0m\u001b[0m\n\u001b[1;32m     86\u001b[0m                 \u001b[0mloss_z\u001b[0m  \u001b[0;34m=\u001b[0m \u001b[0mtorch\u001b[0m\u001b[0;34m.\u001b[0m\u001b[0mlogsumexp\u001b[0m\u001b[0;34m(\u001b[0m\u001b[0mloss_z\u001b[0m\u001b[0;34m,\u001b[0m \u001b[0;36m1\u001b[0m\u001b[0;34m)\u001b[0m\u001b[0;34m\u001b[0m\u001b[0;34m\u001b[0m\u001b[0m\n\u001b[0;32m---> 87\u001b[0;31m                 \u001b[0mloss_z\u001b[0m \u001b[0;34m=\u001b[0m \u001b[0mfield\u001b[0m\u001b[0;34m.\u001b[0m\u001b[0mcuda\u001b[0m\u001b[0;34m(\u001b[0m\u001b[0;34m)\u001b[0m \u001b[0;34m*\u001b[0m \u001b[0mloss_z\u001b[0m\u001b[0;34m\u001b[0m\u001b[0;34m\u001b[0m\u001b[0m\n\u001b[0m\u001b[1;32m     88\u001b[0m                 \u001b[0mloss_z\u001b[0m \u001b[0;34m=\u001b[0m \u001b[0;34m-\u001b[0m\u001b[0mloss_z\u001b[0m\u001b[0;34m[\u001b[0m\u001b[0mloss_z\u001b[0m\u001b[0;34m!=\u001b[0m\u001b[0;36m0\u001b[0m\u001b[0;34m]\u001b[0m\u001b[0;34m.\u001b[0m\u001b[0mmean\u001b[0m\u001b[0;34m(\u001b[0m\u001b[0;34m)\u001b[0m\u001b[0;34m\u001b[0m\u001b[0;34m\u001b[0m\u001b[0m\n\u001b[1;32m     89\u001b[0m \u001b[0;34m\u001b[0m\u001b[0m\n",
      "\u001b[0;31mKeyboardInterrupt\u001b[0m: "
     ]
    }
   ],
   "source": [
    "df_all = pd.DataFrame()\n",
    "cuts = np.arange(0,12001,2000)\n",
    "\n",
    "for k in range(len(cuts)-1):\n",
    "    BB = MTLphotozs.mtl_photoz(zs = True, flagship=True)\n",
    "    catalog_test = catalog_bb_sub.loc[cuts[k]:cuts[k+1]]\n",
    "    catalog_training= catalog_bb_sub[~catalog_bb_sub.index.isin(catalog_test.index)]\n",
    "    catalog_nb_train = catalog_nb_sub[catalog_nb_sub.index.isin(catalog_training.index)]\n",
    "    \n",
    "    training_loader = BB.create_loader(catalog_bb,catalog_nb)\n",
    "    BBnet = BB.train_mtl(training_loader, epochs = 65)\n",
    "    \n",
    "    \n",
    "    samps_BB_spec_test =  catalog_test[BB_list].values\n",
    "    samps_BB_colors_test = samps_BB_spec_test[:,:-1] - samps_BB_spec_test[:,1:]\n",
    "    samps_BB_colors_test = torch.Tensor(samps_BB_colors_test)\n",
    "    zb_test = catalog_test.target_zs.values\n",
    "    refid_test = catalog_test.index\n",
    "    _,logalphas, z,logzerr = BBnet(samps_BB_colors_test.cuda())\n",
    "    \n",
    "    alphas = torch.exp(logalphas)\n",
    "    zb = (alphas * z).sum(1)\n",
    "    zb,logzerr  = zb.detach().cpu().numpy(), logzerr.detach().cpu().numpy()\n",
    "\n",
    "    df = pd.DataFrame(np.c_[refid_test,zb,zb_test], columns = ['ref_id','zb','zb_true'])\n",
    "    df['rerr'] = (df.zb - df.zb_true) / (1 + df.zb_true)\n",
    "    print('Bias',np.nanmedian(df.rerr), 'scatter', sigma68(df.rerr))\n",
    "    \n",
    "    df_all = pd.concat((df_all,df),0) "
   ]
  },
  {
   "cell_type": "code",
   "execution_count": 34,
   "id": "1ac5469f-3460-4a01-99b3-2a8a30545d2c",
   "metadata": {},
   "outputs": [
    {
     "name": "stdout",
     "output_type": "stream",
     "text": [
      "Bias -0.001982978882552288 scatter 0.025065920614642693\n"
     ]
    },
    {
     "name": "stderr",
     "output_type": "stream",
     "text": [
      "/tmp/ipykernel_18925/3049832044.py:20: FutureWarning: In a future version of pandas all arguments of concat except for the argument 'objs' will be keyword-only\n",
      "  df_all = pd.concat((df_all,df),0)\n"
     ]
    }
   ],
   "source": [
    "catalog_bb2 = ilbert[(ilbert.target_train == 0)&(ilbert.target_zb != 0)].reset_index()\n",
    "samps_BB_spec_test = catalog_bb2[BB_list].values\n",
    "zb_spec_test = catalog_bb2.target_zb.values\n",
    "refid = catalog_bb2.paudm_id.values\n",
    "\n",
    "samps_BB_colors_test = samps_BB_spec_test[:,:-1] - samps_BB_spec_test[:,1:]\n",
    "samps_BB_colors_test = torch.Tensor(samps_BB_colors_test)\n",
    "\n",
    "_,logalphas, z,logzerr = BBnet(samps_BB_colors_test.cuda())\n",
    "\n",
    "alphas = torch.exp(logalphas)\n",
    "zb = (alphas * z).sum(1)\n",
    "zb,logzerr  = zb.detach().cpu().numpy(), logzerr.detach().cpu().numpy()\n",
    "\n",
    "df = pd.DataFrame(np.c_[refid,zb,zb_spec_test], columns = ['ref_id','zb','zb_true'])\n",
    "df['rerr'] = (df.zb - df.zb_true) / (1 + df.zb_true)\n",
    "\n",
    "print('Bias',np.nanmedian(df.rerr), 'scatter', sigma68(df.rerr))\n",
    "\n",
    "df_all = pd.concat((df_all,df),0) "
   ]
  },
  {
   "cell_type": "code",
   "execution_count": 35,
   "id": "7160fbcb-c853-47b6-beb9-5f9f703fea55",
   "metadata": {},
   "outputs": [],
   "source": [
    "df_bb = df_all.copy()"
   ]
  },
  {
   "cell_type": "markdown",
   "id": "295d4e2d-2a5f-4439-994d-c8f8365e83f8",
   "metadata": {},
   "source": [
    "## BB + NB"
   ]
  },
  {
   "cell_type": "code",
   "execution_count": 40,
   "id": "f6af1e6d-87b6-4411-bad7-2a80b1f8100a",
   "metadata": {},
   "outputs": [],
   "source": [
    "catalog_bb = ilbert[ilbert.target_zb != 0].reset_index()\n",
    "catalog_nb = FAC_memba_flux[FAC_memba_flux.index.isin(catalog_bb.paudm_id)]\n",
    "catalog_nb = 26-2.5*np.log10(catalog_nb)"
   ]
  },
  {
   "cell_type": "code",
   "execution_count": 46,
   "id": "b745d993-cb56-4443-ad35-b05d29251bc5",
   "metadata": {
    "tags": []
   },
   "outputs": [
    {
     "name": "stdout",
     "output_type": "stream",
     "text": [
      "Bias -0.002595923838374069 scatter 0.021717317362539207\n"
     ]
    },
    {
     "name": "stderr",
     "output_type": "stream",
     "text": [
      "/tmp/ipykernel_18925/3172688797.py:30: FutureWarning: In a future version of pandas all arguments of concat except for the argument 'objs' will be keyword-only\n",
      "  df_all = pd.concat((df_all,df),0)\n"
     ]
    },
    {
     "name": "stdout",
     "output_type": "stream",
     "text": [
      "Bias -0.001162225287548539 scatter 0.020690977672107102\n",
      "Bias -0.00039415785025018944 scatter 0.018476537272597408\n",
      "Bias -0.00015393309481222573 scatter 0.021184981824151735\n",
      "Bias 0.0013030845051024574 scatter 0.020980659372275536\n"
     ]
    }
   ],
   "source": [
    "df_all = pd.DataFrame()\n",
    "cuts = np.linspace(0,len(catalog_bb),6)\n",
    "\n",
    "for k in range(len(cuts)-1):\n",
    "    BBNB = MTLphotozs.mtl_photoz(zs = False, zs_NB = True)\n",
    "    catalog_test = catalog_bb.loc[cuts[k]:cuts[k+1]]\n",
    "    catalog_training= catalog_bb[~catalog_bb.paudm_id.isin(catalog_test.paudm_id)]\n",
    "    catalog_nb_train = catalog_nb[catalog_nb.index.isin(catalog_training.paudm_id)]\n",
    "    \n",
    "    training_loader = BBNB.create_loader(catalog_bb,catalog_nb)\n",
    "    BBNBnet = BBNB.train_mtl(training_loader, epochs = 65)\n",
    "    \n",
    "    \n",
    "    \n",
    "    samps_BB_spec_test =  catalog_test[BB_list].values\n",
    "    samps_BB_colors_test = samps_BB_spec_test[:,:-1] - samps_BB_spec_test[:,1:]\n",
    "    samps_BB_colors_test = torch.Tensor(samps_BB_colors_test)\n",
    "    zb_test = catalog_test.target_zb.values\n",
    "    refid_test = catalog_test.paudm_id.values\n",
    "    _,logalphas, z,logzerr = BBNBnet(samps_BB_colors_test.cuda())\n",
    "    \n",
    "    alphas = torch.exp(logalphas)\n",
    "    zb = (alphas * z).sum(1)\n",
    "    zb,logzerr  = zb.detach().cpu().numpy(), logzerr.detach().cpu().numpy()\n",
    "\n",
    "    df = pd.DataFrame(np.c_[refid_test,zb,zb_test], columns = ['ref_id','zb','zb_true'])\n",
    "    df['rerr'] = (df.zb - df.zb_true) / (1 + df.zb_true)\n",
    "    print('Bias',np.nanmedian(df.rerr), 'scatter', sigma68(df.rerr))\n",
    "    \n",
    "    df_all = pd.concat((df_all,df),0) "
   ]
  },
  {
   "cell_type": "code",
   "execution_count": 48,
   "id": "1d9e9236-796d-479e-bc8f-75ac0eafc64c",
   "metadata": {},
   "outputs": [],
   "source": [
    "df_bbnb = df_all.copy()"
   ]
  },
  {
   "cell_type": "markdown",
   "id": "2b6b2f67-ef96-4b63-a41a-37b6b9382d1a",
   "metadata": {},
   "source": [
    "## BB + z"
   ]
  },
  {
   "cell_type": "code",
   "execution_count": 49,
   "id": "48b02cd2-a59a-4043-9a05-062929072afb",
   "metadata": {},
   "outputs": [],
   "source": [
    "catalog_bb = ilbert[ilbert.target_zb != 0].reset_index()\n",
    "catalog_nb = FAC_memba_flux[FAC_memba_flux.index.isin(catalog_bb.paudm_id)]\n",
    "catalog_nb = 26-2.5*np.log10(catalog_nb)"
   ]
  },
  {
   "cell_type": "code",
   "execution_count": 51,
   "id": "3e66fdc8-7bbc-4dd2-a358-f2a1ecc85b48",
   "metadata": {},
   "outputs": [
    {
     "name": "stdout",
     "output_type": "stream",
     "text": [
      "Bias -0.002335593162031184 scatter 0.01995378630293039\n"
     ]
    },
    {
     "name": "stderr",
     "output_type": "stream",
     "text": [
      "/tmp/ipykernel_18925/996012447.py:29: FutureWarning: In a future version of pandas all arguments of concat except for the argument 'objs' will be keyword-only\n",
      "  df_all = pd.concat((df_all,df),0)\n"
     ]
    },
    {
     "name": "stdout",
     "output_type": "stream",
     "text": [
      "Bias 0.0009012521632165858 scatter 0.018831616140777937\n",
      "Bias 0.0005407008238211374 scatter 0.017458708015574746\n",
      "Bias -0.0012457090213748446 scatter 0.019492615422443647\n",
      "Bias -0.0009953453551965901 scatter 0.019509919618210143\n"
     ]
    }
   ],
   "source": [
    "df_all = pd.DataFrame()\n",
    "cuts = np.linspace(0,len(catalog_bb),6)\n",
    "\n",
    "for k in range(len(cuts)-1):\n",
    "    BBz = MTLphotozs.mtl_photoz(zs = False, zs_zb = True)\n",
    "    catalog_test = catalog_bb.loc[cuts[k]:cuts[k+1]]\n",
    "    catalog_training= catalog_bb[~catalog_bb.paudm_id.isin(catalog_test.paudm_id)]\n",
    "    catalog_nb_train = catalog_nb[catalog_nb.index.isin(catalog_training.paudm_id)]\n",
    "    \n",
    "    training_loader = BBz.create_loader(catalog_bb,catalog_nb)\n",
    "    BBznet = BBz.train_mtl(training_loader, epochs = 65)\n",
    "    \n",
    "    \n",
    "    samps_BB_spec_test =  catalog_test[BB_list].values\n",
    "    samps_BB_colors_test = samps_BB_spec_test[:,:-1] - samps_BB_spec_test[:,1:]\n",
    "    samps_BB_colors_test = torch.Tensor(samps_BB_colors_test)\n",
    "    zb_test = catalog_test.target_zb.values\n",
    "    refid_test = catalog_test.paudm_id.values\n",
    "    _,logalphas, z,logzerr = BBznet(samps_BB_colors_test.cuda())\n",
    "    \n",
    "    alphas = torch.exp(logalphas)\n",
    "    zb = (alphas * z).sum(1)\n",
    "    zb,logzerr  = zb.detach().cpu().numpy(), logzerr.detach().cpu().numpy()\n",
    "\n",
    "    df = pd.DataFrame(np.c_[refid_test,zb,zb_test], columns = ['ref_id','zb','zb_true'])\n",
    "    df['rerr'] = (df.zb - df.zb_true) / (1 + df.zb_true)\n",
    "    print('Bias',np.nanmedian(df.rerr), 'scatter', sigma68(df.rerr))\n",
    "    \n",
    "    df_all = pd.concat((df_all,df),0) "
   ]
  },
  {
   "cell_type": "code",
   "execution_count": 52,
   "id": "925fc644-8029-422a-a52d-2c58bbf05032",
   "metadata": {},
   "outputs": [],
   "source": [
    "df_bbz = df_all.copy()"
   ]
  },
  {
   "cell_type": "markdown",
   "id": "41c2b716-5208-4b9e-a32a-25b65bbe45c4",
   "metadata": {},
   "source": [
    "## BB + NB + z"
   ]
  },
  {
   "cell_type": "code",
   "execution_count": 53,
   "id": "b156e97f-ef90-43f1-8a1b-42899b06ab89",
   "metadata": {},
   "outputs": [],
   "source": [
    "catalog_bb = ilbert[ilbert.target_zb != 0].reset_index()\n",
    "catalog_nb = FAC_memba_flux[FAC_memba_flux.index.isin(catalog_bb.paudm_id)]\n",
    "catalog_nb = 26-2.5*np.log10(catalog_nb)"
   ]
  },
  {
   "cell_type": "code",
   "execution_count": 54,
   "id": "0d3a1d3d-f950-4f93-b8b8-b0b81583b9cf",
   "metadata": {},
   "outputs": [
    {
     "name": "stdout",
     "output_type": "stream",
     "text": [
      "Bias 0.00012340900843473473 scatter 0.02044099648749069\n"
     ]
    },
    {
     "name": "stderr",
     "output_type": "stream",
     "text": [
      "/tmp/ipykernel_18925/260961283.py:29: FutureWarning: In a future version of pandas all arguments of concat except for the argument 'objs' will be keyword-only\n",
      "  df_all = pd.concat((df_all,df),0)\n"
     ]
    },
    {
     "name": "stdout",
     "output_type": "stream",
     "text": [
      "Bias 0.00035453601239973605 scatter 0.01893829508270138\n",
      "Bias 0.0011081242069249262 scatter 0.017504762054009734\n",
      "Bias -0.0020263393815864584 scatter 0.019030670592370832\n",
      "Bias 0.00027751560026899867 scatter 0.01884780445773831\n"
     ]
    }
   ],
   "source": [
    "df_all = pd.DataFrame()\n",
    "cuts = np.linspace(0,len(catalog_bb),6)\n",
    "\n",
    "for k in range(len(cuts)-1):\n",
    "    BBNBz = MTLphotozs.mtl_photoz(zs = False, zs_NB_zb = True)\n",
    "    catalog_test = catalog_bb.loc[cuts[k]:cuts[k+1]]\n",
    "    catalog_training= catalog_bb[~catalog_bb.paudm_id.isin(catalog_test.paudm_id)]\n",
    "    catalog_nb_train = catalog_nb[catalog_nb.index.isin(catalog_training.paudm_id)]\n",
    "    \n",
    "    training_loader = BBNBz.create_loader(catalog_bb,catalog_nb)\n",
    "    BBNBznet = BBNBz.train_mtl(training_loader, epochs = 65)\n",
    "    \n",
    "    \n",
    "    samps_BB_spec_test =  catalog_test[BB_list].values\n",
    "    samps_BB_colors_test = samps_BB_spec_test[:,:-1] - samps_BB_spec_test[:,1:]\n",
    "    samps_BB_colors_test = torch.Tensor(samps_BB_colors_test)\n",
    "    zb_test = catalog_test.target_zb.values\n",
    "    refid_test = catalog_test.paudm_id.values\n",
    "    _,logalphas, z,logzerr = BBNBznet(samps_BB_colors_test.cuda())\n",
    "    \n",
    "    alphas = torch.exp(logalphas)\n",
    "    zb = (alphas * z).sum(1)\n",
    "    zb,logzerr  = zb.detach().cpu().numpy(), logzerr.detach().cpu().numpy()\n",
    "\n",
    "    df = pd.DataFrame(np.c_[refid_test,zb,zb_test], columns = ['ref_id','zb','zb_true'])\n",
    "    df['rerr'] = (df.zb - df.zb_true) / (1 + df.zb_true)\n",
    "    print('Bias',np.nanmedian(df.rerr), 'scatter', sigma68(df.rerr))\n",
    "    \n",
    "    df_all = pd.concat((df_all,df),0) "
   ]
  },
  {
   "cell_type": "code",
   "execution_count": 58,
   "id": "1719bc72-72f6-4de1-bc85-45ad85311247",
   "metadata": {},
   "outputs": [],
   "source": [
    "df_bbnbz = df_all.copy()"
   ]
  },
  {
   "cell_type": "code",
   "execution_count": 60,
   "id": "efdbf516-4301-4160-a505-3ea61fbe10d9",
   "metadata": {},
   "outputs": [],
   "source": [
    "df_bb.to_csv('/data/astro/scratch/lcabayol/Euclid/referee_report/catalogues/df_bb.csv', header = True, sep =',')\n",
    "df_bbnb.to_csv('/data/astro/scratch/lcabayol/Euclid/referee_report/catalogues/df_bbnb.csv', header = True, sep =',')\n",
    "df_bbz.to_csv('/data/astro/scratch/lcabayol/Euclid/referee_report/catalogues/df_bbz.csv', header = True, sep =',')\n",
    "df_bbnbz.to_csv('/data/astro/scratch/lcabayol/Euclid/referee_report/catalogues/df_bbnbz.csv', header = True, sep =',')"
   ]
  },
  {
   "cell_type": "code",
   "execution_count": null,
   "id": "e52c7354-8b7f-47be-8eb4-5ce3cf0d590c",
   "metadata": {},
   "outputs": [],
   "source": []
  }
 ],
 "metadata": {
  "kernelspec": {
   "display_name": "DLenv2",
   "language": "python",
   "name": "dlenv2"
  },
  "language_info": {
   "codemirror_mode": {
    "name": "ipython",
    "version": 3
   },
   "file_extension": ".py",
   "mimetype": "text/x-python",
   "name": "python",
   "nbconvert_exporter": "python",
   "pygments_lexer": "ipython3",
   "version": "3.9.7"
  }
 },
 "nbformat": 4,
 "nbformat_minor": 5
}
