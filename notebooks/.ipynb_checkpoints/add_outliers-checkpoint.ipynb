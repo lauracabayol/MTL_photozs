{
 "cells": [
  {
   "cell_type": "code",
   "execution_count": 1,
   "id": "8430d0d9-b166-4c8a-9863-32cdf4d49066",
   "metadata": {},
   "outputs": [],
   "source": [
    "import numpy as np\n",
    "import pandas as pd\n",
    "import matplotlib.pyplot as plt\n",
    "\n",
    "import torch\n",
    "import os\n",
    "\n",
    "from torch import nn, optim\n",
    "from torch.optim import lr_scheduler\n",
    "import time\n",
    "import SOM"
   ]
  },
  {
   "cell_type": "code",
   "execution_count": 2,
   "id": "933202a8-97ef-4e8c-af94-71c2460b658f",
   "metadata": {},
   "outputs": [],
   "source": [
    "def sigma68(data): return 0.5*(pd.Series(data).quantile(q = 0.84) - pd.Series(data).quantile(q = 0.16))"
   ]
  },
  {
   "cell_type": "code",
   "execution_count": 3,
   "id": "e66682c0-d009-43b5-8ef9-2da920daa251",
   "metadata": {},
   "outputs": [],
   "source": [
    "def exposure_SN(cat_in, filters,  scale = True):\n",
    "\n",
    "    sn_lims =  {'U': 25.25, 'G': 24.65, 'R': 24.15, 'I': 24.35, 'ZN': 23.95,  'H':25,'J':25, 'Y':25}\n",
    "\n",
    "    scale_filters = [x for x in filters if scale == True]\n",
    "    lims = [sn_lims[x] for x in filters]\n",
    "\n",
    "    sn_val0 = 5\n",
    "    R = 1\n",
    "\n",
    "    sn_val = [(R*sn_val0 if x in scale_filters else sn_val0) for x in filters]\n",
    "\n",
    "    D = sn_val*10**(np.array(lims) / 5.)\n",
    "\n",
    "    mag = np.array(cat_in[[x for x in filters]])\n",
    "    SN_arr =  D*10**(-0.2*mag)\n",
    "\n",
    "\n",
    "    sn_min = 0\n",
    "    sn_max = lims\n",
    "\n",
    "\n",
    "    SN_arr = np.clip(SN_arr, sn_min, sn_max)\n",
    "    SN = pd.DataFrame(SN_arr, columns=filters, index= cat_in.index)\n",
    "\n",
    "    return SN\n",
    "\n"
   ]
  },
  {
   "cell_type": "code",
   "execution_count": 30,
   "id": "1a2d3093-dd6e-48ee-adbe-1da75865db42",
   "metadata": {},
   "outputs": [],
   "source": [
    "catalog = pd.read_csv('/data/astro/scratch/lcabayol/Euclid/PAUS_mock_Euclidbands.csv', sep = ',', header = 0, comment = '#')\n",
    "catalog = catalog.sample(40000)\n",
    "catalog = catalog.dropna()\n",
    "\n",
    "catalog['ref_id'] = np.arange(len(catalog))\n",
    "\n",
    "nb_names_old = ['flux_nl_el_t_pau_nb%s'%x for x in 455+10*np.arange(40)]\n",
    "nb_names_new = ['NB%s'%x for x in 455+10*np.arange(40)]\n",
    "nb_name_dict = dict(zip(nb_names_old, nb_names_new))\n",
    "\n",
    "catalog_nb_nl = catalog.set_index('ref_id')[nb_names_old].rename(columns = nb_name_dict)\n",
    "\n",
    "bb_names_old = ['flux_nl_el_t_cfht_u','flux_nl_el_t_blanco_decam_g','flux_nl_el_t_blanco_decam_r','flux_nl_el_t_blanco_decam_i','flux_nl_el_t_blanco_decam_z','flux_nl_el_t_euclid_nisp_h','flux_nl_el_t_euclid_nisp_j','flux_nl_el_t_euclid_nisp_y']\n",
    "bb_names_new = ['U','G','R','I','ZN','H','J','Y']\n",
    "bb_name_dict = dict(zip(bb_names_old, bb_names_new))\n",
    "\n",
    "catalog_bb_nl = catalog.set_index('ref_id')[bb_names_old].rename(columns = bb_name_dict)\n"
   ]
  },
  {
   "cell_type": "code",
   "execution_count": 31,
   "id": "87bae0f8-458c-4e0d-9c21-f03cf87a14e1",
   "metadata": {},
   "outputs": [],
   "source": [
    "# load fits from Martin Eriksen to estimate SNR from the flux\n",
    "\n",
    "snr_fit = pd.read_csv('/nfs/pic.es/user/l/lcabayol/Euclid/snr_fit.csv', sep = ',', header = 0)\n",
    "factors = snr_fit[snr_fit.key == 'med'].reset_index()\n",
    "\n",
    "aas = factors.a.values\n",
    "bs = factors.b.values\n",
    "\n",
    "f = 0.7\n",
    "SNR_NB = np.exp(aas*np.log(f*np.abs(catalog_nb_nl.values)) + bs)\n",
    "err = (np.abs(catalog_nb_nl.values) / SNR_NB)  * np.random.normal(0,1, size = (catalog_nb_nl.shape))\n",
    "\n",
    "catalog_nb = pd.DataFrame(catalog_nb_nl + err, columns = nb_names_new, index = catalog_nb_nl.index)\n",
    "catalog_nb_err = pd.DataFrame(np.abs(err), columns = nb_names_new, index = catalog_nb_nl.index)"
   ]
  },
  {
   "cell_type": "code",
   "execution_count": 32,
   "id": "e1a2ce0b-4cdf-488e-8572-a1a4115a14fc",
   "metadata": {},
   "outputs": [],
   "source": [
    "catalog_bb_nl_mag = 26 - 2.5*np.log10(catalog_bb_nl)\n",
    "filters = bb_names_new.copy()\n",
    "\n",
    "SNR_flagship_BB = exposure_SN(catalog_bb_nl_mag, filters,  scale = True)\n",
    "\n",
    "err = np.abs(catalog_bb_nl / SNR_flagship_BB)\n",
    "err_rand = err * np.random.normal(0,1, size = (err.shape))\n",
    "\n",
    "catalog_bb = catalog_bb_nl.values + err_rand\n",
    "catalog_bb_err = np.abs(err_rand)\n",
    "\n",
    "catalog_bb = pd.DataFrame(catalog_bb, columns = bb_names_new, index = catalog_bb_nl.index)\n",
    "catalog_bb_err = pd.DataFrame(np.abs(err), columns = bb_names_new, index = catalog_bb_nl.index)\n"
   ]
  },
  {
   "cell_type": "code",
   "execution_count": 33,
   "id": "5eb0bdd4-be8a-4ef9-8f1e-fadd935b2313",
   "metadata": {},
   "outputs": [],
   "source": [
    "catalog_bb = 26 - 2.5*np.log10(catalog_bb)\n",
    "catalog_bb['target_zs'] = catalog.observed_redshift_gal.values\n",
    "m = np.arange(18,24,1)\n",
    "s68 = [0.0025,0.003,0.004,0.0045,0.0055,0.007]\n",
    "fSNR  = np.polyfit(m,s68,2)\n",
    "imag = catalog_bb.I.values\n",
    "catalog_bb['true_z'] = catalog_bb.target_zs"
   ]
  },
  {
   "cell_type": "code",
   "execution_count": 34,
   "id": "6b11978e-d52a-4ba4-af44-55c042c8f1f5",
   "metadata": {},
   "outputs": [
    {
     "name": "stderr",
     "output_type": "stream",
     "text": [
      "/tmp/ipykernel_56/3849882177.py:5: DeprecationWarning: `np.bool` is a deprecated alias for the builtin `bool`. To silence this warning, use `bool` by itself. Doing this will not modify any behavior and is safe. If you specifically wanted the numpy scalar type, use `np.bool_` here.\n",
      "Deprecated in NumPy 1.20; for more details and guidance: https://numpy.org/devdocs/release/1.20.0-notes.html#deprecations\n",
      "  mask = np.random.choice(a = [0,1],p = [1-outlier_frac,outlier_frac],size=len(zspec)).astype(np.bool)\n"
     ]
    }
   ],
   "source": [
    "zspec = catalog_bb.target_zs\n",
    "outlier_frac= 0.01\n",
    "x = np.ones(shape = len(zspec))\n",
    "\n",
    "mask = np.random.choice(a = [0,1],p = [1-outlier_frac,outlier_frac],size=len(zspec)).astype(np.bool)\n",
    "r_out = 0.76 * (1 + zspec) - 1\n",
    "x[mask] = r_out[mask]\n",
    "zspec = np.array([x[k] if x[k]!= 1 else zspec[k] for k in range(len(x))])"
   ]
  },
  {
   "cell_type": "code",
   "execution_count": 35,
   "id": "34f30510-7b61-4d76-9dbd-0a5879c0311f",
   "metadata": {},
   "outputs": [
    {
     "name": "stderr",
     "output_type": "stream",
     "text": [
      "/tmp/ipykernel_56/3432077762.py:7: DeprecationWarning: `np.bool` is a deprecated alias for the builtin `bool`. To silence this warning, use `bool` by itself. Doing this will not modify any behavior and is safe. If you specifically wanted the numpy scalar type, use `np.bool_` here.\n",
      "Deprecated in NumPy 1.20; for more details and guidance: https://numpy.org/devdocs/release/1.20.0-notes.html#deprecations\n",
      "  mask = np.random.choice(a = [0,1],p = [1-outlier_frac,outlier_frac],size=len(zspec)).astype(np.bool)\n"
     ]
    }
   ],
   "source": [
    "dispersion_z = fSNR[0] * imag**2 + fSNR[1]*imag  + fSNR[2]\n",
    "photoz = catalog_bb.target_zs.values+  dispersion_z * np.random.normal(0,1,size = catalog_bb.shape[0])\n",
    "\n",
    "outlier_frac= 0.05\n",
    "x = np.ones(shape = len(zspec))\n",
    "\n",
    "mask = np.random.choice(a = [0,1],p = [1-outlier_frac,outlier_frac],size=len(zspec)).astype(np.bool)\n",
    "r_out = 0.76 * (1 + zspec) - 1\n",
    "x[mask] = r_out[mask]\n",
    "photoz = np.array([x[k] if x[k]!= 1 else photoz[k] for k in range(len(x))])"
   ]
  },
  {
   "cell_type": "code",
   "execution_count": 36,
   "id": "19ac2d47-5021-496c-be3e-da10949b90dd",
   "metadata": {},
   "outputs": [],
   "source": [
    "catalog_bb['target_zb'] = photoz\n",
    "\n",
    "#catalog_bb['target_train'] = catalog_bb.target_zs\n",
    "mask_train = np.random.choice([0,1], p = [0.7,0.3], size = len(catalog_bb))\n",
    "target_train = catalog_bb.target_zs * mask_train\n",
    "target_train = np.where(target_train== 0,catalog_bb.target_zb,catalog_bb.target_zs)\n",
    "catalog_bb['target_zs'] = catalog_bb.target_zs * mask_train\n",
    "catalog_bb['target_zb'] = target_train\n"
   ]
  },
  {
   "cell_type": "code",
   "execution_count": 37,
   "id": "84a81128-cdc8-47aa-bb73-9cee39d9889f",
   "metadata": {},
   "outputs": [
    {
     "data": {
      "text/html": [
       "<div>\n",
       "<style scoped>\n",
       "    .dataframe tbody tr th:only-of-type {\n",
       "        vertical-align: middle;\n",
       "    }\n",
       "\n",
       "    .dataframe tbody tr th {\n",
       "        vertical-align: top;\n",
       "    }\n",
       "\n",
       "    .dataframe thead th {\n",
       "        text-align: right;\n",
       "    }\n",
       "</style>\n",
       "<table border=\"1\" class=\"dataframe\">\n",
       "  <thead>\n",
       "    <tr style=\"text-align: right;\">\n",
       "      <th></th>\n",
       "      <th>U</th>\n",
       "      <th>G</th>\n",
       "      <th>R</th>\n",
       "      <th>I</th>\n",
       "      <th>ZN</th>\n",
       "      <th>H</th>\n",
       "      <th>J</th>\n",
       "      <th>Y</th>\n",
       "      <th>target_zs</th>\n",
       "      <th>true_z</th>\n",
       "      <th>target_zb</th>\n",
       "    </tr>\n",
       "    <tr>\n",
       "      <th>ref_id</th>\n",
       "      <th></th>\n",
       "      <th></th>\n",
       "      <th></th>\n",
       "      <th></th>\n",
       "      <th></th>\n",
       "      <th></th>\n",
       "      <th></th>\n",
       "      <th></th>\n",
       "      <th></th>\n",
       "      <th></th>\n",
       "      <th></th>\n",
       "    </tr>\n",
       "  </thead>\n",
       "  <tbody>\n",
       "    <tr>\n",
       "      <th>3</th>\n",
       "      <td>25.977298</td>\n",
       "      <td>23.704168</td>\n",
       "      <td>22.092439</td>\n",
       "      <td>20.910057</td>\n",
       "      <td>20.453286</td>\n",
       "      <td>19.197475</td>\n",
       "      <td>19.667560</td>\n",
       "      <td>20.023244</td>\n",
       "      <td>0.789795</td>\n",
       "      <td>0.789795</td>\n",
       "      <td>0.789795</td>\n",
       "    </tr>\n",
       "    <tr>\n",
       "      <th>6</th>\n",
       "      <td>26.579641</td>\n",
       "      <td>25.981447</td>\n",
       "      <td>23.811888</td>\n",
       "      <td>22.667602</td>\n",
       "      <td>21.697148</td>\n",
       "      <td>20.021047</td>\n",
       "      <td>20.595062</td>\n",
       "      <td>21.221105</td>\n",
       "      <td>0.895774</td>\n",
       "      <td>0.895774</td>\n",
       "      <td>0.895774</td>\n",
       "    </tr>\n",
       "    <tr>\n",
       "      <th>7</th>\n",
       "      <td>25.330140</td>\n",
       "      <td>24.735276</td>\n",
       "      <td>23.817939</td>\n",
       "      <td>22.475078</td>\n",
       "      <td>22.161979</td>\n",
       "      <td>20.484740</td>\n",
       "      <td>21.107728</td>\n",
       "      <td>21.539390</td>\n",
       "      <td>0.673502</td>\n",
       "      <td>0.673502</td>\n",
       "      <td>0.673502</td>\n",
       "    </tr>\n",
       "    <tr>\n",
       "      <th>9</th>\n",
       "      <td>23.810270</td>\n",
       "      <td>23.111262</td>\n",
       "      <td>21.602203</td>\n",
       "      <td>21.043316</td>\n",
       "      <td>20.675314</td>\n",
       "      <td>19.463962</td>\n",
       "      <td>19.804308</td>\n",
       "      <td>20.317503</td>\n",
       "      <td>0.481674</td>\n",
       "      <td>0.481674</td>\n",
       "      <td>0.481674</td>\n",
       "    </tr>\n",
       "    <tr>\n",
       "      <th>12</th>\n",
       "      <td>25.096315</td>\n",
       "      <td>24.797959</td>\n",
       "      <td>23.775437</td>\n",
       "      <td>22.937834</td>\n",
       "      <td>22.432829</td>\n",
       "      <td>21.161580</td>\n",
       "      <td>21.552133</td>\n",
       "      <td>22.126809</td>\n",
       "      <td>0.769663</td>\n",
       "      <td>0.769663</td>\n",
       "      <td>0.769663</td>\n",
       "    </tr>\n",
       "    <tr>\n",
       "      <th>...</th>\n",
       "      <td>...</td>\n",
       "      <td>...</td>\n",
       "      <td>...</td>\n",
       "      <td>...</td>\n",
       "      <td>...</td>\n",
       "      <td>...</td>\n",
       "      <td>...</td>\n",
       "      <td>...</td>\n",
       "      <td>...</td>\n",
       "      <td>...</td>\n",
       "      <td>...</td>\n",
       "    </tr>\n",
       "    <tr>\n",
       "      <th>39990</th>\n",
       "      <td>24.283393</td>\n",
       "      <td>23.517207</td>\n",
       "      <td>22.340810</td>\n",
       "      <td>21.608477</td>\n",
       "      <td>21.276493</td>\n",
       "      <td>20.154130</td>\n",
       "      <td>20.574082</td>\n",
       "      <td>21.066707</td>\n",
       "      <td>0.536468</td>\n",
       "      <td>0.536468</td>\n",
       "      <td>0.536468</td>\n",
       "    </tr>\n",
       "    <tr>\n",
       "      <th>39991</th>\n",
       "      <td>23.389910</td>\n",
       "      <td>22.976152</td>\n",
       "      <td>21.874247</td>\n",
       "      <td>21.601553</td>\n",
       "      <td>21.493675</td>\n",
       "      <td>21.186625</td>\n",
       "      <td>21.133201</td>\n",
       "      <td>21.372163</td>\n",
       "      <td>0.399579</td>\n",
       "      <td>0.399579</td>\n",
       "      <td>0.399579</td>\n",
       "    </tr>\n",
       "    <tr>\n",
       "      <th>39995</th>\n",
       "      <td>22.271359</td>\n",
       "      <td>21.765711</td>\n",
       "      <td>21.098217</td>\n",
       "      <td>20.856147</td>\n",
       "      <td>20.723362</td>\n",
       "      <td>20.473326</td>\n",
       "      <td>20.453924</td>\n",
       "      <td>20.623518</td>\n",
       "      <td>0.346974</td>\n",
       "      <td>0.346974</td>\n",
       "      <td>0.346974</td>\n",
       "    </tr>\n",
       "    <tr>\n",
       "      <th>39996</th>\n",
       "      <td>24.405249</td>\n",
       "      <td>23.907487</td>\n",
       "      <td>22.849880</td>\n",
       "      <td>22.521043</td>\n",
       "      <td>22.190312</td>\n",
       "      <td>21.620808</td>\n",
       "      <td>21.781532</td>\n",
       "      <td>22.019971</td>\n",
       "      <td>0.567599</td>\n",
       "      <td>0.567599</td>\n",
       "      <td>0.567599</td>\n",
       "    </tr>\n",
       "    <tr>\n",
       "      <th>39997</th>\n",
       "      <td>26.733915</td>\n",
       "      <td>24.987835</td>\n",
       "      <td>22.693879</td>\n",
       "      <td>21.493903</td>\n",
       "      <td>20.834341</td>\n",
       "      <td>19.485419</td>\n",
       "      <td>19.989241</td>\n",
       "      <td>20.336976</td>\n",
       "      <td>0.798651</td>\n",
       "      <td>0.798651</td>\n",
       "      <td>0.798651</td>\n",
       "    </tr>\n",
       "  </tbody>\n",
       "</table>\n",
       "<p>12069 rows × 11 columns</p>\n",
       "</div>"
      ],
      "text/plain": [
       "                U          G          R          I         ZN          H  \\\n",
       "ref_id                                                                     \n",
       "3       25.977298  23.704168  22.092439  20.910057  20.453286  19.197475   \n",
       "6       26.579641  25.981447  23.811888  22.667602  21.697148  20.021047   \n",
       "7       25.330140  24.735276  23.817939  22.475078  22.161979  20.484740   \n",
       "9       23.810270  23.111262  21.602203  21.043316  20.675314  19.463962   \n",
       "12      25.096315  24.797959  23.775437  22.937834  22.432829  21.161580   \n",
       "...           ...        ...        ...        ...        ...        ...   \n",
       "39990   24.283393  23.517207  22.340810  21.608477  21.276493  20.154130   \n",
       "39991   23.389910  22.976152  21.874247  21.601553  21.493675  21.186625   \n",
       "39995   22.271359  21.765711  21.098217  20.856147  20.723362  20.473326   \n",
       "39996   24.405249  23.907487  22.849880  22.521043  22.190312  21.620808   \n",
       "39997   26.733915  24.987835  22.693879  21.493903  20.834341  19.485419   \n",
       "\n",
       "                J          Y  target_zs    true_z  target_zb  \n",
       "ref_id                                                        \n",
       "3       19.667560  20.023244   0.789795  0.789795   0.789795  \n",
       "6       20.595062  21.221105   0.895774  0.895774   0.895774  \n",
       "7       21.107728  21.539390   0.673502  0.673502   0.673502  \n",
       "9       19.804308  20.317503   0.481674  0.481674   0.481674  \n",
       "12      21.552133  22.126809   0.769663  0.769663   0.769663  \n",
       "...           ...        ...        ...       ...        ...  \n",
       "39990   20.574082  21.066707   0.536468  0.536468   0.536468  \n",
       "39991   21.133201  21.372163   0.399579  0.399579   0.399579  \n",
       "39995   20.453924  20.623518   0.346974  0.346974   0.346974  \n",
       "39996   21.781532  22.019971   0.567599  0.567599   0.567599  \n",
       "39997   19.989241  20.336976   0.798651  0.798651   0.798651  \n",
       "\n",
       "[12069 rows x 11 columns]"
      ]
     },
     "execution_count": 37,
     "metadata": {},
     "output_type": "execute_result"
    }
   ],
   "source": [
    "catalog_bb[catalog_bb.target_zs!= 0]"
   ]
  },
  {
   "cell_type": "code",
   "execution_count": 38,
   "id": "e8fb173d-c4cd-41b6-b460-c6154e4f415e",
   "metadata": {
    "tags": []
   },
   "outputs": [],
   "source": [
    "import MTLphotozs"
   ]
  },
  {
   "cell_type": "code",
   "execution_count": 39,
   "id": "7b285e7a-fc74-46fb-921d-6f112ef17d42",
   "metadata": {},
   "outputs": [],
   "source": [
    "catalog_bb = catalog_bb.dropna()"
   ]
  },
  {
   "cell_type": "markdown",
   "id": "3447961a-b1c8-420b-84f1-676f05f7bc89",
   "metadata": {},
   "source": [
    "### BB"
   ]
  },
  {
   "cell_type": "code",
   "execution_count": 40,
   "id": "a8008c7d-ede7-473a-a7fd-4e7a711b4b54",
   "metadata": {},
   "outputs": [],
   "source": [
    "catalog_bb_sub = catalog_bb[catalog_bb.target_zs != 0]#.reset_index()\n",
    "catalog_nb_sub = catalog_nb[catalog_nb.index.isin(catalog_bb_sub.index)]\n",
    "catalog_nb_sub = 26-2.5*np.log10(catalog_nb_sub)"
   ]
  },
  {
   "cell_type": "code",
   "execution_count": 41,
   "id": "76f3a62e-5ed8-4f0e-b13c-fd33ca50b0e3",
   "metadata": {},
   "outputs": [],
   "source": [
    "BB = MTLphotozs.mtl_photoz(zs = True, flagship=True)\n",
    "catalog_training= catalog_bb_sub.copy()\n",
    "catalog_nb_train = catalog_nb_sub[catalog_nb_sub.index.isin(catalog_training.index)]\n",
    "\n",
    "training_loader = BB.create_loader(catalog_training,catalog_nb_train)\n",
    "BBnet = BB.train_mtl(training_loader, epochs = 65)"
   ]
  },
  {
   "cell_type": "markdown",
   "id": "683a0063-4b08-42a6-9e61-8c373a9b933c",
   "metadata": {},
   "source": [
    "### BB+ NB\n",
    "\n"
   ]
  },
  {
   "cell_type": "code",
   "execution_count": 42,
   "id": "1e876a5a-330d-4270-8ca4-f9a917f577c0",
   "metadata": {},
   "outputs": [],
   "source": [
    "catalog_bb_sub = catalog_bb[catalog_bb.target_zb != 0].reset_index()\n",
    "catalog_nb_sub = catalog_nb[catalog_nb.index.isin(catalog_bb_sub.index)]\n",
    "catalog_nb_sub = 26-2.5*np.log10(catalog_nb_sub)"
   ]
  },
  {
   "cell_type": "code",
   "execution_count": 43,
   "id": "1e230b5b-efc0-419f-a6da-41eb0e2c2e55",
   "metadata": {},
   "outputs": [],
   "source": [
    "BBNB = MTLphotozs.mtl_photoz(zs = False, zs_NB = True, flagship = True)\n",
    "catalog_training= catalog_bb_sub.copy()\n",
    "catalog_nb_train = catalog_nb_sub[catalog_nb_sub.index.isin(catalog_training.index)]\n",
    "\n",
    "training_loader = BBNB.create_loader(catalog_training,catalog_nb_train)\n",
    "BBNBnet = BBNB.train_mtl(training_loader, epochs = 65)"
   ]
  },
  {
   "cell_type": "markdown",
   "id": "81c9c719-6f38-46fb-8ee4-be86ff1536a4",
   "metadata": {},
   "source": [
    "### BB + z"
   ]
  },
  {
   "cell_type": "code",
   "execution_count": 44,
   "id": "bae090d9-8407-4e98-bf6c-2345559f9e46",
   "metadata": {},
   "outputs": [],
   "source": [
    "catalog_bb_sub = catalog_bb[catalog_bb.target_zb != 0].reset_index()\n",
    "catalog_nb_sub = catalog_nb[catalog_nb.index.isin(catalog_bb_sub.index)]\n",
    "catalog_nb_sub = 26-2.5*np.log10(catalog_nb_sub)"
   ]
  },
  {
   "cell_type": "code",
   "execution_count": 45,
   "id": "c011ba4f-4788-462a-a002-1962e7297216",
   "metadata": {},
   "outputs": [
    {
     "ename": "KeyboardInterrupt",
     "evalue": "",
     "output_type": "error",
     "traceback": [
      "\u001b[0;31m---------------------------------------------------------------------------\u001b[0m",
      "\u001b[0;31mKeyboardInterrupt\u001b[0m                         Traceback (most recent call last)",
      "\u001b[0;32m/tmp/ipykernel_56/2578995577.py\u001b[0m in \u001b[0;36m<module>\u001b[0;34m\u001b[0m\n\u001b[1;32m      4\u001b[0m \u001b[0;34m\u001b[0m\u001b[0m\n\u001b[1;32m      5\u001b[0m \u001b[0mtraining_loader\u001b[0m \u001b[0;34m=\u001b[0m \u001b[0mBBz\u001b[0m\u001b[0;34m.\u001b[0m\u001b[0mcreate_loader\u001b[0m\u001b[0;34m(\u001b[0m\u001b[0mcatalog_training\u001b[0m\u001b[0;34m,\u001b[0m\u001b[0mcatalog_nb_train\u001b[0m\u001b[0;34m)\u001b[0m\u001b[0;34m\u001b[0m\u001b[0;34m\u001b[0m\u001b[0m\n\u001b[0;32m----> 6\u001b[0;31m \u001b[0mBBznet\u001b[0m \u001b[0;34m=\u001b[0m \u001b[0mBBz\u001b[0m\u001b[0;34m.\u001b[0m\u001b[0mtrain_mtl\u001b[0m\u001b[0;34m(\u001b[0m\u001b[0mtraining_loader\u001b[0m\u001b[0;34m,\u001b[0m \u001b[0mepochs\u001b[0m \u001b[0;34m=\u001b[0m \u001b[0;36m65\u001b[0m\u001b[0;34m)\u001b[0m\u001b[0;34m\u001b[0m\u001b[0;34m\u001b[0m\u001b[0m\n\u001b[0m",
      "\u001b[0;32m~/MTL_photozs/MTLphotozs/mtl_network.py\u001b[0m in \u001b[0;36mtrain_mtl\u001b[0;34m(self, loader, epochs)\u001b[0m\n\u001b[1;32m     95\u001b[0m \u001b[0;34m\u001b[0m\u001b[0m\n\u001b[1;32m     96\u001b[0m                 \u001b[0mloss\u001b[0m\u001b[0;34m.\u001b[0m\u001b[0mbackward\u001b[0m\u001b[0;34m(\u001b[0m\u001b[0;34m)\u001b[0m\u001b[0;34m\u001b[0m\u001b[0;34m\u001b[0m\u001b[0m\n\u001b[0;32m---> 97\u001b[0;31m                 \u001b[0moptimizer\u001b[0m\u001b[0;34m.\u001b[0m\u001b[0mstep\u001b[0m\u001b[0;34m(\u001b[0m\u001b[0;34m)\u001b[0m\u001b[0;34m\u001b[0m\u001b[0;34m\u001b[0m\u001b[0m\n\u001b[0m\u001b[1;32m     98\u001b[0m \u001b[0;34m\u001b[0m\u001b[0m\n\u001b[1;32m     99\u001b[0m             \u001b[0mscheduler\u001b[0m\u001b[0;34m.\u001b[0m\u001b[0mstep\u001b[0m\u001b[0;34m(\u001b[0m\u001b[0;34m)\u001b[0m\u001b[0;34m\u001b[0m\u001b[0;34m\u001b[0m\u001b[0m\n",
      "\u001b[0;32m/data/astro/scratch/lcabayol/anaconda3/envs/DLenv2/lib/python3.9/site-packages/torch/optim/lr_scheduler.py\u001b[0m in \u001b[0;36mwrapper\u001b[0;34m(*args, **kwargs)\u001b[0m\n\u001b[1;32m     63\u001b[0m                 \u001b[0minstance\u001b[0m\u001b[0;34m.\u001b[0m\u001b[0m_step_count\u001b[0m \u001b[0;34m+=\u001b[0m \u001b[0;36m1\u001b[0m\u001b[0;34m\u001b[0m\u001b[0;34m\u001b[0m\u001b[0m\n\u001b[1;32m     64\u001b[0m                 \u001b[0mwrapped\u001b[0m \u001b[0;34m=\u001b[0m \u001b[0mfunc\u001b[0m\u001b[0;34m.\u001b[0m\u001b[0m__get__\u001b[0m\u001b[0;34m(\u001b[0m\u001b[0minstance\u001b[0m\u001b[0;34m,\u001b[0m \u001b[0mcls\u001b[0m\u001b[0;34m)\u001b[0m\u001b[0;34m\u001b[0m\u001b[0;34m\u001b[0m\u001b[0m\n\u001b[0;32m---> 65\u001b[0;31m                 \u001b[0;32mreturn\u001b[0m \u001b[0mwrapped\u001b[0m\u001b[0;34m(\u001b[0m\u001b[0;34m*\u001b[0m\u001b[0margs\u001b[0m\u001b[0;34m,\u001b[0m \u001b[0;34m**\u001b[0m\u001b[0mkwargs\u001b[0m\u001b[0;34m)\u001b[0m\u001b[0;34m\u001b[0m\u001b[0;34m\u001b[0m\u001b[0m\n\u001b[0m\u001b[1;32m     66\u001b[0m \u001b[0;34m\u001b[0m\u001b[0m\n\u001b[1;32m     67\u001b[0m             \u001b[0;31m# Note that the returned function here is no longer a bound method,\u001b[0m\u001b[0;34m\u001b[0m\u001b[0;34m\u001b[0m\u001b[0m\n",
      "\u001b[0;32m/data/astro/scratch/lcabayol/anaconda3/envs/DLenv2/lib/python3.9/site-packages/torch/optim/optimizer.py\u001b[0m in \u001b[0;36mwrapper\u001b[0;34m(*args, **kwargs)\u001b[0m\n\u001b[1;32m     85\u001b[0m                 \u001b[0mobj\u001b[0m\u001b[0;34m,\u001b[0m \u001b[0;34m*\u001b[0m\u001b[0m_\u001b[0m \u001b[0;34m=\u001b[0m \u001b[0margs\u001b[0m\u001b[0;34m\u001b[0m\u001b[0;34m\u001b[0m\u001b[0m\n\u001b[1;32m     86\u001b[0m                 \u001b[0mprofile_name\u001b[0m \u001b[0;34m=\u001b[0m \u001b[0;34m\"Optimizer.step#{}.step\"\u001b[0m\u001b[0;34m.\u001b[0m\u001b[0mformat\u001b[0m\u001b[0;34m(\u001b[0m\u001b[0mobj\u001b[0m\u001b[0;34m.\u001b[0m\u001b[0m__class__\u001b[0m\u001b[0;34m.\u001b[0m\u001b[0m__name__\u001b[0m\u001b[0;34m)\u001b[0m\u001b[0;34m\u001b[0m\u001b[0;34m\u001b[0m\u001b[0m\n\u001b[0;32m---> 87\u001b[0;31m                 \u001b[0;32mwith\u001b[0m \u001b[0mtorch\u001b[0m\u001b[0;34m.\u001b[0m\u001b[0mautograd\u001b[0m\u001b[0;34m.\u001b[0m\u001b[0mprofiler\u001b[0m\u001b[0;34m.\u001b[0m\u001b[0mrecord_function\u001b[0m\u001b[0;34m(\u001b[0m\u001b[0mprofile_name\u001b[0m\u001b[0;34m)\u001b[0m\u001b[0;34m:\u001b[0m\u001b[0;34m\u001b[0m\u001b[0;34m\u001b[0m\u001b[0m\n\u001b[0m\u001b[1;32m     88\u001b[0m                     \u001b[0;32mreturn\u001b[0m \u001b[0mfunc\u001b[0m\u001b[0;34m(\u001b[0m\u001b[0;34m*\u001b[0m\u001b[0margs\u001b[0m\u001b[0;34m,\u001b[0m \u001b[0;34m**\u001b[0m\u001b[0mkwargs\u001b[0m\u001b[0;34m)\u001b[0m\u001b[0;34m\u001b[0m\u001b[0;34m\u001b[0m\u001b[0m\n\u001b[1;32m     89\u001b[0m             \u001b[0;32mreturn\u001b[0m \u001b[0mwrapper\u001b[0m\u001b[0;34m\u001b[0m\u001b[0;34m\u001b[0m\u001b[0m\n",
      "\u001b[0;32m/data/astro/scratch/lcabayol/anaconda3/envs/DLenv2/lib/python3.9/site-packages/torch/autograd/profiler.py\u001b[0m in \u001b[0;36m__enter__\u001b[0;34m(self)\u001b[0m\n\u001b[1;32m    434\u001b[0m \u001b[0;34m\u001b[0m\u001b[0m\n\u001b[1;32m    435\u001b[0m     \u001b[0;32mdef\u001b[0m \u001b[0m__enter__\u001b[0m\u001b[0;34m(\u001b[0m\u001b[0mself\u001b[0m\u001b[0;34m)\u001b[0m\u001b[0;34m:\u001b[0m\u001b[0;34m\u001b[0m\u001b[0;34m\u001b[0m\u001b[0m\n\u001b[0;32m--> 436\u001b[0;31m         \u001b[0mself\u001b[0m\u001b[0;34m.\u001b[0m\u001b[0mhandle\u001b[0m \u001b[0;34m=\u001b[0m \u001b[0mtorch\u001b[0m\u001b[0;34m.\u001b[0m\u001b[0mops\u001b[0m\u001b[0;34m.\u001b[0m\u001b[0mprofiler\u001b[0m\u001b[0;34m.\u001b[0m\u001b[0m_record_function_enter\u001b[0m\u001b[0;34m(\u001b[0m\u001b[0mself\u001b[0m\u001b[0;34m.\u001b[0m\u001b[0mname\u001b[0m\u001b[0;34m,\u001b[0m \u001b[0mself\u001b[0m\u001b[0;34m.\u001b[0m\u001b[0margs\u001b[0m\u001b[0;34m)\u001b[0m\u001b[0;34m\u001b[0m\u001b[0;34m\u001b[0m\u001b[0m\n\u001b[0m\u001b[1;32m    437\u001b[0m         \u001b[0;32mreturn\u001b[0m \u001b[0mself\u001b[0m\u001b[0;34m\u001b[0m\u001b[0;34m\u001b[0m\u001b[0m\n\u001b[1;32m    438\u001b[0m \u001b[0;34m\u001b[0m\u001b[0m\n",
      "\u001b[0;31mKeyboardInterrupt\u001b[0m: "
     ]
    }
   ],
   "source": [
    "BBz = MTLphotozs.mtl_photoz(zs = False, zs_zb = True, flagship = True)\n",
    "catalog_training= catalog_bb_sub.copy()\n",
    "catalog_nb_train = catalog_nb_sub[catalog_nb_sub.index.isin(catalog_training.index)]\n",
    "\n",
    "training_loader = BBz.create_loader(catalog_training,catalog_nb_train)\n",
    "BBznet = BBz.train_mtl(training_loader, epochs = 65)"
   ]
  },
  {
   "cell_type": "markdown",
   "id": "7ccaecb0-d1c3-4e7b-a338-0a1d96206589",
   "metadata": {},
   "source": [
    "### BB + NB +z"
   ]
  },
  {
   "cell_type": "code",
   "execution_count": null,
   "id": "fdb7fde0-5c70-478f-8c8c-c9d1aefcee9c",
   "metadata": {},
   "outputs": [],
   "source": [
    "catalog_bb_sub = catalog_bb[catalog_bb.target_zb != 0].reset_index()\n",
    "catalog_nb_sub = catalog_nb[catalog_nb.index.isin(catalog_bb_sub.index)]\n",
    "catalog_nb_sub = 26-2.5*np.log10(catalog_nb_sub)"
   ]
  },
  {
   "cell_type": "code",
   "execution_count": null,
   "id": "ecac9770-d958-4a5c-b825-f7af86af1f62",
   "metadata": {},
   "outputs": [],
   "source": [
    "BBNBz = MTLphotozs.mtl_photoz(zs = False, zs_NB_zb = True, flagship = True)\n",
    "catalog_training= catalog_bb_sub.copy()\n",
    "catalog_nb_train = catalog_nb_sub[catalog_nb_sub.index.isin(catalog_training.index)]\n",
    "\n",
    "training_loader = BBNBz.create_loader(catalog_training,catalog_nb_train)\n",
    "BBNBznet = BBNBz.train_mtl(training_loader, epochs = 65)"
   ]
  },
  {
   "cell_type": "markdown",
   "id": "1be85137-13a5-47c0-ac41-b60ba554a4f4",
   "metadata": {},
   "source": [
    "## TEST TO i<25"
   ]
  },
  {
   "cell_type": "code",
   "execution_count": 22,
   "id": "5dd5defa-46a6-4174-b0fa-1c66110b5897",
   "metadata": {},
   "outputs": [],
   "source": [
    "catalog_test = pd.read_csv('/data/astro/scratch/lcabayol/Euclid/Euclid_mock_v2.csv', sep = ',', header = 0, comment = '#')\n",
    "catalog_test = catalog_test.dropna()\n",
    "catalog_test = catalog_test[catalog_test.observed_redshift_gal < 1.5]\n",
    "\n",
    "catalog_test['mag'] =  -2.5 * np.log10(catalog_test.blanco_decam_i) - 48.6\n",
    "catalog_test = catalog_test[catalog_test.mag < 25]\n",
    "catalog_test = catalog_test[catalog_test.mag > 18]\n",
    "catalog_test = catalog_test.sample(50000)\n",
    "catalog_test = catalog_test.reset_index()"
   ]
  },
  {
   "cell_type": "code",
   "execution_count": 23,
   "id": "61e830da-8942-4d8d-a72c-2f5db2bf404b",
   "metadata": {},
   "outputs": [
    {
     "name": "stderr",
     "output_type": "stream",
     "text": [
      "/tmp/ipykernel_56/2075870673.py:21: RuntimeWarning: invalid value encountered in log10\n",
      "  samps_BB_spec_test = -2.5 * np.log10(samps_BB_spec_test) - 48.6\n"
     ]
    }
   ],
   "source": [
    "BB_name = ['cfis_u','blanco_decam_g','blanco_decam_r','blanco_decam_i','blanco_decam_z','euclid_nisp_h','euclid_nisp_j','euclid_nisp_y']\n",
    "catalog_bb_test = catalog_test[BB_name]\n",
    "bb_names_new = ['U','G','R','I','ZN','H','J','Y']\n",
    "bb_name_dict = dict(zip(BB_name, bb_names_new))\n",
    "\n",
    "catalog_bb_test_nl = catalog_bb_test.rename(columns = bb_name_dict)\n",
    "catalog_bb_test_nl_mag = -48.6 - 2.5*np.log10(catalog_bb_test_nl)\n",
    "filters = bb_names_new.copy()\n",
    "\n",
    "SNR_flagship_BB = exposure_SN(catalog_bb_test_nl_mag, filters,  scale = True)\n",
    "err = np.abs(catalog_bb_test_nl / SNR_flagship_BB)\n",
    "err_rand = err * np.random.normal(0,1, size = (err.shape))\n",
    "\n",
    "catalog_bb_test = catalog_bb_test_nl.values + err_rand.values\n",
    "\n",
    "catalog_bb_test = pd.DataFrame(catalog_bb_test, columns = bb_names_new)\n",
    "\n",
    "samps_BB_spec_test_store = catalog_bb_test.copy()\n",
    "\n",
    "samps_BB_spec_test = catalog_bb_test[bb_names_new].values\n",
    "samps_BB_spec_test = -2.5 * np.log10(samps_BB_spec_test) - 48.6\n",
    "\n",
    "zspec_test = catalog_test.observed_redshift_gal.values\n",
    "zb_bin_spec_test = 1000* zspec_test\n",
    "\n",
    "colors_spec_test = samps_BB_spec_test[:,:-1] - samps_BB_spec_test[:,1:] \n",
    "\n",
    "colors_spec_test, zspec_test, zb_bin_spec_test = torch.Tensor(colors_spec_test), torch.Tensor(zspec_test), torch.LongTensor(zb_bin_spec_test)\n",
    "mag_test = -2.5 * np.log10(catalog_bb_test.I) - 48.6\n"
   ]
  },
  {
   "cell_type": "code",
   "execution_count": 24,
   "id": "29be8dad-b889-4d8c-b32e-d81ca8c7e469",
   "metadata": {},
   "outputs": [
    {
     "name": "stdout",
     "output_type": "stream",
     "text": [
      "Bias -0.02731115911875544 scatter 0.08217969484992955\n"
     ]
    }
   ],
   "source": [
    "BBnet = BBnet.eval()\n",
    "_, logalphas, z,logzerr = BBnet(colors_spec_test.cuda())\n",
    "alphas = torch.exp(logalphas)\n",
    "zb = (alphas * z).sum(1)\n",
    "zb,logzerr  = zb.detach().cpu().numpy(), logzerr.detach().cpu().numpy()\n",
    "\n",
    "df_bb = pd.DataFrame(np.c_[zb,zspec_test,mag_test], columns = ['zb_bb','zb_true','imag'])\n",
    "df_bb['rerr_bb'] = (df_bb.zb_bb - df_bb.zb_true) / (1 + df_bb.zb_true)\n",
    "print('Bias',np.nanmedian(df_bb.rerr_bb), 'scatter', sigma68(df_bb.rerr_bb))\n"
   ]
  },
  {
   "cell_type": "code",
   "execution_count": 25,
   "id": "2ee1a3dd-4d9d-4f6c-b31f-df197eef5574",
   "metadata": {},
   "outputs": [
    {
     "name": "stdout",
     "output_type": "stream",
     "text": [
      "Bias -0.014917545550432877 scatter 0.08289386598351409\n"
     ]
    }
   ],
   "source": [
    "BBNBnet = BBNBnet.eval()\n",
    "_, logalphas, z,logzerr = BBNBnet(colors_spec_test.cuda()) \n",
    "alphas = torch.exp(logalphas)\n",
    "zb = (alphas * z).sum(1)\n",
    "zb,logzerr  = zb.detach().cpu().numpy(), logzerr.detach().cpu().numpy()\n",
    "\n",
    "df_bbnb = pd.DataFrame(np.c_[zb,zspec_test,mag_test], columns = ['zb_bbnb','zb_true','imag'])\n",
    "df_bbnb['rerr_bbnb'] = (df_bbnb.zb_bbnb - df_bbnb.zb_true) / (1 + df_bbnb.zb_true)\n",
    "print('Bias',np.nanmedian(df_bbnb.rerr_bbnb), 'scatter', sigma68(df_bbnb.rerr_bbnb))\n"
   ]
  },
  {
   "cell_type": "code",
   "execution_count": 26,
   "id": "4fc0efe0-3ec9-46da-943e-8e5ded428121",
   "metadata": {},
   "outputs": [
    {
     "name": "stdout",
     "output_type": "stream",
     "text": [
      "Bias -0.026923317007559955 scatter 0.07717676509155784\n"
     ]
    }
   ],
   "source": [
    "BBznet = BBznet.eval()\n",
    "_, logalphas, z,logzerr = BBznet(colors_spec_test.cuda()) \n",
    "alphas = torch.exp(logalphas)\n",
    "zb = (alphas * z).sum(1)\n",
    "zb,logzerr  = zb.detach().cpu().numpy(), logzerr.detach().cpu().numpy()\n",
    "\n",
    "df_bbz = pd.DataFrame(np.c_[zb,zspec_test,mag_test], columns = ['zb_bbz','zb_true','imag'])\n",
    "df_bbz['rerr_bbz'] = (df_bbz.zb_bbz - df_bbz.zb_true) / (1 + df_bbz.zb_true)\n",
    "print('Bias',np.nanmedian(df_bbz.rerr_bbz), 'scatter', sigma68(df_bbz.rerr_bbz))\n"
   ]
  },
  {
   "cell_type": "code",
   "execution_count": 27,
   "id": "e29748a9-9923-49a7-85ac-7c66b66a483c",
   "metadata": {},
   "outputs": [
    {
     "name": "stdout",
     "output_type": "stream",
     "text": [
      "Bias -0.02910810016281569 scatter 0.07774446150897124\n"
     ]
    }
   ],
   "source": [
    "BBNBznet = BBNBznet.eval()\n",
    "_, logalphas, z,logzerr = BBNBznet(colors_spec_test.cuda()) \n",
    "alphas = torch.exp(logalphas)\n",
    "zb = (alphas * z).sum(1)\n",
    "zb,logzerr  = zb.detach().cpu().numpy(), logzerr.detach().cpu().numpy()\n",
    "\n",
    "df_bbnbz = pd.DataFrame(np.c_[zb,zspec_test,mag_test], columns = ['zb_bbnbz','zb_true','imag'])\n",
    "df_bbnbz['rerr_bbnbz'] = (df_bbnbz.zb_bbnbz - df_bbnbz.zb_true) / (1 + df_bbnbz.zb_true)\n",
    "print('Bias',np.nanmedian(df_bbnbz.rerr_bbnbz), 'scatter', sigma68(df_bbnbz.rerr_bbnbz))\n"
   ]
  },
  {
   "cell_type": "code",
   "execution_count": 28,
   "id": "59ebe1ae-e0dc-4466-8083-187f78407f84",
   "metadata": {},
   "outputs": [],
   "source": [
    "df = df_bb.reset_index().merge(df_bbnb[['zb_bbnb','rerr_bbnb']].reset_index(), on = 'index')\n",
    "df = df.merge(df_bbz[['zb_bbz','rerr_bbz']].reset_index(), on = 'index')\n",
    "df = df.merge(df_bbnbz[['zb_bbnbz','rerr_bbnbz']].reset_index(), on = 'index')"
   ]
  },
  {
   "cell_type": "code",
   "execution_count": 29,
   "id": "3b4cb300-5da9-4fd3-9f73-7f5acd92b0f3",
   "metadata": {},
   "outputs": [],
   "source": [
    "df_5pc = df.copy()"
   ]
  },
  {
   "cell_type": "code",
   "execution_count": null,
   "id": "6e56f04c-4cfc-47d5-8af9-0d4be03f90fb",
   "metadata": {},
   "outputs": [],
   "source": []
  }
 ],
 "metadata": {
  "kernelspec": {
   "display_name": "DLenv2",
   "language": "python",
   "name": "dlenv2"
  },
  "language_info": {
   "codemirror_mode": {
    "name": "ipython",
    "version": 3
   },
   "file_extension": ".py",
   "mimetype": "text/x-python",
   "name": "python",
   "nbconvert_exporter": "python",
   "pygments_lexer": "ipython3",
   "version": "3.9.7"
  }
 },
 "nbformat": 4,
 "nbformat_minor": 5
}
