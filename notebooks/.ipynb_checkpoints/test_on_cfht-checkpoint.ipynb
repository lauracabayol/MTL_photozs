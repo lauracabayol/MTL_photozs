{
 "cells": [
  {
   "cell_type": "code",
   "execution_count": 1,
   "id": "3c7929c4-7249-4d1c-a34e-a00849f1e278",
   "metadata": {},
   "outputs": [],
   "source": [
    "import numpy as np\n",
    "import pandas as pd\n",
    "import matplotlib.pyplot as plt\n",
    "\n",
    "import torch\n",
    "import os\n",
    "\n",
    "from torch import nn, optim\n",
    "from torch.optim import lr_scheduler\n",
    "import time\n"
   ]
  },
  {
   "cell_type": "code",
   "execution_count": 2,
   "id": "91560be1-a3e6-456b-86ca-d653090baecc",
   "metadata": {},
   "outputs": [],
   "source": [
    "def sigma68(data): return 0.5*(pd.Series(data).quantile(q = 0.84) - pd.Series(data).quantile(q = 0.16))"
   ]
  },
  {
   "cell_type": "code",
   "execution_count": 3,
   "id": "5004cee4-3941-45aa-add7-3b9a30a4c15b",
   "metadata": {},
   "outputs": [],
   "source": [
    "from sqlalchemy.engine import create_engine\n",
    "from sqlalchemy import *\n",
    "from sqlalchemy.orm import *\n",
    "\n",
    "engine = create_engine('postgresql://readonly@db03.pau.pic.es/dm')\n",
    "\n",
    "query = f\"\"\"\n",
    "    SELECT cm.paudm_id, cm.zspec, cm.\"I_auto\", cm.ra, cm.dec, cm.conf, cm.\"Umag\", cm.\"Bmag\", cm.\"Vmag\", cm.\"Rmag\", cm.\"ICmag\", cm.\"Zmag\"\n",
    "    FROM COSMOS as cm\n",
    "    \"\"\"\n",
    "\n",
    "with engine.begin() as conn:\n",
    "    conn.execute(\"SET TRANSACTION ISOLATION LEVEL SERIALIZABLE READ ONLY DEFERRABLE\")\n",
    "    ilbert = pd.read_sql(query, conn)\n"
   ]
  },
  {
   "cell_type": "code",
   "execution_count": 4,
   "id": "2a4a149c-bd9e-499a-a3c5-de675a0d939b",
   "metadata": {},
   "outputs": [],
   "source": [
    "query = f\"\"\"\n",
    "    SELECT fac.ref_id, fac.flux, fac.flux_error, fac.band\n",
    "    FROM forced_aperture_coadd as fac\n",
    "    WHERE fac.production_id = 948\n",
    "    \"\"\"\n",
    "\n",
    "with engine.begin() as conn:\n",
    "    conn.execute(\"SET TRANSACTION ISOLATION LEVEL SERIALIZABLE READ ONLY DEFERRABLE\")\n",
    "    FAC_memba = pd.read_sql(query, conn)\n",
    "\n",
    "FAC_memba['flux'] = FAC_memba.flux / 0.625\n",
    "FAC_memba['flux_error'] = FAC_memba.flux_error / 0.625\n",
    "\n",
    "FAC_memba = FAC_memba.rename(columns = {'ref_id':'paudm_id'})\n",
    "\n",
    "FAC_memba_flux = FAC_memba.pivot(index = 'paudm_id', columns = 'band', values = 'flux')\n"
   ]
  },
  {
   "cell_type": "code",
   "execution_count": 5,
   "id": "a77a5111-b05d-4a7e-8b69-27d8ba3fb3e1",
   "metadata": {},
   "outputs": [],
   "source": [
    "z = pd.read_csv('/data/astro/scratch/lcabayol/Euclid/cosmos_pz_cat_alex.csv', comment = '#', header = 0, sep = ',')\n",
    "z = z.rename(columns = {'ref_id':'paudm_id'})\n",
    "z = z.rename(columns = {'photoz':'zb_alex'})\n",
    "z = z[z.zb_alex <1.5]\n",
    "z = z.replace('N',np.nan, regex=True)\n",
    "z = z.astype(np.float32)"
   ]
  },
  {
   "cell_type": "code",
   "execution_count": 6,
   "id": "f4de97ea-fe22-4cba-addc-ec4553358f75",
   "metadata": {},
   "outputs": [],
   "source": [
    "ilbert = ilbert.merge(z[['paudm_id','zb_alex','zspec_mean']], on = ['paudm_id'])\n",
    "ilbert = ilbert.fillna(0)\n"
   ]
  },
  {
   "cell_type": "code",
   "execution_count": 7,
   "id": "bac1737d-8128-42c0-aaa5-a91e3325ca46",
   "metadata": {},
   "outputs": [],
   "source": [
    "\n",
    "ilbert['target_zs'] = ilbert.zspec\n",
    "ilbert.target_zs.where((ilbert.conf>3), 0, inplace = True)\n",
    "ilbert.target_zs.where((ilbert.conf<5), 0, inplace = True)\n",
    "ilbert.target_zs.where((ilbert.target_zs!=0), ilbert.zspec_mean, inplace = True)\n"
   ]
  },
  {
   "cell_type": "code",
   "execution_count": 8,
   "id": "4d664331-714f-4326-afeb-857357fab8a9",
   "metadata": {},
   "outputs": [],
   "source": [
    "ilbert = ilbert.fillna(0)\n",
    "\n",
    "ilbert['target_zb'] = ilbert.zspec\n",
    "ilbert.target_zb.where((ilbert.conf>3), 0, inplace = True)\n",
    "ilbert.target_zb.where((ilbert.conf<5), 0, inplace = True)\n",
    "ilbert.target_zb.where((ilbert.target_zb!=0), ilbert.zspec_mean, inplace = True)\n",
    "ilbert.target_zb.where((ilbert.target_zb!=0), ilbert.zb_alex, inplace = True)\n"
   ]
  },
  {
   "cell_type": "code",
   "execution_count": 9,
   "id": "55083ba6-3e6e-48d6-90f7-442e94b74157",
   "metadata": {},
   "outputs": [],
   "source": [
    "ilbert = ilbert[ilbert.zspec <1.5]\n",
    "ilbert = ilbert[ilbert.target_zb <1.5]\n",
    "ilbert = ilbert[ilbert.target_zs <1.5]"
   ]
  },
  {
   "cell_type": "markdown",
   "id": "d3c5c4f8-315e-4005-9c9f-d2df10648e0e",
   "metadata": {},
   "source": [
    "# TRAIN NETWORKS"
   ]
  },
  {
   "cell_type": "code",
   "execution_count": 17,
   "id": "2ac0b0ff-e829-4440-8071-0cf79be42b08",
   "metadata": {},
   "outputs": [],
   "source": [
    "NB_list = ['NB%s'%nb for nb in np.arange(455,855,10)]\n",
    "BB_list = ['Umag','Bmag','Vmag','Rmag','ICmag','Zmag']"
   ]
  },
  {
   "cell_type": "code",
   "execution_count": 10,
   "id": "e80fae96-c8c0-43d2-9607-93ecb236c110",
   "metadata": {},
   "outputs": [],
   "source": [
    "import MTLphotozs"
   ]
  },
  {
   "cell_type": "markdown",
   "id": "fc2dd746-60a8-44bd-8af6-15ad488c9b94",
   "metadata": {},
   "source": [
    "## BB"
   ]
  },
  {
   "cell_type": "code",
   "execution_count": 61,
   "id": "bfce1765-87ad-40e3-82cd-59e0d73c4c93",
   "metadata": {},
   "outputs": [],
   "source": [
    "catalog_bb = ilbert[ilbert.target_zs != 0].reset_index()\n",
    "catalog_nb = FAC_memba_flux[FAC_memba_flux.index.isin(catalog_bb.paudm_id)]\n",
    "catalog_nb = 26-2.5*np.log10(catalog_nb)"
   ]
  },
  {
   "cell_type": "code",
   "execution_count": 62,
   "id": "d7895450-eabf-4b84-8638-b05bec4d718a",
   "metadata": {},
   "outputs": [
    {
     "name": "stdout",
     "output_type": "stream",
     "text": [
      "Bias 0.0011062346544466126 scatter 0.019286243211414346\n"
     ]
    },
    {
     "name": "stderr",
     "output_type": "stream",
     "text": [
      "/tmp/ipykernel_18925/3469581899.py:29: FutureWarning: In a future version of pandas all arguments of concat except for the argument 'objs' will be keyword-only\n",
      "  df_all = pd.concat((df_all,df),0)\n"
     ]
    },
    {
     "name": "stdout",
     "output_type": "stream",
     "text": [
      "Bias 0.002034141842501082 scatter 0.019297750239884694\n",
      "Bias -0.0008375795495669301 scatter 0.01927020420762582\n",
      "Bias 0.0011829641762256878 scatter 0.017623507839760244\n",
      "Bias 0.0013760654789627016 scatter 0.01897631672919413\n",
      "Bias -0.0011715691610996554 scatter 0.01969534836511853\n"
     ]
    }
   ],
   "source": [
    "df_all = pd.DataFrame()\n",
    "cuts = np.arange(0,12001,2000)\n",
    "\n",
    "for k in range(len(cuts)-1):\n",
    "    BB = MTLphotozs.mtl_photoz(zs = True)\n",
    "    catalog_test = catalog_bb.loc[cuts[k]:cuts[k+1]]\n",
    "    catalog_training= catalog_bb[~catalog_bb.paudm_id.isin(catalog_test.paudm_id)]\n",
    "    catalog_nb_train = catalog_nb[catalog_nb.index.isin(catalog_training.paudm_id)]\n",
    "    \n",
    "    training_loader = BB.create_loader(catalog_training,catalog_nb_train)\n",
    "    BBnet = BB.train_mtl(training_loader, epochs = 65)\n",
    "    \n",
    "    \n",
    "    samps_BB_spec_test =  catalog_test[BB_list].values\n",
    "    samps_BB_colors_test = samps_BB_spec_test[:,:-1] - samps_BB_spec_test[:,1:]\n",
    "    samps_BB_colors_test = torch.Tensor(samps_BB_colors_test)\n",
    "    zb_test = catalog_test.target_zs.values\n",
    "    refid_test = catalog_test.paudm_id.values\n",
    "    _,logalphas, z,logzerr = BBnet(samps_BB_colors_test.cuda())\n",
    "    \n",
    "    alphas = torch.exp(logalphas)\n",
    "    zb = (alphas * z).sum(1)\n",
    "    zb,logzerr  = zb.detach().cpu().numpy(), logzerr.detach().cpu().numpy()\n",
    "\n",
    "    df = pd.DataFrame(np.c_[refid_test,zb,zb_test], columns = ['ref_id','zb','zb_true'])\n",
    "    df['rerr'] = (df.zb - df.zb_true) / (1 + df.zb_true)\n",
    "    print('Bias',np.nanmedian(df.rerr), 'scatter', sigma68(df.rerr))\n",
    "    \n",
    "    df_all = pd.concat((df_all,df),0) "
   ]
  },
  {
   "cell_type": "code",
   "execution_count": 63,
   "id": "1ac5469f-3460-4a01-99b3-2a8a30545d2c",
   "metadata": {},
   "outputs": [
    {
     "name": "stdout",
     "output_type": "stream",
     "text": [
      "Bias -0.0036433075794583074 scatter 0.026762067422364304\n"
     ]
    },
    {
     "name": "stderr",
     "output_type": "stream",
     "text": [
      "/tmp/ipykernel_18925/3049832044.py:20: FutureWarning: In a future version of pandas all arguments of concat except for the argument 'objs' will be keyword-only\n",
      "  df_all = pd.concat((df_all,df),0)\n"
     ]
    }
   ],
   "source": [
    "catalog_bb2 = ilbert[(ilbert.target_zs == 0)&(ilbert.target_zb != 0)].reset_index()\n",
    "samps_BB_spec_test = catalog_bb2[BB_list].values\n",
    "zb_spec_test = catalog_bb2.target_zb.values\n",
    "refid = catalog_bb2.paudm_id.values\n",
    "\n",
    "samps_BB_colors_test = samps_BB_spec_test[:,:-1] - samps_BB_spec_test[:,1:]\n",
    "samps_BB_colors_test = torch.Tensor(samps_BB_colors_test)\n",
    "\n",
    "_,logalphas, z,logzerr = BBnet(samps_BB_colors_test.cuda())\n",
    "\n",
    "alphas = torch.exp(logalphas)\n",
    "zb = (alphas * z).sum(1)\n",
    "zb,logzerr  = zb.detach().cpu().numpy(), logzerr.detach().cpu().numpy()\n",
    "\n",
    "df = pd.DataFrame(np.c_[refid,zb,zb_spec_test], columns = ['ref_id','zb','zb_true'])\n",
    "df['rerr'] = (df.zb - df.zb_true) / (1 + df.zb_true)\n",
    "\n",
    "print('Bias',np.nanmedian(df.rerr), 'scatter', sigma68(df.rerr))\n",
    "\n",
    "df_all = pd.concat((df_all,df),0) "
   ]
  },
  {
   "cell_type": "code",
   "execution_count": 64,
   "id": "7160fbcb-c853-47b6-beb9-5f9f703fea55",
   "metadata": {},
   "outputs": [],
   "source": [
    "df_bb = df_all.copy()"
   ]
  },
  {
   "cell_type": "markdown",
   "id": "295d4e2d-2a5f-4439-994d-c8f8365e83f8",
   "metadata": {},
   "source": [
    "## BB + NB"
   ]
  },
  {
   "cell_type": "code",
   "execution_count": 65,
   "id": "f6af1e6d-87b6-4411-bad7-2a80b1f8100a",
   "metadata": {},
   "outputs": [],
   "source": [
    "catalog_bb = ilbert[ilbert.target_zb != 0].reset_index()\n",
    "catalog_nb = FAC_memba_flux[FAC_memba_flux.index.isin(catalog_bb.paudm_id)]\n",
    "catalog_nb = 26-2.5*np.log10(catalog_nb)"
   ]
  },
  {
   "cell_type": "code",
   "execution_count": null,
   "id": "b745d993-cb56-4443-ad35-b05d29251bc5",
   "metadata": {
    "tags": []
   },
   "outputs": [
    {
     "name": "stdout",
     "output_type": "stream",
     "text": [
      "Bias -0.002611006219901784 scatter 0.023784662895227366\n"
     ]
    },
    {
     "name": "stderr",
     "output_type": "stream",
     "text": [
      "/tmp/ipykernel_18925/2245554793.py:30: FutureWarning: In a future version of pandas all arguments of concat except for the argument 'objs' will be keyword-only\n",
      "  df_all = pd.concat((df_all,df),0)\n"
     ]
    },
    {
     "name": "stdout",
     "output_type": "stream",
     "text": [
      "Bias -0.0011848530565138932 scatter 0.021597347438734774\n",
      "Bias -0.0013833372383899316 scatter 0.0202078736109631\n"
     ]
    }
   ],
   "source": [
    "df_all = pd.DataFrame()\n",
    "cuts = np.linspace(0,len(catalog_bb),6)\n",
    "\n",
    "for k in range(len(cuts)-1):\n",
    "    BBNB = MTLphotozs.mtl_photoz(zs = False, zs_NB = True)\n",
    "    catalog_test = catalog_bb.loc[cuts[k]:cuts[k+1]]\n",
    "    catalog_training= catalog_bb[~catalog_bb.paudm_id.isin(catalog_test.paudm_id)]\n",
    "    catalog_nb_train = catalog_nb[catalog_nb.index.isin(catalog_training.paudm_id)]\n",
    "    \n",
    "    training_loader = BBNB.create_loader(catalog_training,catalog_nb_train)\n",
    "    BBNBnet = BBNB.train_mtl(training_loader, epochs = 65)\n",
    "    \n",
    "    \n",
    "    \n",
    "    samps_BB_spec_test =  catalog_test[BB_list].values\n",
    "    samps_BB_colors_test = samps_BB_spec_test[:,:-1] - samps_BB_spec_test[:,1:]\n",
    "    samps_BB_colors_test = torch.Tensor(samps_BB_colors_test)\n",
    "    zb_test = catalog_test.target_zb.values\n",
    "    refid_test = catalog_test.paudm_id.values\n",
    "    _,logalphas, z,logzerr = BBNBnet(samps_BB_colors_test.cuda())\n",
    "    \n",
    "    alphas = torch.exp(logalphas)\n",
    "    zb = (alphas * z).sum(1)\n",
    "    zb,logzerr  = zb.detach().cpu().numpy(), logzerr.detach().cpu().numpy()\n",
    "\n",
    "    df = pd.DataFrame(np.c_[refid_test,zb,zb_test], columns = ['ref_id','zb','zb_true'])\n",
    "    df['rerr'] = (df.zb - df.zb_true) / (1 + df.zb_true)\n",
    "    print('Bias',np.nanmedian(df.rerr), 'scatter', sigma68(df.rerr))\n",
    "    \n",
    "    df_all = pd.concat((df_all,df),0) "
   ]
  },
  {
   "cell_type": "code",
   "execution_count": null,
   "id": "1d9e9236-796d-479e-bc8f-75ac0eafc64c",
   "metadata": {},
   "outputs": [],
   "source": [
    "df_bbnb = df_all.copy()"
   ]
  },
  {
   "cell_type": "markdown",
   "id": "2b6b2f67-ef96-4b63-a41a-37b6b9382d1a",
   "metadata": {},
   "source": [
    "## BB + z"
   ]
  },
  {
   "cell_type": "code",
   "execution_count": null,
   "id": "48b02cd2-a59a-4043-9a05-062929072afb",
   "metadata": {},
   "outputs": [],
   "source": [
    "catalog_bb = ilbert[ilbert.target_zb != 0].reset_index()\n",
    "catalog_nb = FAC_memba_flux[FAC_memba_flux.index.isin(catalog_bb.paudm_id)]\n",
    "catalog_nb = 26-2.5*np.log10(catalog_nb)"
   ]
  },
  {
   "cell_type": "code",
   "execution_count": null,
   "id": "3e66fdc8-7bbc-4dd2-a358-f2a1ecc85b48",
   "metadata": {},
   "outputs": [],
   "source": [
    "df_all = pd.DataFrame()\n",
    "cuts = np.linspace(0,len(catalog_bb),6)\n",
    "\n",
    "for k in range(len(cuts)-1):\n",
    "    BBz = MTLphotozs.mtl_photoz(zs = False, zs_zb = True)\n",
    "    catalog_test = catalog_bb.loc[cuts[k]:cuts[k+1]]\n",
    "    catalog_training= catalog_bb[~catalog_bb.paudm_id.isin(catalog_test.paudm_id)]\n",
    "    catalog_nb_train = catalog_nb[catalog_nb.index.isin(catalog_training.paudm_id)]\n",
    "    \n",
    "    training_loader = BBz.create_loader(catalog_training,catalog_nb_train)\n",
    "    BBznet = BBz.train_mtl(training_loader, epochs = 65)\n",
    "    \n",
    "    \n",
    "    samps_BB_spec_test =  catalog_test[BB_list].values\n",
    "    samps_BB_colors_test = samps_BB_spec_test[:,:-1] - samps_BB_spec_test[:,1:]\n",
    "    samps_BB_colors_test = torch.Tensor(samps_BB_colors_test)\n",
    "    zb_test = catalog_test.target_zb.values\n",
    "    refid_test = catalog_test.paudm_id.values\n",
    "    _,logalphas, z,logzerr = BBznet(samps_BB_colors_test.cuda())\n",
    "    \n",
    "    alphas = torch.exp(logalphas)\n",
    "    zb = (alphas * z).sum(1)\n",
    "    zb,logzerr  = zb.detach().cpu().numpy(), logzerr.detach().cpu().numpy()\n",
    "\n",
    "    df = pd.DataFrame(np.c_[refid_test,zb,zb_test], columns = ['ref_id','zb','zb_true'])\n",
    "    df['rerr'] = (df.zb - df.zb_true) / (1 + df.zb_true)\n",
    "    print('Bias',np.nanmedian(df.rerr), 'scatter', sigma68(df.rerr))\n",
    "    \n",
    "    df_all = pd.concat((df_all,df),0) "
   ]
  },
  {
   "cell_type": "code",
   "execution_count": null,
   "id": "925fc644-8029-422a-a52d-2c58bbf05032",
   "metadata": {},
   "outputs": [],
   "source": [
    "df_bbz = df_all.copy()"
   ]
  },
  {
   "cell_type": "markdown",
   "id": "41c2b716-5208-4b9e-a32a-25b65bbe45c4",
   "metadata": {},
   "source": [
    "## BB + NB + z"
   ]
  },
  {
   "cell_type": "code",
   "execution_count": null,
   "id": "b156e97f-ef90-43f1-8a1b-42899b06ab89",
   "metadata": {},
   "outputs": [],
   "source": [
    "catalog_bb = ilbert[ilbert.target_zb != 0].reset_index()\n",
    "catalog_nb = FAC_memba_flux[FAC_memba_flux.index.isin(catalog_bb.paudm_id)]\n",
    "catalog_nb = 26-2.5*np.log10(catalog_nb)"
   ]
  },
  {
   "cell_type": "code",
   "execution_count": null,
   "id": "0d3a1d3d-f950-4f93-b8b8-b0b81583b9cf",
   "metadata": {},
   "outputs": [],
   "source": [
    "df_all = pd.DataFrame()\n",
    "cuts = np.linspace(0,len(catalog_bb),6)\n",
    "\n",
    "for k in range(len(cuts)-1):\n",
    "    BBNBz = MTLphotozs.mtl_photoz(zs = False, zs_NB_zb = True)\n",
    "    catalog_test = catalog_bb.loc[cuts[k]:cuts[k+1]]\n",
    "    catalog_training= catalog_bb[~catalog_bb.paudm_id.isin(catalog_test.paudm_id)]\n",
    "    catalog_nb_train = catalog_nb[catalog_nb.index.isin(catalog_training.paudm_id)]\n",
    "    \n",
    "    training_loader = BBNBz.create_loader(catalog_training,catalog_nb_train)\n",
    "    BBNBznet = BBNBz.train_mtl(training_loader, epochs = 65)\n",
    "    \n",
    "    \n",
    "    samps_BB_spec_test =  catalog_test[BB_list].values\n",
    "    samps_BB_colors_test = samps_BB_spec_test[:,:-1] - samps_BB_spec_test[:,1:]\n",
    "    samps_BB_colors_test = torch.Tensor(samps_BB_colors_test)\n",
    "    zb_test = catalog_test.target_zb.values\n",
    "    refid_test = catalog_test.paudm_id.values\n",
    "    _,logalphas, z,logzerr = BBNBznet(samps_BB_colors_test.cuda())\n",
    "    \n",
    "    alphas = torch.exp(logalphas)\n",
    "    zb = (alphas * z).sum(1)\n",
    "    zb,logzerr  = zb.detach().cpu().numpy(), logzerr.detach().cpu().numpy()\n",
    "\n",
    "    df = pd.DataFrame(np.c_[refid_test,zb,zb_test], columns = ['ref_id','zb','zb_true'])\n",
    "    df['rerr'] = (df.zb - df.zb_true) / (1 + df.zb_true)\n",
    "    print('Bias',np.nanmedian(df.rerr), 'scatter', sigma68(df.rerr))\n",
    "    \n",
    "    df_all = pd.concat((df_all,df),0) "
   ]
  },
  {
   "cell_type": "code",
   "execution_count": null,
   "id": "1719bc72-72f6-4de1-bc85-45ad85311247",
   "metadata": {},
   "outputs": [],
   "source": [
    "df_bbnbz = df_all.copy()"
   ]
  },
  {
   "cell_type": "code",
   "execution_count": null,
   "id": "efdbf516-4301-4160-a505-3ea61fbe10d9",
   "metadata": {},
   "outputs": [],
   "source": [
    "df_bb.to_csv('/data/astro/scratch/lcabayol/Euclid/referee_report/catalogues/df_bb.csv', header = True, sep =',')\n",
    "df_bbnb.to_csv('/data/astro/scratch/lcabayol/Euclid/referee_report/catalogues/df_bbnb.csv', header = True, sep =',')\n",
    "df_bbz.to_csv('/data/astro/scratch/lcabayol/Euclid/referee_report/catalogues/df_bbz.csv', header = True, sep =',')\n",
    "df_bbnbz.to_csv('/data/astro/scratch/lcabayol/Euclid/referee_report/catalogues/df_bbnbz.csv', header = True, sep =',')"
   ]
  },
  {
   "cell_type": "code",
   "execution_count": null,
   "id": "4cc5f3ea-2bfa-4c5a-8d76-4ab2c969f02d",
   "metadata": {},
   "outputs": [],
   "source": []
  }
 ],
 "metadata": {
  "kernelspec": {
   "display_name": "DLenv2",
   "language": "python",
   "name": "dlenv2"
  },
  "language_info": {
   "codemirror_mode": {
    "name": "ipython",
    "version": 3
   },
   "file_extension": ".py",
   "mimetype": "text/x-python",
   "name": "python",
   "nbconvert_exporter": "python",
   "pygments_lexer": "ipython3",
   "version": "3.9.7"
  }
 },
 "nbformat": 4,
 "nbformat_minor": 5
}
